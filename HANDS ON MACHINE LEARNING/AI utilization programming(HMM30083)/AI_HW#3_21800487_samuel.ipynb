{
  "nbformat": 4,
  "nbformat_minor": 0,
  "metadata": {
    "colab": {
      "name": "#AI_HW3_21800487_윤사무엘.ipynb",
      "provenance": [],
      "collapsed_sections": []
    },
    "kernelspec": {
      "display_name": "Python 3",
      "language": "python",
      "name": "python3"
    },
    "language_info": {
      "codemirror_mode": {
        "name": "ipython",
        "version": 3
      },
      "file_extension": ".py",
      "mimetype": "text/x-python",
      "name": "python",
      "nbconvert_exporter": "python",
      "pygments_lexer": "ipython3",
      "version": "3.6.8"
    },
    "accelerator": "GPU"
  },
  "cells": [
    {
      "cell_type": "markdown",
      "metadata": {
        "id": "nlvBRJZmFy2z"
      },
      "source": [
        "# HW3 - Deep Learning\n",
        "\n",
        "참고 모든 모델은 hyperparameter 튜닝 필요\n",
        "\n",
        "ex) kernel 초기화, activation function, normalizatino, regularization, optimizer 등등\n",
        "\n",
        "EPOCH수는 10~20(예시) 이상으로 해서, earlyStopping 적용 필요\n",
        "훈련하는데 너무 늦게 걸릴수 있기에 EPOCH수를 너무 크게 하는 것은 바람직하지 않습니다.\n",
        "\n",
        "그러나 Hands on Machine learning 가이드라인을 먼저 따라가보고,(11장) 성능을 올리게끔 바꿔보는 것을 권장합니다.\n",
        "\n",
        " 제가 구현한 모델보다 성능이 많이 떨어지는 것은 안됩니다. 비슷하거나 높으면 좋습니다.\n",
        "\n",
        "Or RandomizedSearchCV를 사용하는 것도 추천드리고 싶습니다!\n",
        "\n",
        "Or 노드 수나, layer수를 정하기에 너무 시간이 소요된다면, 핸즈온 책 등과 같은 곳에서 여러분의 model parameter를 선정한 이유를 기술 바랍니다^^\n",
        "\n",
        "\n",
        "다음 데이터셋 (Occupancy-detection-data)을 읽어들이고 Occupancy를 예측하는 딥러닝 모델을 구현하여라\n"
      ]
    },
    {
      "cell_type": "code",
      "metadata": {
        "colab": {
          "base_uri": "https://localhost:8080/"
        },
        "id": "ZzCRNTFuv2I6",
        "outputId": "bc5e7dd0-a56d-4030-c770-aae37fde393d"
      },
      "source": [
        "!pip install pyyaml h5py\n",
        "from keras.callbacks import EarlyStopping\n",
        "from keras.callbacks import ModelCheckpoint\n",
        "es=EarlyStopping(monitor='val_loss',min_delta=0,verbose=1,patience=5)\n",
        "mc=ModelCheckpoint('best_model.h5',monitor='val_loss',mode='min',save_best_only=True)"
      ],
      "execution_count": 1,
      "outputs": [
        {
          "output_type": "stream",
          "text": [
            "Requirement already satisfied: pyyaml in /usr/local/lib/python3.7/dist-packages (3.13)\n",
            "Requirement already satisfied: h5py in /usr/local/lib/python3.7/dist-packages (3.1.0)\n",
            "Requirement already satisfied: numpy>=1.14.5; python_version == \"3.7\" in /usr/local/lib/python3.7/dist-packages (from h5py) (1.19.5)\n",
            "Requirement already satisfied: cached-property; python_version < \"3.8\" in /usr/local/lib/python3.7/dist-packages (from h5py) (1.5.2)\n"
          ],
          "name": "stdout"
        }
      ]
    },
    {
      "cell_type": "markdown",
      "metadata": {
        "id": "1EEUun7kVzra"
      },
      "source": [
        "1. earlyStopping : 조기종료 조건으로 검증데이터에 대한오류( validation loss)값이 5 번이상 감소하지않는경우 학습종료하게 설정하였습니다. (**es**)\n",
        "2. 학습중 val_loss 가장 낮은 model에 checkpoint를 두어 해당 모델의 parameter를 저장하여 불러올수있게 하였습니다. (**mc**)"
      ]
    },
    {
      "cell_type": "code",
      "metadata": {
        "colab": {
          "base_uri": "https://localhost:8080/"
        },
        "id": "OjVh6qb_2y_x",
        "outputId": "4ae1cfeb-a50f-4406-950d-62044a95dd15"
      },
      "source": [
        "from google.colab import drive\n",
        "drive.mount('/content/gdrive')\n",
        "\n",
        "!git clone https://github.com/LuisM78/Occupancy-detection-data.git\n",
        "#link: https://github.com/LuisM78/Occupancy-detection-data"
      ],
      "execution_count": 2,
      "outputs": [
        {
          "output_type": "stream",
          "text": [
            "Drive already mounted at /content/gdrive; to attempt to forcibly remount, call drive.mount(\"/content/gdrive\", force_remount=True).\n",
            "fatal: destination path 'Occupancy-detection-data' already exists and is not an empty directory.\n"
          ],
          "name": "stdout"
        }
      ]
    },
    {
      "cell_type": "markdown",
      "metadata": {
        "id": "POHTFGohTcNA"
      },
      "source": [
        "## 0) 주어진 csv 파일(Occupancy-detection-data)을 읽어들이고 트레인셋과 테스트셋을 나눈 후, 간단한 통계량을 출력하시오\n",
        "  - pd.describe함수 사용\n",
        "  - matplotlib을 통해 데이터 플랏"
      ]
    },
    {
      "cell_type": "code",
      "metadata": {
        "colab": {
          "base_uri": "https://localhost:8080/",
          "height": 295
        },
        "id": "Iv1ldTFO5qdV",
        "outputId": "df4ae490-fd04-40dd-e6b7-dffbd9809266"
      },
      "source": [
        "import numpy as np\n",
        "import pandas as pd\n",
        "import matplotlib.pyplot as plt\n",
        "\n",
        "# trainset = np.genfromtxt(\"Occupancy-detection-data/datatest.txt\", delimiter=',',skip_header=1,\n",
        "#                       names=[\"index\", \"date\",\"Temperature\",\"Humidity\",\"Light\",\"CO2\",\"HumidityRatio\",\"Occupancy\"], dtype=None, encoding='ascii', usecols=(2,3,4,5,6,7))\n",
        "trainset = pd.read_csv(\"Occupancy-detection-data/datatraining.txt\")\n",
        "testset = pd.read_csv(\"Occupancy-detection-data/datatest.txt\")\n",
        "\n",
        "trainset.describe()"
      ],
      "execution_count": 3,
      "outputs": [
        {
          "output_type": "execute_result",
          "data": {
            "text/html": [
              "<div>\n",
              "<style scoped>\n",
              "    .dataframe tbody tr th:only-of-type {\n",
              "        vertical-align: middle;\n",
              "    }\n",
              "\n",
              "    .dataframe tbody tr th {\n",
              "        vertical-align: top;\n",
              "    }\n",
              "\n",
              "    .dataframe thead th {\n",
              "        text-align: right;\n",
              "    }\n",
              "</style>\n",
              "<table border=\"1\" class=\"dataframe\">\n",
              "  <thead>\n",
              "    <tr style=\"text-align: right;\">\n",
              "      <th></th>\n",
              "      <th>Temperature</th>\n",
              "      <th>Humidity</th>\n",
              "      <th>Light</th>\n",
              "      <th>CO2</th>\n",
              "      <th>HumidityRatio</th>\n",
              "      <th>Occupancy</th>\n",
              "    </tr>\n",
              "  </thead>\n",
              "  <tbody>\n",
              "    <tr>\n",
              "      <th>count</th>\n",
              "      <td>8143.000000</td>\n",
              "      <td>8143.000000</td>\n",
              "      <td>8143.000000</td>\n",
              "      <td>8143.000000</td>\n",
              "      <td>8143.000000</td>\n",
              "      <td>8143.000000</td>\n",
              "    </tr>\n",
              "    <tr>\n",
              "      <th>mean</th>\n",
              "      <td>20.619084</td>\n",
              "      <td>25.731507</td>\n",
              "      <td>119.519375</td>\n",
              "      <td>606.546243</td>\n",
              "      <td>0.003863</td>\n",
              "      <td>0.212330</td>\n",
              "    </tr>\n",
              "    <tr>\n",
              "      <th>std</th>\n",
              "      <td>1.016916</td>\n",
              "      <td>5.531211</td>\n",
              "      <td>194.755805</td>\n",
              "      <td>314.320877</td>\n",
              "      <td>0.000852</td>\n",
              "      <td>0.408982</td>\n",
              "    </tr>\n",
              "    <tr>\n",
              "      <th>min</th>\n",
              "      <td>19.000000</td>\n",
              "      <td>16.745000</td>\n",
              "      <td>0.000000</td>\n",
              "      <td>412.750000</td>\n",
              "      <td>0.002674</td>\n",
              "      <td>0.000000</td>\n",
              "    </tr>\n",
              "    <tr>\n",
              "      <th>25%</th>\n",
              "      <td>19.700000</td>\n",
              "      <td>20.200000</td>\n",
              "      <td>0.000000</td>\n",
              "      <td>439.000000</td>\n",
              "      <td>0.003078</td>\n",
              "      <td>0.000000</td>\n",
              "    </tr>\n",
              "    <tr>\n",
              "      <th>50%</th>\n",
              "      <td>20.390000</td>\n",
              "      <td>26.222500</td>\n",
              "      <td>0.000000</td>\n",
              "      <td>453.500000</td>\n",
              "      <td>0.003801</td>\n",
              "      <td>0.000000</td>\n",
              "    </tr>\n",
              "    <tr>\n",
              "      <th>75%</th>\n",
              "      <td>21.390000</td>\n",
              "      <td>30.533333</td>\n",
              "      <td>256.375000</td>\n",
              "      <td>638.833333</td>\n",
              "      <td>0.004352</td>\n",
              "      <td>0.000000</td>\n",
              "    </tr>\n",
              "    <tr>\n",
              "      <th>max</th>\n",
              "      <td>23.180000</td>\n",
              "      <td>39.117500</td>\n",
              "      <td>1546.333333</td>\n",
              "      <td>2028.500000</td>\n",
              "      <td>0.006476</td>\n",
              "      <td>1.000000</td>\n",
              "    </tr>\n",
              "  </tbody>\n",
              "</table>\n",
              "</div>"
            ],
            "text/plain": [
              "       Temperature     Humidity  ...  HumidityRatio    Occupancy\n",
              "count  8143.000000  8143.000000  ...    8143.000000  8143.000000\n",
              "mean     20.619084    25.731507  ...       0.003863     0.212330\n",
              "std       1.016916     5.531211  ...       0.000852     0.408982\n",
              "min      19.000000    16.745000  ...       0.002674     0.000000\n",
              "25%      19.700000    20.200000  ...       0.003078     0.000000\n",
              "50%      20.390000    26.222500  ...       0.003801     0.000000\n",
              "75%      21.390000    30.533333  ...       0.004352     0.000000\n",
              "max      23.180000    39.117500  ...       0.006476     1.000000\n",
              "\n",
              "[8 rows x 6 columns]"
            ]
          },
          "metadata": {
            "tags": []
          },
          "execution_count": 3
        }
      ]
    },
    {
      "cell_type": "code",
      "metadata": {
        "colab": {
          "base_uri": "https://localhost:8080/",
          "height": 301
        },
        "id": "jGkH_4Cm8i_Z",
        "outputId": "af6bdef2-60bb-4796-87da-81bfbf301f4d"
      },
      "source": [
        "from sklearn.preprocessing import MinMaxScaler\n",
        "print(trainset.shape)\n",
        "#print(trainset.col())\n",
        "X_train = trainset[[\"Temperature\",\"Humidity\",\"Light\",\"CO2\",\"HumidityRatio\"]]\n",
        "y_train = trainset[\"Occupancy\"]\n",
        "X_test = testset[[\"Temperature\",\"Humidity\",\"Light\",\"CO2\",\"HumidityRatio\"]]\n",
        "y_test = testset[\"Occupancy\"]\n",
        "\n",
        "\n",
        "# your code here\n",
        "scaler=MinMaxScaler()\n",
        "X_train_plot=X_train[[\"Temperature\",\"Humidity\",\"Light\",\"CO2\"]]\n",
        "X_train_plot=MinMaxScaler().fit_transform(X_train_plot)\n",
        "plt.plot(X_train_plot)\n",
        "plt.plot(y_train)\n",
        "plt.legend(labels=['Temperature','Humidity','Light','CO2','label'])\n"
      ],
      "execution_count": 4,
      "outputs": [
        {
          "output_type": "stream",
          "text": [
            "(8143, 7)\n"
          ],
          "name": "stdout"
        },
        {
          "output_type": "execute_result",
          "data": {
            "text/plain": [
              "<matplotlib.legend.Legend at 0x7faf0f309a50>"
            ]
          },
          "metadata": {
            "tags": []
          },
          "execution_count": 4
        },
        {
          "output_type": "display_data",
          "data": {
            "image/png": "[encoded data removed]",
            "text/plain": [
              "<Figure size 432x288 with 1 Axes>"
            ]
          },
          "metadata": {
            "tags": [],
            "needs_background": "light"
          }
        }
      ]
    },
    {
      "cell_type": "markdown",
      "metadata": {
        "id": "bOagQSh4GmP5"
      },
      "source": [
        "# 1) FFNN 구현\n",
        "## 1-1) 데이터셋을 생성하시오\n",
        "\n",
        "  - feature: [\"Temperature\", \"Humidity\", \"Light\", \"CO2\", \"HumidityRatio\"]\n",
        "  - label: \"Occupancy\""
      ]
    },
    {
      "cell_type": "code",
      "metadata": {
        "id": "C9Yy6byFpiHN"
      },
      "source": [
        "# feature 개수를 50개 늘린 효과 아래 함수 또한 코드 전체는 드리지 않습니다. 하지만 가장 어려운 부분을 드립니다.\n",
        "\n",
        "def split_data(X, y, shift):\n",
        "  X_split=[]\n",
        "  y_split=[]\n",
        "  for idx in range(shift, len(X)):\n",
        "    X_split.append(X[idx-shift:idx])\n",
        "    y_split.append([y[idx]])\n",
        "  return np.array(X_split), np.array(y_split)\n",
        "  \n",
        "\n",
        "  "
      ],
      "execution_count": 5,
      "outputs": []
    },
    {
      "cell_type": "code",
      "metadata": {
        "colab": {
          "base_uri": "https://localhost:8080/"
        },
        "id": "2C7kTAOpUtcw",
        "outputId": "6d7d3b09-fc48-447b-90d0-79c3a6a91f7f"
      },
      "source": [
        "import tensorflow as tf\n",
        "from tensorflow import keras\n",
        "from tensorflow.keras import layers\n",
        "\n",
        "\n",
        "\n",
        "BATCH_SIZE = 1\n",
        "EPOCHS = 5\n",
        "SHIFT = 10\n",
        "SHUFFLE_BUFFER_SIZE = 100\n",
        "\n",
        "\n",
        "#X_train, y_train을 split_data 함수로 data shape을 바꾸시오.\n",
        "X_train=scaler.fit_transform(X_train)\n",
        "X_train_s,y_train_s=split_data(X_train,y_train,SHIFT)\n",
        "X_test=scaler.transform(X_test)\n",
        "y_test_s1=y_test.reset_index(drop=True)\n",
        "X_test_s,y_test_s=split_data(X_test,y_test_s1,SHIFT)\n",
        "\n",
        "print(X_train_s.shape)\n",
        "print(y_train_s.shape)\n",
        "print(\"\\nsample X:\\n\", X_train_s[0],\"\\nsample y:\\n\", y_train_s[0])"
      ],
      "execution_count": 6,
      "outputs": [
        {
          "output_type": "stream",
          "text": [
            "(8133, 10, 5)\n",
            "(8133, 1)\n",
            "\n",
            "sample X:\n",
            " [[1.         0.47053302 0.27549041 0.190933   0.55731842]\n",
            " [0.99282297 0.47033188 0.27775383 0.18644592 0.55480723]\n",
            " [0.99282297 0.46932618 0.27549041 0.18613647 0.55376106]\n",
            " [0.99282297 0.46731478 0.27549041 0.1828872  0.55166876]\n",
            " [0.98086124 0.46731478 0.27549041 0.1805663  0.54785068]\n",
            " [0.98086124 0.46731478 0.27096357 0.17840012 0.54785068]\n",
            " [0.98086124 0.46731478 0.27096357 0.17881273 0.54785068]\n",
            " [0.98086124 0.46731478 0.27096357 0.17716231 0.54785068]\n",
            " [0.98086124 0.46731478 0.27096357 0.17117953 0.54785068]\n",
            " [0.97488038 0.46619734 0.27096357 0.17035432 0.54478846]] \n",
            "sample y:\n",
            " [1]\n"
          ],
          "name": "stdout"
        }
      ]
    },
    {
      "cell_type": "markdown",
      "metadata": {
        "id": "Nu__lEGgcM3s"
      },
      "source": [
        "## 1-2) FFNN모델을 생성한 후, 학습 및 검증하여 성능을 확인하여라. 그리고 하이퍼 파라미터 튜닝 등을 통해 성능을 올려보시오. \n"
      ]
    },
    {
      "cell_type": "code",
      "metadata": {
        "colab": {
          "base_uri": "https://localhost:8080/"
        },
        "id": "P8V27ZLYaoOu",
        "outputId": "d43adba9-84c6-4d99-db90-7c596a3623d0"
      },
      "source": [
        "model_ffnn=keras.Sequential([\n",
        "                        keras.layers.Flatten(input_shape=(10,5)),\n",
        "                        keras.layers.Dense(64,activation='relu'),\n",
        "                        keras.layers.Dense(32,activation='relu'),\n",
        "                        keras.layers.Dense(16,activation='relu'),\n",
        "                        keras.layers.Dense(8,activation='relu'),\n",
        "                        keras.layers.Dense(1,activation='sigmoid')\n",
        "])\n",
        "\n",
        "model_ffnn.summary()"
      ],
      "execution_count": 7,
      "outputs": [
        {
          "output_type": "stream",
          "text": [
            "Model: \"sequential\"\n",
            "_________________________________________________________________\n",
            "Layer (type)                 Output Shape              Param #   \n",
            "=================================================================\n",
            "flatten (Flatten)            (None, 50)                0         \n",
            "_________________________________________________________________\n",
            "dense (Dense)                (None, 64)                3264      \n",
            "_________________________________________________________________\n",
            "dense_1 (Dense)              (None, 32)                2080      \n",
            "_________________________________________________________________\n",
            "dense_2 (Dense)              (None, 16)                528       \n",
            "_________________________________________________________________\n",
            "dense_3 (Dense)              (None, 8)                 136       \n",
            "_________________________________________________________________\n",
            "dense_4 (Dense)              (None, 1)                 9         \n",
            "=================================================================\n",
            "Total params: 6,017\n",
            "Trainable params: 6,017\n",
            "Non-trainable params: 0\n",
            "_________________________________________________________________\n"
          ],
          "name": "stdout"
        }
      ]
    },
    {
      "cell_type": "markdown",
      "metadata": {
        "id": "n1qA2iNBWVFl"
      },
      "source": [
        "FFNN model학습 hidden layer의 node수는 2의 배수로 많이 하는 경향(웹,교재)이있기에 위와같이 설정하였습니다\n",
        "\n",
        "이하 Occupancy prediction 모델링에서는 **훈련데이터 : 6506 , 검증데이터 : 1627 ,  테스트데이터 : 2655** 로 진행\n",
        "\n",
        "이진분류이기때문에 교재에 나온대로 손실함수로 '**binary_crossentropy**', FFNN 마지막 출력층에 '**sigmoid**' 활성화함수를 사용했습니다.\n",
        "다양한 optimizer를 사용해봤지만 '**adam**' 가장 준수한 성능을 보여 과제내의 대부분의 모델에 adam optimizer를 사용하였습니다. "
      ]
    },
    {
      "cell_type": "code",
      "metadata": {
        "colab": {
          "base_uri": "https://localhost:8080/"
        },
        "id": "dgvt5PiuuRUz",
        "outputId": "b8a7493b-c840-4709-f936-0efd5bac0872"
      },
      "source": [
        "model_ffnn.compile(loss='binary_crossentropy',\n",
        "              optimizer='adam',\n",
        "              metrics=['accuracy'])\n",
        "model_ffnn.fit(X_train_s,y_train_s,epochs=7,batch_size=BATCH_SIZE,validation_split=0.2,callbacks=[es,mc])"
      ],
      "execution_count": 8,
      "outputs": [
        {
          "output_type": "stream",
          "text": [
            "Epoch 1/7\n",
            "6506/6506 [==============================] - 11s 2ms/step - loss: 0.0829 - accuracy: 0.9751 - val_loss: 0.2034 - val_accuracy: 0.9545\n",
            "Epoch 2/7\n",
            "6506/6506 [==============================] - 10s 2ms/step - loss: 0.0619 - accuracy: 0.9834 - val_loss: 0.4219 - val_accuracy: 0.9398\n",
            "Epoch 3/7\n",
            "6506/6506 [==============================] - 10s 2ms/step - loss: 0.0577 - accuracy: 0.9836 - val_loss: 0.1654 - val_accuracy: 0.9287\n",
            "Epoch 4/7\n",
            "6506/6506 [==============================] - 10s 1ms/step - loss: 0.0551 - accuracy: 0.9846 - val_loss: 0.2173 - val_accuracy: 0.9582\n",
            "Epoch 5/7\n",
            "6506/6506 [==============================] - 10s 2ms/step - loss: 0.0527 - accuracy: 0.9845 - val_loss: 0.5039 - val_accuracy: 0.9416\n",
            "Epoch 6/7\n",
            "6506/6506 [==============================] - 10s 2ms/step - loss: 0.0522 - accuracy: 0.9845 - val_loss: 0.0928 - val_accuracy: 0.9736\n",
            "Epoch 7/7\n",
            "6506/6506 [==============================] - 10s 2ms/step - loss: 0.0498 - accuracy: 0.9856 - val_loss: 0.6717 - val_accuracy: 0.9348\n"
          ],
          "name": "stdout"
        },
        {
          "output_type": "execute_result",
          "data": {
            "text/plain": [
              "<tensorflow.python.keras.callbacks.History at 0x7faf0ecae5d0>"
            ]
          },
          "metadata": {
            "tags": []
          },
          "execution_count": 8
        }
      ]
    },
    {
      "cell_type": "code",
      "metadata": {
        "colab": {
          "base_uri": "https://localhost:8080/"
        },
        "id": "erbBAQwL487U",
        "outputId": "35002887-8a1d-4930-bb19-4525777301ec"
      },
      "source": [
        "model_ffnn.evaluate(X_test_s,y_test_s,batch_size=BATCH_SIZE)"
      ],
      "execution_count": 9,
      "outputs": [
        {
          "output_type": "stream",
          "text": [
            "2655/2655 [==============================] - 2s 930us/step - loss: 0.1483 - accuracy: 0.9661\n"
          ],
          "name": "stdout"
        },
        {
          "output_type": "execute_result",
          "data": {
            "text/plain": [
              "[0.14834089577198029, 0.9661017060279846]"
            ]
          },
          "metadata": {
            "tags": []
          },
          "execution_count": 9
        }
      ]
    },
    {
      "cell_type": "code",
      "metadata": {
        "colab": {
          "base_uri": "https://localhost:8080/",
          "height": 283
        },
        "id": "_1H94TahKvp_",
        "outputId": "1a32a184-93b1-4ff8-93ad-cf390cb84d58"
      },
      "source": [
        "import matplotlib.pyplot as plt\n",
        "y_predict = model_ffnn.predict(X_test_s)\n",
        "# print(y_predict.shape)\n",
        "# print(X_test_s.shape)\n",
        "plt.plot(y_predict, 'blue')\n",
        "plt.plot(y_test_s, 'red')\n"
      ],
      "execution_count": 10,
      "outputs": [
        {
          "output_type": "execute_result",
          "data": {
            "text/plain": [
              "[<matplotlib.lines.Line2D at 0x7faf091a2dd0>]"
            ]
          },
          "metadata": {
            "tags": []
          },
          "execution_count": 10
        },
        {
          "output_type": "display_data",
          "data": {
            "image/png": "[encoded data removed]",
            "text/plain": [
              "<Figure size 432x288 with 1 Axes>"
            ]
          },
          "metadata": {
            "tags": [],
            "needs_background": "light"
          }
        }
      ]
    },
    {
      "cell_type": "markdown",
      "metadata": {
        "id": "lsm3L8G8dG_e"
      },
      "source": [
        "# 2) CNN 구현\n",
        "# 2-1) MNIST 데이터셋을 읽어들이고 학습을 위한 데이터셋을 생성하시오"
      ]
    },
    {
      "cell_type": "code",
      "metadata": {
        "colab": {
          "base_uri": "https://localhost:8080/"
        },
        "id": "JA1nprjVc9Ek",
        "outputId": "22587545-5780-4c43-83c1-fae278c05f5a"
      },
      "source": [
        "!ls sample_data\n",
        "train_data_cnn = np.loadtxt('sample_data/mnist_train_small.csv', delimiter=',')\n",
        "X_train_cnn = train_data_cnn[:, 1:].reshape(-1,28,28)/ 255\n",
        "y_train_cnn = train_data_cnn[:, 0]\n",
        "\n",
        "test_data_cnn = np.loadtxt('sample_data/mnist_test.csv', delimiter=',')\n",
        "X_test_cnn = test_data_cnn[:, 1:].reshape(-1,28,28)/255\n",
        "y_test_cnn = test_data_cnn[:, 0]\n",
        "\n"
      ],
      "execution_count": 11,
      "outputs": [
        {
          "output_type": "stream",
          "text": [
            "anscombe.json\t\t      mnist_test.csv\n",
            "california_housing_test.csv   mnist_train_small.csv\n",
            "california_housing_train.csv  README.md\n"
          ],
          "name": "stdout"
        }
      ]
    },
    {
      "cell_type": "code",
      "metadata": {
        "id": "whJVUDmgeP4q"
      },
      "source": [
        "# your code here\n",
        "X_train_cnn_s=X_train_cnn.reshape((20000,28,28,1))\n",
        "X_test_cnn_s=X_test_cnn.reshape((10000,28,28,1))\n"
      ],
      "execution_count": 12,
      "outputs": []
    },
    {
      "cell_type": "code",
      "metadata": {
        "colab": {
          "base_uri": "https://localhost:8080/"
        },
        "id": "PDJ2Jj7H04at",
        "outputId": "c9462076-83ac-49c2-921f-1caa7380cc91"
      },
      "source": [
        "X_train_cnn_s.shape"
      ],
      "execution_count": 13,
      "outputs": [
        {
          "output_type": "execute_result",
          "data": {
            "text/plain": [
              "(20000, 28, 28, 1)"
            ]
          },
          "metadata": {
            "tags": []
          },
          "execution_count": 13
        }
      ]
    },
    {
      "cell_type": "markdown",
      "metadata": {
        "id": "AymKZZsTgTHO"
      },
      "source": [
        "# 2-2) 모델을 학습/ 평가 하시오\n",
        "\n",
        "  - parameter/ structure를 바꿔가며 성능을 향상시키시오\n",
        "  - 설마, 아래 출력된 모델 그대로 가시는 분 없겠죠? 모든 모델은 저와 달라야 합니다."
      ]
    },
    {
      "cell_type": "code",
      "metadata": {
        "colab": {
          "base_uri": "https://localhost:8080/"
        },
        "id": "e61ESVmFfn2q",
        "outputId": "84f59286-50bb-4d63-b39e-54b95f887629"
      },
      "source": [
        "model_cnn=keras.Sequential()\n",
        "model_cnn.add(keras.layers.Conv2D(32,(3,3),activation='relu',input_shape=(28,28,1)))\n",
        "model_cnn.add(keras.layers.MaxPooling2D((2,2)))\n",
        "model_cnn.add(keras.layers.Conv2D(64,(3,3),activation='relu'))\n",
        "model_cnn.add(keras.layers.MaxPooling2D((2,2)))\n",
        "model_cnn.add(keras.layers.Conv2D(64,(3,3),activation='relu'))\n",
        "model_cnn.add(keras.layers.Flatten())\n",
        "model_cnn.add(keras.layers.Dense(64,activation='relu'))\n",
        "model_cnn.add(keras.layers.Dense(10,activation='softmax'))\n",
        "model_cnn.summary()"
      ],
      "execution_count": 14,
      "outputs": [
        {
          "output_type": "stream",
          "text": [
            "Model: \"sequential_1\"\n",
            "_________________________________________________________________\n",
            "Layer (type)                 Output Shape              Param #   \n",
            "=================================================================\n",
            "conv2d (Conv2D)              (None, 26, 26, 32)        320       \n",
            "_________________________________________________________________\n",
            "max_pooling2d (MaxPooling2D) (None, 13, 13, 32)        0         \n",
            "_________________________________________________________________\n",
            "conv2d_1 (Conv2D)            (None, 11, 11, 64)        18496     \n",
            "_________________________________________________________________\n",
            "max_pooling2d_1 (MaxPooling2 (None, 5, 5, 64)          0         \n",
            "_________________________________________________________________\n",
            "conv2d_2 (Conv2D)            (None, 3, 3, 64)          36928     \n",
            "_________________________________________________________________\n",
            "flatten_1 (Flatten)          (None, 576)               0         \n",
            "_________________________________________________________________\n",
            "dense_5 (Dense)              (None, 64)                36928     \n",
            "_________________________________________________________________\n",
            "dense_6 (Dense)              (None, 10)                650       \n",
            "=================================================================\n",
            "Total params: 93,322\n",
            "Trainable params: 93,322\n",
            "Non-trainable params: 0\n",
            "_________________________________________________________________\n"
          ],
          "name": "stdout"
        }
      ]
    },
    {
      "cell_type": "markdown",
      "metadata": {
        "id": "DJPNAgfuX2v1"
      },
      "source": [
        "multi classification : loss func - sparse_categorical_crossentropy' 사용, 및 모델은 교재참고"
      ]
    },
    {
      "cell_type": "code",
      "metadata": {
        "colab": {
          "base_uri": "https://localhost:8080/"
        },
        "id": "lDWFSbDCfvWE",
        "outputId": "d5dc75a5-dcc6-4548-b771-16cb419af4ae"
      },
      "source": [
        "model_cnn.compile(optimizer='adam',\n",
        "              loss='sparse_categorical_crossentropy',\n",
        "              metrics=['accuracy'])\n",
        "model_cnn.fit(X_train_cnn_s,y_train_cnn,epochs=15,validation_split=0.15,callbacks=[es,mc])"
      ],
      "execution_count": 15,
      "outputs": [
        {
          "output_type": "stream",
          "text": [
            "Epoch 1/15\n",
            "532/532 [==============================] - 17s 31ms/step - loss: 0.3049 - accuracy: 0.9058 - val_loss: 0.1551 - val_accuracy: 0.9517\n",
            "Epoch 2/15\n",
            "532/532 [==============================] - 16s 31ms/step - loss: 0.0795 - accuracy: 0.9745 - val_loss: 0.0678 - val_accuracy: 0.9773\n",
            "Epoch 3/15\n",
            "532/532 [==============================] - 16s 30ms/step - loss: 0.0508 - accuracy: 0.9848 - val_loss: 0.0708 - val_accuracy: 0.9787\n",
            "Epoch 4/15\n",
            "532/532 [==============================] - 16s 31ms/step - loss: 0.0400 - accuracy: 0.9878 - val_loss: 0.0602 - val_accuracy: 0.9823\n",
            "Epoch 5/15\n",
            "532/532 [==============================] - 16s 31ms/step - loss: 0.0298 - accuracy: 0.9899 - val_loss: 0.0551 - val_accuracy: 0.9840\n",
            "Epoch 6/15\n",
            "532/532 [==============================] - 16s 31ms/step - loss: 0.0251 - accuracy: 0.9915 - val_loss: 0.0577 - val_accuracy: 0.9857\n",
            "Epoch 7/15\n",
            "532/532 [==============================] - 17s 31ms/step - loss: 0.0179 - accuracy: 0.9938 - val_loss: 0.0628 - val_accuracy: 0.9843\n",
            "Epoch 8/15\n",
            "532/532 [==============================] - 16s 31ms/step - loss: 0.0178 - accuracy: 0.9945 - val_loss: 0.0545 - val_accuracy: 0.9857\n",
            "Epoch 9/15\n",
            "532/532 [==============================] - 16s 31ms/step - loss: 0.0133 - accuracy: 0.9955 - val_loss: 0.0678 - val_accuracy: 0.9850\n",
            "Epoch 10/15\n",
            "532/532 [==============================] - 16s 31ms/step - loss: 0.0110 - accuracy: 0.9966 - val_loss: 0.0613 - val_accuracy: 0.9873\n",
            "Epoch 11/15\n",
            "532/532 [==============================] - 16s 30ms/step - loss: 0.0109 - accuracy: 0.9964 - val_loss: 0.0735 - val_accuracy: 0.9847\n",
            "Epoch 12/15\n",
            "532/532 [==============================] - 16s 30ms/step - loss: 0.0105 - accuracy: 0.9962 - val_loss: 0.0853 - val_accuracy: 0.9823\n",
            "Epoch 13/15\n",
            "532/532 [==============================] - 16s 31ms/step - loss: 0.0070 - accuracy: 0.9976 - val_loss: 0.0679 - val_accuracy: 0.9870\n",
            "Epoch 00013: early stopping\n"
          ],
          "name": "stdout"
        },
        {
          "output_type": "execute_result",
          "data": {
            "text/plain": [
              "<tensorflow.python.keras.callbacks.History at 0x7faf08c32a50>"
            ]
          },
          "metadata": {
            "tags": []
          },
          "execution_count": 15
        }
      ]
    },
    {
      "cell_type": "code",
      "metadata": {
        "colab": {
          "base_uri": "https://localhost:8080/"
        },
        "id": "dSD4iUxmf7Kh",
        "outputId": "cebc17ac-cc7f-46ed-b430-7b63b4758023"
      },
      "source": [
        "model_cnn.evaluate(X_test_cnn_s,y_test_cnn,verbose=2)"
      ],
      "execution_count": 16,
      "outputs": [
        {
          "output_type": "stream",
          "text": [
            "313/313 - 2s - loss: 0.0482 - accuracy: 0.9889\n"
          ],
          "name": "stdout"
        },
        {
          "output_type": "execute_result",
          "data": {
            "text/plain": [
              "[0.04819174110889435, 0.9889000058174133]"
            ]
          },
          "metadata": {
            "tags": []
          },
          "execution_count": 16
        }
      ]
    },
    {
      "cell_type": "markdown",
      "metadata": {
        "id": "EYhtW45aU5zh"
      },
      "source": [
        "# 3) RNN 구현\n",
        "(CNN에서 사용했던 MNIST 데이터셋 사용 X)\n",
        "\n",
        "이전에 FCNN에 사용했던 Occupancy 데이터셋에 RNN을 적용하고 FFNN과 성능을 비교하여라\n",
        "\n",
        "## 3-1) 데이터셋을 생성하시오. \n",
        "  - 주어진 데이터셋을 가지고 1개 이상의 입력 시퀀스의 길이를 가진 timeseries데이터를 생성하시오\n",
        "  - tf.data.Dataset.from_tensor_slices() 함수를 통해 텐서플로우 데이터셋을 생성하시오"
      ]
    },
    {
      "cell_type": "code",
      "metadata": {
        "colab": {
          "base_uri": "https://localhost:8080/",
          "height": 202
        },
        "id": "NwxJCgTOi6aI",
        "outputId": "b2f9c769-50e9-490c-c43e-b0193e1b1a3c"
      },
      "source": [
        "trainset.head()"
      ],
      "execution_count": 17,
      "outputs": [
        {
          "output_type": "execute_result",
          "data": {
            "text/html": [
              "<div>\n",
              "<style scoped>\n",
              "    .dataframe tbody tr th:only-of-type {\n",
              "        vertical-align: middle;\n",
              "    }\n",
              "\n",
              "    .dataframe tbody tr th {\n",
              "        vertical-align: top;\n",
              "    }\n",
              "\n",
              "    .dataframe thead th {\n",
              "        text-align: right;\n",
              "    }\n",
              "</style>\n",
              "<table border=\"1\" class=\"dataframe\">\n",
              "  <thead>\n",
              "    <tr style=\"text-align: right;\">\n",
              "      <th></th>\n",
              "      <th>date</th>\n",
              "      <th>Temperature</th>\n",
              "      <th>Humidity</th>\n",
              "      <th>Light</th>\n",
              "      <th>CO2</th>\n",
              "      <th>HumidityRatio</th>\n",
              "      <th>Occupancy</th>\n",
              "    </tr>\n",
              "  </thead>\n",
              "  <tbody>\n",
              "    <tr>\n",
              "      <th>1</th>\n",
              "      <td>2015-02-04 17:51:00</td>\n",
              "      <td>23.18</td>\n",
              "      <td>27.2720</td>\n",
              "      <td>426.0</td>\n",
              "      <td>721.25</td>\n",
              "      <td>0.004793</td>\n",
              "      <td>1</td>\n",
              "    </tr>\n",
              "    <tr>\n",
              "      <th>2</th>\n",
              "      <td>2015-02-04 17:51:59</td>\n",
              "      <td>23.15</td>\n",
              "      <td>27.2675</td>\n",
              "      <td>429.5</td>\n",
              "      <td>714.00</td>\n",
              "      <td>0.004783</td>\n",
              "      <td>1</td>\n",
              "    </tr>\n",
              "    <tr>\n",
              "      <th>3</th>\n",
              "      <td>2015-02-04 17:53:00</td>\n",
              "      <td>23.15</td>\n",
              "      <td>27.2450</td>\n",
              "      <td>426.0</td>\n",
              "      <td>713.50</td>\n",
              "      <td>0.004779</td>\n",
              "      <td>1</td>\n",
              "    </tr>\n",
              "    <tr>\n",
              "      <th>4</th>\n",
              "      <td>2015-02-04 17:54:00</td>\n",
              "      <td>23.15</td>\n",
              "      <td>27.2000</td>\n",
              "      <td>426.0</td>\n",
              "      <td>708.25</td>\n",
              "      <td>0.004772</td>\n",
              "      <td>1</td>\n",
              "    </tr>\n",
              "    <tr>\n",
              "      <th>5</th>\n",
              "      <td>2015-02-04 17:55:00</td>\n",
              "      <td>23.10</td>\n",
              "      <td>27.2000</td>\n",
              "      <td>426.0</td>\n",
              "      <td>704.50</td>\n",
              "      <td>0.004757</td>\n",
              "      <td>1</td>\n",
              "    </tr>\n",
              "  </tbody>\n",
              "</table>\n",
              "</div>"
            ],
            "text/plain": [
              "                  date  Temperature  Humidity  ...     CO2  HumidityRatio  Occupancy\n",
              "1  2015-02-04 17:51:00        23.18   27.2720  ...  721.25       0.004793          1\n",
              "2  2015-02-04 17:51:59        23.15   27.2675  ...  714.00       0.004783          1\n",
              "3  2015-02-04 17:53:00        23.15   27.2450  ...  713.50       0.004779          1\n",
              "4  2015-02-04 17:54:00        23.15   27.2000  ...  708.25       0.004772          1\n",
              "5  2015-02-04 17:55:00        23.10   27.2000  ...  704.50       0.004757          1\n",
              "\n",
              "[5 rows x 7 columns]"
            ]
          },
          "metadata": {
            "tags": []
          },
          "execution_count": 17
        }
      ]
    },
    {
      "cell_type": "code",
      "metadata": {
        "id": "G1aOEkhKemjn"
      },
      "source": [
        "trainset"
      ],
      "execution_count": null,
      "outputs": []
    },
    {
      "cell_type": "code",
      "metadata": {
        "colab": {
          "base_uri": "https://localhost:8080/"
        },
        "id": "UfcpYFfzZgKv",
        "outputId": "6b17da4a-6bc0-4df8-9b8b-ea5b55710070"
      },
      "source": [
        "train_time_series = trainset.iloc[:6506,]\n",
        "valid_time_series = trainset.iloc[6506:,]\n",
        "train_time_series['date']=pd.to_datetime(train_time_series['date'])\n",
        "train_time_series.reset_index(drop=True,inplace=True)\n",
        "valid_time_series.reset_index(drop=True,inplace=True)\n",
        "train_time_series.set_index('date',inplace=True)\n",
        "valid_time_series.set_index('date',inplace=True)"
      ],
      "execution_count": 18,
      "outputs": [
        {
          "output_type": "stream",
          "text": [
            "/usr/local/lib/python3.7/dist-packages/ipykernel_launcher.py:3: SettingWithCopyWarning: \n",
            "A value is trying to be set on a copy of a slice from a DataFrame.\n",
            "Try using .loc[row_indexer,col_indexer] = value instead\n",
            "\n",
            "See the caveats in the documentation: https://pandas.pydata.org/pandas-docs/stable/user_guide/indexing.html#returning-a-view-versus-a-copy\n",
            "  This is separate from the ipykernel package so we can avoid doing imports until\n"
          ],
          "name": "stderr"
        }
      ]
    },
    {
      "cell_type": "code",
      "metadata": {
        "colab": {
          "base_uri": "https://localhost:8080/",
          "height": 879
        },
        "id": "3V8fF-zsnx5V",
        "outputId": "f6927bae-e067-4951-c3a0-f5eaa0134d80"
      },
      "source": [
        "scaler3=MinMaxScaler()\n",
        "columns=['Temperature','Humidity','Light','CO2','HumidityRatio']\n",
        "scaler3.fit(np.array(trainset[columns].to_numpy()))\n",
        "train_time_series[columns]=scaler3.transform(np.array(train_time_series[columns]))\n",
        "valid_time_series[columns]=scaler3.transform(np.array(valid_time_series[columns]))\n",
        "train_time_series"
      ],
      "execution_count": 19,
      "outputs": [
        {
          "output_type": "stream",
          "text": [
            "/usr/local/lib/python3.7/dist-packages/ipykernel_launcher.py:4: SettingWithCopyWarning: \n",
            "A value is trying to be set on a copy of a slice from a DataFrame.\n",
            "Try using .loc[row_indexer,col_indexer] = value instead\n",
            "\n",
            "See the caveats in the documentation: https://pandas.pydata.org/pandas-docs/stable/user_guide/indexing.html#returning-a-view-versus-a-copy\n",
            "  after removing the cwd from sys.path.\n",
            "/usr/local/lib/python3.7/dist-packages/pandas/core/indexing.py:1734: SettingWithCopyWarning: \n",
            "A value is trying to be set on a copy of a slice from a DataFrame.\n",
            "Try using .loc[row_indexer,col_indexer] = value instead\n",
            "\n",
            "See the caveats in the documentation: https://pandas.pydata.org/pandas-docs/stable/user_guide/indexing.html#returning-a-view-versus-a-copy\n",
            "  isetter(loc, value[:, i].tolist())\n",
            "/usr/local/lib/python3.7/dist-packages/ipykernel_launcher.py:5: SettingWithCopyWarning: \n",
            "A value is trying to be set on a copy of a slice from a DataFrame.\n",
            "Try using .loc[row_indexer,col_indexer] = value instead\n",
            "\n",
            "See the caveats in the documentation: https://pandas.pydata.org/pandas-docs/stable/user_guide/indexing.html#returning-a-view-versus-a-copy\n",
            "  \"\"\"\n",
            "/usr/local/lib/python3.7/dist-packages/pandas/core/indexing.py:1734: SettingWithCopyWarning: \n",
            "A value is trying to be set on a copy of a slice from a DataFrame.\n",
            "Try using .loc[row_indexer,col_indexer] = value instead\n",
            "\n",
            "See the caveats in the documentation: https://pandas.pydata.org/pandas-docs/stable/user_guide/indexing.html#returning-a-view-versus-a-copy\n",
            "  isetter(loc, value[:, i].tolist())\n"
          ],
          "name": "stderr"
        },
        {
          "output_type": "execute_result",
          "data": {
            "text/html": [
              "<div>\n",
              "<style scoped>\n",
              "    .dataframe tbody tr th:only-of-type {\n",
              "        vertical-align: middle;\n",
              "    }\n",
              "\n",
              "    .dataframe tbody tr th {\n",
              "        vertical-align: top;\n",
              "    }\n",
              "\n",
              "    .dataframe thead th {\n",
              "        text-align: right;\n",
              "    }\n",
              "</style>\n",
              "<table border=\"1\" class=\"dataframe\">\n",
              "  <thead>\n",
              "    <tr style=\"text-align: right;\">\n",
              "      <th></th>\n",
              "      <th>Temperature</th>\n",
              "      <th>Humidity</th>\n",
              "      <th>Light</th>\n",
              "      <th>CO2</th>\n",
              "      <th>HumidityRatio</th>\n",
              "      <th>Occupancy</th>\n",
              "    </tr>\n",
              "    <tr>\n",
              "      <th>date</th>\n",
              "      <th></th>\n",
              "      <th></th>\n",
              "      <th></th>\n",
              "      <th></th>\n",
              "      <th></th>\n",
              "      <th></th>\n",
              "    </tr>\n",
              "  </thead>\n",
              "  <tbody>\n",
              "    <tr>\n",
              "      <th>2015-02-04 17:51:00</th>\n",
              "      <td>1.000000</td>\n",
              "      <td>0.470533</td>\n",
              "      <td>0.275490</td>\n",
              "      <td>0.190933</td>\n",
              "      <td>0.557318</td>\n",
              "      <td>1</td>\n",
              "    </tr>\n",
              "    <tr>\n",
              "      <th>2015-02-04 17:51:59</th>\n",
              "      <td>0.992823</td>\n",
              "      <td>0.470332</td>\n",
              "      <td>0.277754</td>\n",
              "      <td>0.186446</td>\n",
              "      <td>0.554807</td>\n",
              "      <td>1</td>\n",
              "    </tr>\n",
              "    <tr>\n",
              "      <th>2015-02-04 17:53:00</th>\n",
              "      <td>0.992823</td>\n",
              "      <td>0.469326</td>\n",
              "      <td>0.275490</td>\n",
              "      <td>0.186136</td>\n",
              "      <td>0.553761</td>\n",
              "      <td>1</td>\n",
              "    </tr>\n",
              "    <tr>\n",
              "      <th>2015-02-04 17:54:00</th>\n",
              "      <td>0.992823</td>\n",
              "      <td>0.467315</td>\n",
              "      <td>0.275490</td>\n",
              "      <td>0.182887</td>\n",
              "      <td>0.551669</td>\n",
              "      <td>1</td>\n",
              "    </tr>\n",
              "    <tr>\n",
              "      <th>2015-02-04 17:55:00</th>\n",
              "      <td>0.980861</td>\n",
              "      <td>0.467315</td>\n",
              "      <td>0.275490</td>\n",
              "      <td>0.180566</td>\n",
              "      <td>0.547851</td>\n",
              "      <td>1</td>\n",
              "    </tr>\n",
              "    <tr>\n",
              "      <th>...</th>\n",
              "      <td>...</td>\n",
              "      <td>...</td>\n",
              "      <td>...</td>\n",
              "      <td>...</td>\n",
              "      <td>...</td>\n",
              "      <td>...</td>\n",
              "    </tr>\n",
              "    <tr>\n",
              "      <th>2015-02-09 06:11:59</th>\n",
              "      <td>0.119617</td>\n",
              "      <td>0.436026</td>\n",
              "      <td>0.000000</td>\n",
              "      <td>0.033576</td>\n",
              "      <td>0.272517</td>\n",
              "      <td>0</td>\n",
              "    </tr>\n",
              "    <tr>\n",
              "      <th>2015-02-09 06:13:00</th>\n",
              "      <td>0.119617</td>\n",
              "      <td>0.436026</td>\n",
              "      <td>0.000000</td>\n",
              "      <td>0.032028</td>\n",
              "      <td>0.272517</td>\n",
              "      <td>0</td>\n",
              "    </tr>\n",
              "    <tr>\n",
              "      <th>2015-02-09 06:14:00</th>\n",
              "      <td>0.119617</td>\n",
              "      <td>0.436026</td>\n",
              "      <td>0.000000</td>\n",
              "      <td>0.035432</td>\n",
              "      <td>0.272517</td>\n",
              "      <td>0</td>\n",
              "    </tr>\n",
              "    <tr>\n",
              "      <th>2015-02-09 06:15:00</th>\n",
              "      <td>0.119617</td>\n",
              "      <td>0.436026</td>\n",
              "      <td>0.000000</td>\n",
              "      <td>0.033266</td>\n",
              "      <td>0.272517</td>\n",
              "      <td>0</td>\n",
              "    </tr>\n",
              "    <tr>\n",
              "      <th>2015-02-09 06:16:00</th>\n",
              "      <td>0.106459</td>\n",
              "      <td>0.433568</td>\n",
              "      <td>0.000000</td>\n",
              "      <td>0.032338</td>\n",
              "      <td>0.267134</td>\n",
              "      <td>0</td>\n",
              "    </tr>\n",
              "  </tbody>\n",
              "</table>\n",
              "<p>6506 rows × 6 columns</p>\n",
              "</div>"
            ],
            "text/plain": [
              "                     Temperature  Humidity  ...  HumidityRatio  Occupancy\n",
              "date                                        ...                          \n",
              "2015-02-04 17:51:00     1.000000  0.470533  ...       0.557318          1\n",
              "2015-02-04 17:51:59     0.992823  0.470332  ...       0.554807          1\n",
              "2015-02-04 17:53:00     0.992823  0.469326  ...       0.553761          1\n",
              "2015-02-04 17:54:00     0.992823  0.467315  ...       0.551669          1\n",
              "2015-02-04 17:55:00     0.980861  0.467315  ...       0.547851          1\n",
              "...                          ...       ...  ...            ...        ...\n",
              "2015-02-09 06:11:59     0.119617  0.436026  ...       0.272517          0\n",
              "2015-02-09 06:13:00     0.119617  0.436026  ...       0.272517          0\n",
              "2015-02-09 06:14:00     0.119617  0.436026  ...       0.272517          0\n",
              "2015-02-09 06:15:00     0.119617  0.436026  ...       0.272517          0\n",
              "2015-02-09 06:16:00     0.106459  0.433568  ...       0.267134          0\n",
              "\n",
              "[6506 rows x 6 columns]"
            ]
          },
          "metadata": {
            "tags": []
          },
          "execution_count": 19
        }
      ]
    },
    {
      "cell_type": "markdown",
      "metadata": {
        "id": "fDmzyiXZpefP"
      },
      "source": [
        "1번 FFNN에서 생성한 데이터셋이 이미 우리가 원하는 다변량 Timeseries데이터와 동일하므로 전처리는 여기까지만 진행하였습니다.\n",
        "\n",
        "**텐서플로우 데이터셋 생성**\n"
      ]
    },
    {
      "cell_type": "code",
      "metadata": {
        "id": "nMdYLG4dzJrx"
      },
      "source": [
        "full_train_rnn=tf.data.Dataset.from_tensor_slices((X_train_s,y_train_s)).batch(1).prefetch(1)\n",
        "train_rnn=full_train_rnn.take(6506) # 훈련데이터\n",
        "valid_rnn=full_train_rnn.skip(6506) # 검증데이터 \n",
        "test_rnn=tf.data.Dataset.from_tensor_slices((X_test_s,y_test_s)).batch(1).prefetch(1) # 테스트 데이터"
      ],
      "execution_count": 20,
      "outputs": []
    },
    {
      "cell_type": "markdown",
      "metadata": {
        "id": "xVT7tN7RZcEh"
      },
      "source": [
        "## 3-2) 모델을 학습/ 평가 하시오\n",
        "\n",
        "  - parameter/ structure를 바꿔가며 성능을 향상시키시오"
      ]
    },
    {
      "cell_type": "code",
      "metadata": {
        "colab": {
          "base_uri": "https://localhost:8080/"
        },
        "id": "EzGLKr8j9MJt",
        "outputId": "4dd300f0-1e09-46bb-a98c-99d4f2617607"
      },
      "source": [
        "model_rnn_A=keras.Sequential()\n",
        "model_rnn_A.add(keras.layers.LSTM(64,activation='tanh',return_sequences=True,input_shape=(10,5)))\n",
        "model_rnn_A.add(keras.layers.LSTM(32,activation='tanh',return_sequences=True))\n",
        "model_rnn_A.add(keras.layers.LSTM(16,activation='tanh',return_sequences=True))\n",
        "model_rnn_A.add(keras.layers.LSTM(8,activation='tanh',return_sequences=True))\n",
        "model_rnn_A.add(keras.layers.TimeDistributed(keras.layers.Dense(1,activation='sigmoid')))\n",
        "model_rnn_A.summary()"
      ],
      "execution_count": 21,
      "outputs": [
        {
          "output_type": "stream",
          "text": [
            "Model: \"sequential_2\"\n",
            "_________________________________________________________________\n",
            "Layer (type)                 Output Shape              Param #   \n",
            "=================================================================\n",
            "lstm (LSTM)                  (None, 10, 64)            17920     \n",
            "_________________________________________________________________\n",
            "lstm_1 (LSTM)                (None, 10, 32)            12416     \n",
            "_________________________________________________________________\n",
            "lstm_2 (LSTM)                (None, 10, 16)            3136      \n",
            "_________________________________________________________________\n",
            "lstm_3 (LSTM)                (None, 10, 8)             800       \n",
            "_________________________________________________________________\n",
            "time_distributed (TimeDistri (None, 10, 1)             9         \n",
            "=================================================================\n",
            "Total params: 34,281\n",
            "Trainable params: 34,281\n",
            "Non-trainable params: 0\n",
            "_________________________________________________________________\n"
          ],
          "name": "stdout"
        }
      ]
    },
    {
      "cell_type": "code",
      "metadata": {
        "colab": {
          "base_uri": "https://localhost:8080/"
        },
        "id": "qAnUGjW-L-SI",
        "outputId": "82d77f74-50aa-4fe7-a1ad-2ceadce6d5db"
      },
      "source": [
        "model_rnn_A.compile(optimizer='adam',\n",
        "              loss='binary_crossentropy',\n",
        "              metrics=['accuracy'])\n",
        "model_rnn_A.fit(train_rnn,validation_data=valid_rnn,epochs=5,callbacks=[es,mc])"
      ],
      "execution_count": 23,
      "outputs": [
        {
          "output_type": "stream",
          "text": [
            "Epoch 1/5\n",
            "6506/6506 [==============================] - 103s 15ms/step - loss: 0.2277 - accuracy: 0.9087 - val_loss: 2.2852 - val_accuracy: 0.6392\n",
            "Epoch 2/5\n",
            "6506/6506 [==============================] - 95s 15ms/step - loss: 0.2017 - accuracy: 0.9248 - val_loss: 2.1268 - val_accuracy: 0.6392\n",
            "Epoch 3/5\n",
            "6506/6506 [==============================] - 100s 15ms/step - loss: 0.1620 - accuracy: 0.9504 - val_loss: 2.1408 - val_accuracy: 0.6392\n",
            "Epoch 4/5\n",
            "6506/6506 [==============================] - 98s 15ms/step - loss: 0.1399 - accuracy: 0.9556 - val_loss: 2.2647 - val_accuracy: 0.6392\n",
            "Epoch 5/5\n",
            "6506/6506 [==============================] - 99s 15ms/step - loss: 0.1402 - accuracy: 0.9586 - val_loss: 2.2834 - val_accuracy: 0.6392\n"
          ],
          "name": "stdout"
        },
        {
          "output_type": "execute_result",
          "data": {
            "text/plain": [
              "<tensorflow.python.keras.callbacks.History at 0x7faefcf5e990>"
            ]
          },
          "metadata": {
            "tags": []
          },
          "execution_count": 23
        }
      ]
    },
    {
      "cell_type": "code",
      "metadata": {
        "id": "-QYr0B0SqRJI"
      },
      "source": [
        "model_rnn_B=keras.Sequential()\n",
        "model_rnn_B.add(keras.layers.LSTM(64,activation='tanh',return_sequences=True,input_shape=(10,5)))\n",
        "model_rnn_B.add(keras.layers.LSTM(32,activation='tanh',return_sequences=True))\n",
        "model_rnn_B.add(keras.layers.LSTM(16,activation='tanh',return_sequences=True))\n",
        "model_rnn_B.add(keras.layers.LSTM(8,activation='tanh',return_sequences=True))\n",
        "model_rnn_B.add(keras.layers.TimeDistributed(keras.layers.Dense(1,activation='sigmoid')))"
      ],
      "execution_count": 24,
      "outputs": []
    },
    {
      "cell_type": "code",
      "metadata": {
        "colab": {
          "base_uri": "https://localhost:8080/"
        },
        "id": "JMujsnIPE2ht",
        "outputId": "b468c203-1efe-465a-bcbe-bf1664c764f9"
      },
      "source": [
        "model_rnn_B.compile(optimizer='adam',\n",
        "              loss='binary_crossentro py',\n",
        "              metrics=['accuracy'])\n",
        "model_rnn_B.fit(X_train_s,y_train_s,validation_split=0.2,epochs=5,callbacks=[es,mc],batch_size=1)"
      ],
      "execution_count": 25,
      "outputs": [
        {
          "output_type": "stream",
          "text": [
            "Epoch 1/5\n",
            "6506/6506 [==============================] - 73s 10ms/step - loss: 0.1235 - accuracy: 0.9652 - val_loss: 0.2418 - val_accuracy: 0.9265\n",
            "Epoch 2/5\n",
            "6506/6506 [==============================] - 68s 10ms/step - loss: 0.0794 - accuracy: 0.9787 - val_loss: 0.2990 - val_accuracy: 0.8942\n",
            "Epoch 3/5\n",
            "6506/6506 [==============================] - 67s 10ms/step - loss: 0.0807 - accuracy: 0.9777 - val_loss: 0.3155 - val_accuracy: 0.8921\n",
            "Epoch 4/5\n",
            "6506/6506 [==============================] - 67s 10ms/step - loss: 0.0833 - accuracy: 0.9764 - val_loss: 0.2479 - val_accuracy: 0.9238\n",
            "Epoch 5/5\n",
            "6506/6506 [==============================] - 69s 11ms/step - loss: 0.0791 - accuracy: 0.9785 - val_loss: 0.3338 - val_accuracy: 0.9326\n"
          ],
          "name": "stdout"
        },
        {
          "output_type": "execute_result",
          "data": {
            "text/plain": [
              "<tensorflow.python.keras.callbacks.History at 0x7faf03a7bdd0>"
            ]
          },
          "metadata": {
            "tags": []
          },
          "execution_count": 25
        }
      ]
    },
    {
      "cell_type": "code",
      "metadata": {
        "colab": {
          "base_uri": "https://localhost:8080/"
        },
        "id": "84OiGg53E2Tz",
        "outputId": "383c0ee6-ee85-4fa2-d4e9-517bd5e65e19"
      },
      "source": [
        "model_rnn_A.evaluate(test_rnn)"
      ],
      "execution_count": 26,
      "outputs": [
        {
          "output_type": "stream",
          "text": [
            "2655/2655 [==============================] - 8s 3ms/step - loss: 2.2897 - accuracy: 0.6377\n"
          ],
          "name": "stdout"
        },
        {
          "output_type": "execute_result",
          "data": {
            "text/plain": [
              "[2.289699077606201, 0.637664794921875]"
            ]
          },
          "metadata": {
            "tags": []
          },
          "execution_count": 26
        }
      ]
    },
    {
      "cell_type": "code",
      "metadata": {
        "colab": {
          "base_uri": "https://localhost:8080/"
        },
        "id": "a_mOssowyYSY",
        "outputId": "8f8a15e7-d769-48bb-ba9f-62e81ec4840c"
      },
      "source": [
        "model_rnn_B.evaluate(test_rnn)"
      ],
      "execution_count": 27,
      "outputs": [
        {
          "output_type": "stream",
          "text": [
            "2655/2655 [==============================] - 10s 3ms/step - loss: 0.1476 - accuracy: 0.9637\n"
          ],
          "name": "stdout"
        },
        {
          "output_type": "execute_result",
          "data": {
            "text/plain": [
              "[0.1475534737110138, 0.9637287855148315]"
            ]
          },
          "metadata": {
            "tags": []
          },
          "execution_count": 27
        }
      ]
    },
    {
      "cell_type": "markdown",
      "metadata": {
        "id": "03b96wEXq7lW"
      },
      "source": [
        "동일한 형태의 RNN 모델(A,B) 생성 후  \n",
        "model_A는 텐서플로우 데이터셋으로 변환한 데이터,\n",
        "model_B는 기존 FFNN에서 사용한 array 데이터로 학습하였습니다\n",
        "그런데 **분명 데이터형태의 차이일뿐 데이터값은 같은데 텐서플로우 데이터로 학습한 모델만 과적합(?)이 발생하여 모델이 성능을 내지못합니다.** (이후 문제 모델들에서도 그러함) 많은 시도를 해보았지만 까닭을 잘 모르겠습니다. 따라서 이후 모델링의 학습&검증은 array형식 데이터셋으로 진행하였습니다.  \n",
        "\n",
        "테스트세트는 두 모델 모두 텐서플로우 데이터셋(test_rnn)사용"
      ]
    },
    {
      "cell_type": "markdown",
      "metadata": {
        "id": "386Ze9W5OM7E"
      },
      "source": [
        "## 3-3 \n",
        "\n",
        "Convolution 1D와 GRU (or LSTM)을 함께 사용해서 예측 성능을 평가하시오. 꼭 좋아질 필요가 없습니다. 다양한 모델을 경험하는 것이 이번 과제의 목표입니다. "
      ]
    },
    {
      "cell_type": "code",
      "metadata": {
        "colab": {
          "base_uri": "https://localhost:8080/"
        },
        "id": "UUjXQfS9IL9T",
        "outputId": "08d6ca39-1c44-441c-ab6b-5addb3dbf452"
      },
      "source": [
        "model_gru=keras.models.Sequential()\n",
        "model_gru.add(keras.layers.Conv1D(filters=40,kernel_size=4,activation='relu',input_shape=(10,5)))\n",
        "model_gru.add(keras.layers.GRU(20,activation='tanh',return_sequences=True))\n",
        "model_gru.add(keras.layers.GRU(20,activation='tanh',return_sequences=True))\n",
        "model_gru.add(keras.layers.TimeDistributed(keras.layers.Dense(1,activation='sigmoid')))\n",
        "model_gru.summary()"
      ],
      "execution_count": 35,
      "outputs": [
        {
          "output_type": "stream",
          "text": [
            "Model: \"sequential_6\"\n",
            "_________________________________________________________________\n",
            "Layer (type)                 Output Shape              Param #   \n",
            "=================================================================\n",
            "conv1d_2 (Conv1D)            (None, 7, 40)             840       \n",
            "_________________________________________________________________\n",
            "gru_4 (GRU)                  (None, 7, 20)             3720      \n",
            "_________________________________________________________________\n",
            "gru_5 (GRU)                  (None, 7, 20)             2520      \n",
            "_________________________________________________________________\n",
            "time_distributed_4 (TimeDist (None, 7, 1)              21        \n",
            "=================================================================\n",
            "Total params: 7,101\n",
            "Trainable params: 7,101\n",
            "Non-trainable params: 0\n",
            "_________________________________________________________________\n"
          ],
          "name": "stdout"
        }
      ]
    },
    {
      "cell_type": "markdown",
      "metadata": {
        "id": "EX20ptpGwGrL"
      },
      "source": [
        "conv1d & gru 모델의 layers 는 교재의 '1D 합성곱 층을 사용해 시퀸스 처리하기'를 참고하였습니다."
      ]
    },
    {
      "cell_type": "code",
      "metadata": {
        "id": "I89cQbJ_IMLR",
        "colab": {
          "base_uri": "https://localhost:8080/"
        },
        "outputId": "ad36480f-c1e5-4439-a1a4-62e0dfa7057f"
      },
      "source": [
        "mc_gru=ModelCheckpoint('best_model.gru',monitor='val_loss',mode='min',save_best_only=True)\n",
        "model_gru.compile(loss='binary_crossentropy',optimizer='adam',metrics=['accuracy'])\n",
        "model_gru.fit(X_train_s,y_train_s,epochs=5,validation_split=0.2,callbacks=[es,mc_gru],batch_size=1)"
      ],
      "execution_count": 36,
      "outputs": [
        {
          "output_type": "stream",
          "text": [
            "Epoch 1/5\n",
            "6506/6506 [==============================] - 35s 5ms/step - loss: 0.0840 - accuracy: 0.9759 - val_loss: 0.3067 - val_accuracy: 0.9373\n"
          ],
          "name": "stdout"
        },
        {
          "output_type": "stream",
          "text": [
            "WARNING:absl:Found untraced functions such as gru_cell_4_layer_call_fn, gru_cell_4_layer_call_and_return_conditional_losses, gru_cell_5_layer_call_fn, gru_cell_5_layer_call_and_return_conditional_losses, gru_cell_4_layer_call_fn while saving (showing 5 of 10). These functions will not be directly callable after loading.\n"
          ],
          "name": "stderr"
        },
        {
          "output_type": "stream",
          "text": [
            "INFO:tensorflow:Assets written to: best_model.gru/assets\n"
          ],
          "name": "stdout"
        },
        {
          "output_type": "stream",
          "text": [
            "INFO:tensorflow:Assets written to: best_model.gru/assets\n"
          ],
          "name": "stderr"
        },
        {
          "output_type": "stream",
          "text": [
            "Epoch 2/5\n",
            "6506/6506 [==============================] - 33s 5ms/step - loss: 0.0631 - accuracy: 0.9822 - val_loss: 0.2283 - val_accuracy: 0.9540\n"
          ],
          "name": "stdout"
        },
        {
          "output_type": "stream",
          "text": [
            "WARNING:absl:Found untraced functions such as gru_cell_4_layer_call_fn, gru_cell_4_layer_call_and_return_conditional_losses, gru_cell_5_layer_call_fn, gru_cell_5_layer_call_and_return_conditional_losses, gru_cell_4_layer_call_fn while saving (showing 5 of 10). These functions will not be directly callable after loading.\n"
          ],
          "name": "stderr"
        },
        {
          "output_type": "stream",
          "text": [
            "INFO:tensorflow:Assets written to: best_model.gru/assets\n"
          ],
          "name": "stdout"
        },
        {
          "output_type": "stream",
          "text": [
            "INFO:tensorflow:Assets written to: best_model.gru/assets\n"
          ],
          "name": "stderr"
        },
        {
          "output_type": "stream",
          "text": [
            "Epoch 3/5\n",
            "6506/6506 [==============================] - 32s 5ms/step - loss: 0.0582 - accuracy: 0.9837 - val_loss: 0.3789 - val_accuracy: 0.9161\n",
            "Epoch 4/5\n",
            "6506/6506 [==============================] - 32s 5ms/step - loss: 0.0574 - accuracy: 0.9839 - val_loss: 0.0768 - val_accuracy: 0.9856\n"
          ],
          "name": "stdout"
        },
        {
          "output_type": "stream",
          "text": [
            "WARNING:absl:Found untraced functions such as gru_cell_4_layer_call_fn, gru_cell_4_layer_call_and_return_conditional_losses, gru_cell_5_layer_call_fn, gru_cell_5_layer_call_and_return_conditional_losses, gru_cell_4_layer_call_fn while saving (showing 5 of 10). These functions will not be directly callable after loading.\n"
          ],
          "name": "stderr"
        },
        {
          "output_type": "stream",
          "text": [
            "INFO:tensorflow:Assets written to: best_model.gru/assets\n"
          ],
          "name": "stdout"
        },
        {
          "output_type": "stream",
          "text": [
            "INFO:tensorflow:Assets written to: best_model.gru/assets\n"
          ],
          "name": "stderr"
        },
        {
          "output_type": "stream",
          "text": [
            "Epoch 5/5\n",
            "6506/6506 [==============================] - 33s 5ms/step - loss: 0.0539 - accuracy: 0.9843 - val_loss: 0.8350 - val_accuracy: 0.7665\n"
          ],
          "name": "stdout"
        },
        {
          "output_type": "execute_result",
          "data": {
            "text/plain": [
              "<tensorflow.python.keras.callbacks.History at 0x7faefda11dd0>"
            ]
          },
          "metadata": {
            "tags": []
          },
          "execution_count": 36
        }
      ]
    },
    {
      "cell_type": "code",
      "metadata": {
        "colab": {
          "base_uri": "https://localhost:8080/"
        },
        "id": "-eSXHkciJbeT",
        "outputId": "320bb628-83e9-49fd-a426-8e40cdbd6dde"
      },
      "source": [
        "model_gru.evaluate(test_rnn)"
      ],
      "execution_count": 37,
      "outputs": [
        {
          "output_type": "stream",
          "text": [
            "2655/2655 [==============================] - 7s 2ms/step - loss: 0.1109 - accuracy: 0.9730\n"
          ],
          "name": "stdout"
        },
        {
          "output_type": "execute_result",
          "data": {
            "text/plain": [
              "[0.1109158992767334, 0.9730427265167236]"
            ]
          },
          "metadata": {
            "tags": []
          },
          "execution_count": 37
        }
      ]
    },
    {
      "cell_type": "markdown",
      "metadata": {
        "id": "SFit4urnOqoN"
      },
      "source": [
        "## 3-4\n",
        "\n",
        "ensemble 모델을 사용하시오. \n",
        "모델 3 or 4개를 만들어 각 모델의 결과를 평균내는 앙상블 모델을 사용하시오. 기본 모델은 FCNN으로 고정하고, 앙상블 모델 성능 평가하시오. 모델이 다 다를 필요 없음. 하나의 모델을 3~4개 만들어도 됩니다.\n",
        "\n",
        "\n",
        "모델은 functional API로 구성할것.(Not Sequential)\n",
        "\n",
        "참고자료:\n",
        "https://www.tensorflow.org/guide/keras/functional\n"
      ]
    },
    {
      "cell_type": "code",
      "metadata": {
        "id": "Evxr1NXxwpyE"
      },
      "source": [
        "input1=keras.layers.Input(shape=(10,5))\n",
        "x=keras.layers.Flatten()(input1)\n",
        "x=keras.layers.Dense(64,activation='relu')(x)\n",
        "x=keras.layers.Dense(32,activation='relu')(x)\n",
        "x=keras.layers.Dense(16,activation='relu')(x)\n",
        "x=keras.layers.Dense(8,activation='relu')(x)\n",
        "out=keras.layers.Dense(1,activation='sigmoid')(x)\n",
        "model1=keras.Model(inputs=input1,outputs=out)"
      ],
      "execution_count": 38,
      "outputs": []
    },
    {
      "cell_type": "code",
      "metadata": {
        "id": "V9UgXstxxW3J"
      },
      "source": [
        "input2=keras.layers.Input(shape=(10,5))\n",
        "x=keras.layers.Flatten()(input2)\n",
        "x=keras.layers.Dense(64,activation='relu')(x)\n",
        "x=keras.layers.Dense(32,activation='relu')(x)\n",
        "x=keras.layers.Dense(16,activation='relu')(x)\n",
        "x=keras.layers.Dense(8,activation='relu')(x)\n",
        "out=keras.layers.Dense(1,activation='sigmoid')(x)\n",
        "model2=keras.Model(inputs=input2,outputs=out)"
      ],
      "execution_count": 39,
      "outputs": []
    },
    {
      "cell_type": "code",
      "metadata": {
        "id": "WvLL-bUpxaFk"
      },
      "source": [
        "input3=keras.layers.Input(shape=(10,5))\n",
        "x=keras.layers.Flatten()(input3)\n",
        "x=keras.layers.Dense(64,activation='relu')(x)\n",
        "x=keras.layers.Dense(32,activation='relu')(x)\n",
        "x=keras.layers.Dense(16,activation='relu')(x)\n",
        "x=keras.layers.Dense(8,activation='relu')(x)\n",
        "out=keras.layers.Dense(1,activation='sigmoid')(x)\n",
        "model3=keras.Model(inputs=input3,outputs=out)"
      ],
      "execution_count": 40,
      "outputs": []
    },
    {
      "cell_type": "code",
      "metadata": {
        "colab": {
          "base_uri": "https://localhost:8080/"
        },
        "id": "IIKU3FiUxpAm",
        "outputId": "820ca19b-7a6f-4066-affa-5a3ba3fee3e5"
      },
      "source": [
        "input4=keras.layers.Input(shape=(10,5))\n",
        "a=model1(input4)\n",
        "b=model2(input4)\n",
        "c=model3(input4)\n",
        "k=keras.layers.average([a,b,c])\n",
        "model_ensemble=keras.models.Model(input4,k)\n",
        "model_ensemble.summary()"
      ],
      "execution_count": 41,
      "outputs": [
        {
          "output_type": "stream",
          "text": [
            "Model: \"model_3\"\n",
            "__________________________________________________________________________________________________\n",
            "Layer (type)                    Output Shape         Param #     Connected to                     \n",
            "==================================================================================================\n",
            "input_4 (InputLayer)            [(None, 10, 5)]      0                                            \n",
            "__________________________________________________________________________________________________\n",
            "model (Functional)              (None, 1)            6017        input_4[0][0]                    \n",
            "__________________________________________________________________________________________________\n",
            "model_1 (Functional)            (None, 1)            6017        input_4[0][0]                    \n",
            "__________________________________________________________________________________________________\n",
            "model_2 (Functional)            (None, 1)            6017        input_4[0][0]                    \n",
            "__________________________________________________________________________________________________\n",
            "average (Average)               (None, 1)            0           model[0][0]                      \n",
            "                                                                 model_1[0][0]                    \n",
            "                                                                 model_2[0][0]                    \n",
            "==================================================================================================\n",
            "Total params: 18,051\n",
            "Trainable params: 18,051\n",
            "Non-trainable params: 0\n",
            "__________________________________________________________________________________________________\n"
          ],
          "name": "stdout"
        }
      ]
    },
    {
      "cell_type": "code",
      "metadata": {
        "colab": {
          "base_uri": "https://localhost:8080/"
        },
        "id": "iOSlGl7Gx0qt",
        "outputId": "4973164f-9346-4876-ee77-1de13e850779"
      },
      "source": [
        "mc_ensemble=ModelCheckpoint('best_model.ensemble',monitor='val_loss',mode='min',save_best_only=True)\n",
        "model_ensemble.compile(loss='binary_crossentropy',optimizer='adam',metrics=['accuracy'])\n",
        "model_ensemble.fit(X_train_s,y_train_s,validation_split=0.2,batch_size=1,epochs=5,callbacks=[es,mc_ensemble])"
      ],
      "execution_count": 42,
      "outputs": [
        {
          "output_type": "stream",
          "text": [
            "Epoch 1/5\n",
            "6506/6506 [==============================] - 16s 2ms/step - loss: 0.1268 - accuracy: 0.9540 - val_loss: 0.2894 - val_accuracy: 0.9484\n",
            "INFO:tensorflow:Assets written to: best_model.ensemble/assets\n"
          ],
          "name": "stdout"
        },
        {
          "output_type": "stream",
          "text": [
            "/usr/local/lib/python3.7/dist-packages/tensorflow/python/keras/utils/generic_utils.py:497: CustomMaskWarning: Custom mask layers require a config and must override get_config. When loading, the custom mask layer must be passed to the custom_objects argument.\n",
            "  category=CustomMaskWarning)\n",
            "INFO:tensorflow:Assets written to: best_model.ensemble/assets\n"
          ],
          "name": "stderr"
        },
        {
          "output_type": "stream",
          "text": [
            "Epoch 2/5\n",
            "6506/6506 [==============================] - 15s 2ms/step - loss: 0.1050 - accuracy: 0.9691 - val_loss: 0.2677 - val_accuracy: 0.9478\n",
            "INFO:tensorflow:Assets written to: best_model.ensemble/assets\n"
          ],
          "name": "stdout"
        },
        {
          "output_type": "stream",
          "text": [
            "/usr/local/lib/python3.7/dist-packages/tensorflow/python/keras/utils/generic_utils.py:497: CustomMaskWarning: Custom mask layers require a config and must override get_config. When loading, the custom mask layer must be passed to the custom_objects argument.\n",
            "  category=CustomMaskWarning)\n",
            "INFO:tensorflow:Assets written to: best_model.ensemble/assets\n"
          ],
          "name": "stderr"
        },
        {
          "output_type": "stream",
          "text": [
            "Epoch 3/5\n",
            "6506/6506 [==============================] - 14s 2ms/step - loss: 0.1253 - accuracy: 0.9431 - val_loss: 0.2793 - val_accuracy: 0.9588\n",
            "Epoch 4/5\n",
            "6506/6506 [==============================] - 14s 2ms/step - loss: 0.0996 - accuracy: 0.9768 - val_loss: 0.2360 - val_accuracy: 0.9478\n",
            "INFO:tensorflow:Assets written to: best_model.ensemble/assets\n"
          ],
          "name": "stdout"
        },
        {
          "output_type": "stream",
          "text": [
            "/usr/local/lib/python3.7/dist-packages/tensorflow/python/keras/utils/generic_utils.py:497: CustomMaskWarning: Custom mask layers require a config and must override get_config. When loading, the custom mask layer must be passed to the custom_objects argument.\n",
            "  category=CustomMaskWarning)\n",
            "INFO:tensorflow:Assets written to: best_model.ensemble/assets\n"
          ],
          "name": "stderr"
        },
        {
          "output_type": "stream",
          "text": [
            "Epoch 5/5\n",
            "6506/6506 [==============================] - 15s 2ms/step - loss: 0.1240 - accuracy: 0.9358 - val_loss: 0.3709 - val_accuracy: 0.9428\n"
          ],
          "name": "stdout"
        },
        {
          "output_type": "execute_result",
          "data": {
            "text/plain": [
              "<tensorflow.python.keras.callbacks.History at 0x7faef5814d90>"
            ]
          },
          "metadata": {
            "tags": []
          },
          "execution_count": 42
        }
      ]
    },
    {
      "cell_type": "code",
      "metadata": {
        "colab": {
          "base_uri": "https://localhost:8080/"
        },
        "id": "hh-OSYWc5K1P",
        "outputId": "54995d59-b686-4df5-8abe-35a4609d032a"
      },
      "source": [
        "model_ensemble.evaluate(test_rnn)"
      ],
      "execution_count": 43,
      "outputs": [
        {
          "output_type": "stream",
          "text": [
            "2655/2655 [==============================] - 4s 2ms/step - loss: 0.2339 - accuracy: 0.9292\n"
          ],
          "name": "stdout"
        },
        {
          "output_type": "execute_result",
          "data": {
            "text/plain": [
              "[0.23385389149188995, 0.9291902184486389]"
            ]
          },
          "metadata": {
            "tags": []
          },
          "execution_count": 43
        }
      ]
    },
    {
      "cell_type": "markdown",
      "metadata": {
        "id": "R4xRSrS_MvZH"
      },
      "source": [
        "마지막 epochs에서의 모델 예측률이 높지않습니다. \n",
        "\n",
        " *checkpoint로 val_loss 기준 가장 성능이 높았던 모델의 weight를 로드하여 다시 모델 평가를 진행했습니다.*"
      ]
    },
    {
      "cell_type": "code",
      "metadata": {
        "colab": {
          "base_uri": "https://localhost:8080/"
        },
        "id": "CMSAw-pL3Hxc",
        "outputId": "b3694e38-1a07-4c62-9543-5e8053676368"
      },
      "source": [
        "model_ensemble.load_weights('best_model.ensemble')\n",
        "model_ensemble.evaluate(test_rnn)"
      ],
      "execution_count": 44,
      "outputs": [
        {
          "output_type": "stream",
          "text": [
            "2655/2655 [==============================] - 4s 1ms/step - loss: 0.2016 - accuracy: 0.9669\n"
          ],
          "name": "stdout"
        },
        {
          "output_type": "execute_result",
          "data": {
            "text/plain": [
              "[0.2016238570213318, 0.966854989528656]"
            ]
          },
          "metadata": {
            "tags": []
          },
          "execution_count": 44
        }
      ]
    },
    {
      "cell_type": "markdown",
      "metadata": {
        "id": "IcH0XrmLPb7V"
      },
      "source": [
        "## 3-5\n",
        "다중 입력 모델을 사용하시오.\n",
        "이때 layer는  FCNN을 사용하시오.\n",
        "\n",
        "Hands on ML 책에서 '함수형 API를 사용해 복잡한 모델 만들기(Wide & Deep)' 에서 보고 따라하시면 됩니다.\n",
        "\n",
        "모델 성능 평가는 기본입니다.\n",
        "\n",
        "input data set A는 \"Temperature\", \"Humidity\"\n",
        "\n",
        "input data set B \"Temperature\", \"Humidity\", \"Light\", \"CO2\", \"HumidityRatio\"\n",
        "로 하시오."
      ]
    },
    {
      "cell_type": "markdown",
      "metadata": {
        "id": "plcb3mTfcrjR"
      },
      "source": [
        "3)RNN 에서 생성한 타임시리즈 데이터 활용하여 전처리를 진행하였습니다. \n",
        "minmax 정규화가 적용된 데이터셋에서 컬럼을 추출하여 (A,B) 훈련,테스트 데이터셋 생성"
      ]
    },
    {
      "cell_type": "code",
      "metadata": {
        "id": "ZJ8BI9K3p-Bg"
      },
      "source": [
        "test_time_series=testset\n",
        "test_time_series[columns]=scaler3.transform(np.array(testset[columns]))\n",
        "X_train_A = train_time_series[[\"Temperature\",\"Humidity\"]]\n",
        "X_test_A = test_time_series[[\"Temperature\",\"Humidity\"]]\n",
        "X_train_B = train_time_series[[\"Temperature\",\"Humidity\",\"Light\",\"CO2\",\"HumidityRatio\"]]\n",
        "X_test_B = test_time_series[[\"Temperature\",\"Humidity\",\"Light\",\"CO2\",\"HumidityRatio\"]]"
      ],
      "execution_count": 89,
      "outputs": []
    },
    {
      "cell_type": "code",
      "metadata": {
        "id": "-sPEbBgt_Z7S"
      },
      "source": [
        "inputA=keras.layers.Input(shape=[2,])\n",
        "inputB=keras.layers.Input(shape=[5,])\n",
        "\n",
        "#x1=keras.layers.Flatten()(inputA)\n",
        "x1=keras.layers.Dense(40)(inputA)\n",
        "x1=keras.layers.Dense(20,activation='relu')(x1)\n",
        "x1=keras.layers.Dense(20,activation='relu')(x1)\n",
        "x1=keras.layers.Dense(10,activation='relu')(x1)\n",
        "\n",
        "#x2=keras.layers.Flatten()(inputB)\n",
        "x2=keras.layers.Dense(40)(inputB)\n",
        "x2=keras.layers.Dense(20,activation='relu')(x2)\n",
        "x2=keras.layers.Dense(20,activation='relu')(x2)\n",
        "x2=keras.layers.Dense(10,activation='relu')(x2)\n",
        "\n",
        "concat=keras.layers.concatenate([x1,x2])\n",
        "output=keras.layers.Dense(1,activation='sigmoid')(concat)\n",
        "\n",
        "model_wideep1=keras.models.Model(inputs=[inputA,inputB],outputs=[output])\n",
        "model_wideep2=keras.models.Model(inputs=[inputA,inputB],outputs=[output])\n",
        "model_wideep3=keras.models.Model(inputs=[inputA,inputB],outputs=[output])"
      ],
      "execution_count": 92,
      "outputs": []
    },
    {
      "cell_type": "code",
      "metadata": {
        "colab": {
          "base_uri": "https://localhost:8080/"
        },
        "id": "3otBtZonUYmS",
        "outputId": "32efdead-0f1d-47e3-e4ea-846f193231d2"
      },
      "source": [
        "m1=model_wideep1([inputA,inputB])\n",
        "m2=model_wideep2([inputA,inputB])\n",
        "m3=model_wideep3([inputA,inputB])\n",
        "\n",
        "k=keras.layers.average([m1,m2,m3])\n",
        "model_wideep=keras.models.Model(inputs=[inputA,inputB],outputs=k)\n",
        "model_wideep.summary()"
      ],
      "execution_count": 93,
      "outputs": [
        {
          "output_type": "stream",
          "text": [
            "Model: \"model_36\"\n",
            "__________________________________________________________________________________________________\n",
            "Layer (type)                    Output Shape         Param #     Connected to                     \n",
            "==================================================================================================\n",
            "input_43 (InputLayer)           [(None, 2)]          0                                            \n",
            "__________________________________________________________________________________________________\n",
            "input_44 (InputLayer)           [(None, 5)]          0                                            \n",
            "__________________________________________________________________________________________________\n",
            "model_33 (Functional)           (None, 1)            3281        input_43[0][0]                   \n",
            "                                                                 input_44[0][0]                   \n",
            "__________________________________________________________________________________________________\n",
            "model_34 (Functional)           (None, 1)            3281        input_43[0][0]                   \n",
            "                                                                 input_44[0][0]                   \n",
            "__________________________________________________________________________________________________\n",
            "model_35 (Functional)           (None, 1)            3281        input_43[0][0]                   \n",
            "                                                                 input_44[0][0]                   \n",
            "__________________________________________________________________________________________________\n",
            "average_7 (Average)             (None, 1)            0           model_33[0][0]                   \n",
            "                                                                 model_34[0][0]                   \n",
            "                                                                 model_35[0][0]                   \n",
            "==================================================================================================\n",
            "Total params: 3,281\n",
            "Trainable params: 3,281\n",
            "Non-trainable params: 0\n",
            "__________________________________________________________________________________________________\n"
          ],
          "name": "stdout"
        }
      ]
    },
    {
      "cell_type": "code",
      "metadata": {
        "colab": {
          "base_uri": "https://localhost:8080/"
        },
        "id": "rKrNqGTeAQLp",
        "outputId": "84821238-f836-4d51-ac5a-cdda69e7a6e0"
      },
      "source": [
        "mc_wideep=ModelCheckpoint('best_model.wideep',monitor='val_loss',mode='min',save_best_only=True)\n",
        "model_wideep.compile(loss='binary_crossentropy',optimizer='adam',metrics=['accuracy'])\n",
        "model_wideep.fit((X_train_A,X_train_B),y_train,validation_split=0.2,epochs=10,callbacks=[es,mc_wideep])"
      ],
      "execution_count": 94,
      "outputs": [
        {
          "output_type": "stream",
          "text": [
            "Epoch 1/10\n",
            "163/163 [==============================] - 2s 5ms/step - loss: 0.3355 - accuracy: 0.8657 - val_loss: 0.0038 - val_accuracy: 1.0000\n",
            "INFO:tensorflow:Assets written to: best_model.wideep/assets\n"
          ],
          "name": "stdout"
        },
        {
          "output_type": "stream",
          "text": [
            "/usr/local/lib/python3.7/dist-packages/tensorflow/python/keras/utils/generic_utils.py:497: CustomMaskWarning: Custom mask layers require a config and must override get_config. When loading, the custom mask layer must be passed to the custom_objects argument.\n",
            "  category=CustomMaskWarning)\n",
            "INFO:tensorflow:Assets written to: best_model.wideep/assets\n"
          ],
          "name": "stderr"
        },
        {
          "output_type": "stream",
          "text": [
            "Epoch 2/10\n",
            "163/163 [==============================] - 0s 3ms/step - loss: 0.0746 - accuracy: 0.9806 - val_loss: 0.0010 - val_accuracy: 1.0000\n",
            "INFO:tensorflow:Assets written to: best_model.wideep/assets\n"
          ],
          "name": "stdout"
        },
        {
          "output_type": "stream",
          "text": [
            "/usr/local/lib/python3.7/dist-packages/tensorflow/python/keras/utils/generic_utils.py:497: CustomMaskWarning: Custom mask layers require a config and must override get_config. When loading, the custom mask layer must be passed to the custom_objects argument.\n",
            "  category=CustomMaskWarning)\n",
            "INFO:tensorflow:Assets written to: best_model.wideep/assets\n"
          ],
          "name": "stderr"
        },
        {
          "output_type": "stream",
          "text": [
            "Epoch 3/10\n",
            "163/163 [==============================] - 0s 3ms/step - loss: 0.0670 - accuracy: 0.9823 - val_loss: 0.0028 - val_accuracy: 1.0000\n",
            "Epoch 4/10\n",
            "163/163 [==============================] - 0s 3ms/step - loss: 0.0653 - accuracy: 0.9831 - val_loss: 0.0030 - val_accuracy: 1.0000\n",
            "Epoch 5/10\n",
            "163/163 [==============================] - 0s 3ms/step - loss: 0.0627 - accuracy: 0.9835 - val_loss: 0.0042 - val_accuracy: 1.0000\n",
            "Epoch 6/10\n",
            "163/163 [==============================] - 0s 3ms/step - loss: 0.0603 - accuracy: 0.9837 - val_loss: 0.0044 - val_accuracy: 1.0000\n",
            "Epoch 7/10\n",
            "163/163 [==============================] - 0s 3ms/step - loss: 0.0588 - accuracy: 0.9835 - val_loss: 0.0024 - val_accuracy: 1.0000\n",
            "Epoch 00007: early stopping\n"
          ],
          "name": "stdout"
        },
        {
          "output_type": "execute_result",
          "data": {
            "text/plain": [
              "<tensorflow.python.keras.callbacks.History at 0x7faef45d0ad0>"
            ]
          },
          "metadata": {
            "tags": []
          },
          "execution_count": 94
        }
      ]
    },
    {
      "cell_type": "code",
      "metadata": {
        "colab": {
          "base_uri": "https://localhost:8080/"
        },
        "id": "VtiwHrtXW1MD",
        "outputId": "459f2d32-e419-488e-f7f7-97898504ed73"
      },
      "source": [
        "model_wideep.load_weights('best_model.wideep')\n",
        "model_wideep.evaluate((X_test_A,X_test_B),y_test)"
      ],
      "execution_count": 95,
      "outputs": [
        {
          "output_type": "stream",
          "text": [
            "84/84 [==============================] - 0s 1ms/step - loss: 0.0788 - accuracy: 0.9782\n"
          ],
          "name": "stdout"
        },
        {
          "output_type": "execute_result",
          "data": {
            "text/plain": [
              "[0.07881756871938705, 0.9782363772392273]"
            ]
          },
          "metadata": {
            "tags": []
          },
          "execution_count": 95
        }
      ]
    }
  ]
}