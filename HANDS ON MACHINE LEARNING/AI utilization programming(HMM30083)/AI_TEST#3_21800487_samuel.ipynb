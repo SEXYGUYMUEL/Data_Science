{
  "nbformat": 4,
  "nbformat_minor": 0,
  "metadata": {
    "colab": {
      "name": "AI_TEST#3_21800487_윤사무엘 (2).ipynb",
      "provenance": [],
      "collapsed_sections": []
    },
    "kernelspec": {
      "display_name": "Python 3",
      "language": "python",
      "name": "python3"
    },
    "language_info": {
      "codemirror_mode": {
        "name": "ipython",
        "version": 3
      },
      "file_extension": ".py",
      "mimetype": "text/x-python",
      "name": "python",
      "nbconvert_exporter": "python",
      "pygments_lexer": "ipython3",
      "version": "3.8.5"
    }
  },
  "cells": [
    {
      "cell_type": "markdown",
      "metadata": {
        "id": "2QQYnZwAE3qu"
      },
      "source": [
        "##TEST#3\n",
        "\n"
      ]
    },
    {
      "cell_type": "markdown",
      "metadata": {
        "id": "4bArlgBOmTNO"
      },
      "source": [
        "#1) LSTM을 이용한 Extruder 문제\n",
        "\n",
        "Final 대체 프로젝트로도 제공 되었던 Extruder 데이터를 활용한 문제 입니다."
      ]
    },
    {
      "cell_type": "markdown",
      "metadata": {
        "id": "jwUZmyinmQSB"
      },
      "source": [
        "꼭 필요한 데이터 처리 과정중 어려운 부분의 코드는 제공해주었습니다.\n",
        "\n",
        "노드의 수와 layer의 수의 제한은 없습니다. 대신 저와 똑같은 노드와 layer 수로 모델을 선정하지 마세요."
      ]
    },
    {
      "cell_type": "code",
      "metadata": {
        "colab": {
          "base_uri": "https://localhost:8080/"
        },
        "id": "mwTV9h4P7tO1",
        "outputId": "62d88d67-f00c-47d2-b512-1a20073f24f7"
      },
      "source": [
        "import numpy as np\n",
        "import pandas as pd\n",
        "import matplotlib.pyplot as plt\n",
        "from sklearn.preprocessing import StandardScaler, MinMaxScaler\n",
        "from sklearn.model_selection import train_test_split\n",
        "\n",
        "import tensorflow as tf\n",
        "import keras\n",
        "from keras.models import Sequential\n",
        "from keras.layers import Dense, LSTM, Flatten, TimeDistributed, Dropout\n",
        "from keras import optimizers\n",
        "from sklearn.metrics import mean_squared_error\n",
        "\n",
        "from google.colab import drive\n",
        "drive.mount('/content/drive')"
      ],
      "execution_count": 1,
      "outputs": [
        {
          "output_type": "stream",
          "text": [
            "Mounted at /content/drive\n"
          ],
          "name": "stdout"
        }
      ]
    },
    {
      "cell_type": "code",
      "metadata": {
        "colab": {
          "base_uri": "https://localhost:8080/"
        },
        "id": "56j3rt3Y736l",
        "outputId": "1bf3895a-8016-44ea-d5f8-a9e64ef7426f"
      },
      "source": [
        "tf.random.set_seed(42)\n",
        "\n",
        "df= pd.read_csv('/content/drive/MyDrive/test/extrusion.csv')\n",
        " \n",
        "df.info()\n",
        "\n",
        "columns =list(df.columns)\n",
        "print(columns)"
      ],
      "execution_count": null,
      "outputs": [
        {
          "output_type": "stream",
          "text": [
            "<class 'pandas.core.frame.DataFrame'>\n",
            "RangeIndex: 226536 entries, 0 to 226535\n",
            "Columns: 470 entries, Datum to ST114_VARWdTensVis\n",
            "dtypes: float64(468), int64(1), object(1)\n",
            "memory usage: 812.3+ MB\n",
            "['Datum', 'ST0_VARActAuftrag', 'ST110_VARExtr_0_HeizungZone_3_Regler_Y', 'ST110_VARExtr_0_HeizungZone_3_SollTemp', 'ST110_VARExtr_0_HeizungZone_4_Konfig', 'ST110_VARExtr_0_HeizungZone_4_Regler_X', 'ST110_VARExtr_0_HeizungZone_4_Regler_Y', 'ST110_VARExtr_0_HeizungZone_4_SollTemp', 'ST110_VARExtr_0_HeizungZone_5_Konfig', 'ST110_VARExtr_0_HeizungZone_5_Regler_X', 'ST110_VARExtr_0_HeizungZone_5_Regler_Y', 'ST110_VARExtr_0_HeizungZone_5_SollTemp', 'ST110_VARExtr_0_HeizungZone_6_Konfig', 'ST110_VARExtr_0_HeizungZone_6_Regler_X', 'ST110_VARExtr_0_HeizungZone_6_Regler_Y', 'ST110_VARExtr_0_HeizungZone_6_SollTemp', 'ST110_VARExtr_0_HeizungZone_7_Konfig', 'ST110_VARExtr_0_HeizungZone_7_Regler_X', 'ST110_VARExtr_0_HeizungZone_7_Regler_Y', 'ST110_VARExtr_0_HeizungZone_7_SollTemp', 'ST110_VARExtr_0_HeizungZone_8_Konfig', 'ST110_VARExtr_0_HeizungZone_8_Regler_X', 'ST110_VARExtr_0_HeizungZone_8_Regler_Y', 'ST110_VARExtr_0_HeizungZone_8_SollTemp', 'ST110_VARExtr_0_HeizungZone_9_Konfig', 'ST110_VARExtr_0_HeizungZone_9_Regler_X', 'ST110_VARExtr_0_HeizungZone_9_Regler_Y', 'ST110_VARExtr_0_HeizungZone_9_SollTemp', 'ST110_VARExtr_1_druck_1_IstP', 'ST110_VARExtr_1_HeizungZone_1_ActEffectPower', 'ST110_VARExtr_1_HeizungZone_1_Konfig', 'ST110_VARExtr_1_HeizungZone_1_Regler_X', 'ST110_VARExtr_1_HeizungZone_1_Regler_Y', 'ST110_VARExtr_1_HeizungZone_1_SollTemp', 'ST110_VARExtr_1_HeizungZone_2_ActEffectPower', 'ST110_VARExtr_1_HeizungZone_2_Konfig', 'ST110_VARExtr_1_HeizungZone_2_Regler_X', 'ST110_VARExtr_1_HeizungZone_2_Regler_Y', 'ST110_VARExtr_1_HeizungZone_2_SollTemp', 'ST110_VARExtr_1_HeizungZone_3_ActEffectPower', 'ST110_VARExtr_1_HeizungZone_3_Konfig', 'ST110_VARExtr_1_HeizungZone_3_Regler_X', 'ST110_VARExtr_1_HeizungZone_3_Regler_Y', 'ST110_VARExtr_1_HeizungZone_3_SollTemp', 'ST110_VARExtr_1_HeizungZone_4_ActEffectPower', 'ST110_VARExtr_1_HeizungZone_4_Konfig', 'ST110_VARExtr_1_HeizungZone_4_Regler_X', 'ST110_VARExtr_1_HeizungZone_4_Regler_Y', 'ST110_VARExtr_1_HeizungZone_4_SollTemp', 'ST110_VARExtr_1_HeizungZone_5_ActEffectPower', 'ST110_VARExtr_1_HeizungZone_5_Konfig', 'ST110_VARExtr_1_HeizungZone_5_Regler_X', 'ST110_VARExtr_1_HeizungZone_5_Regler_Y', 'ST110_VARExtr_1_HeizungZone_5_SollTemp', 'ST110_VARExtr_1_HeizungZone_6_ActEffectPower', 'ST110_VARExtr_1_HeizungZone_6_Konfig', 'ST110_VARExtr_1_HeizungZone_6_Regler_X', 'ST110_VARExtr_1_HeizungZone_6_Regler_Y', 'ST110_VARExtr_1_HeizungZone_6_SollTemp', 'ST110_VARExtr_1_HeizungZone_7_ActEffectPower', 'ST110_VARExtr_1_HeizungZone_7_Konfig', 'ST110_VARExtr_1_HeizungZone_7_Regler_X', 'ST110_VARExtr_1_HeizungZone_7_Regler_Y', 'ST110_VARExtr_1_HeizungZone_7_SollTemp', 'ST110_VARExtr_1_HeizungZone_8_ActEffectPower', 'ST110_VARExtr_1_HeizungZone_8_Konfig', 'ST110_VARExtr_1_HeizungZone_8_Regler_X', 'ST110_VARExtr_1_HeizungZone_8_Regler_Y', 'ST110_VARExtr_1_HeizungZone_8_SollTemp', 'ST110_VARExtr_1_Massetemperatur', 'ST110_VARExtr_2_druck_1_IstP', 'ST110_VARExtr_2_HeizungZone_1_ActEffectPower', 'ST110_VARExtr_2_HeizungZone_1_Konfig', 'ST110_VARExtr_2_HeizungZone_1_Regler_X', 'ST110_VARExtr_2_HeizungZone_1_Regler_Y', 'ST110_VARExtr_2_HeizungZone_1_SollTemp', 'ST110_VARExtr_2_HeizungZone_2_ActEffectPower', 'ST110_VARExtr_2_HeizungZone_2_Konfig', 'ST110_VARExtr_2_HeizungZone_2_Regler_X', 'ST110_VARExtr_2_HeizungZone_2_Regler_Y', 'ST110_VARExtr_2_HeizungZone_2_SollTemp', 'ST110_VARExtr_2_HeizungZone_3_ActEffectPower', 'ST110_VARExtr_2_HeizungZone_3_Konfig', 'ST110_VARExtr_2_HeizungZone_3_Regler_X', 'ST110_VARExtr_2_HeizungZone_3_Regler_Y', 'ST110_VARExtr_2_HeizungZone_3_SollTemp', 'ST110_VARExtr_2_HeizungZone_4_ActEffectPower', 'ST110_VARExtr_2_HeizungZone_4_Konfig', 'ST110_VARExtr_2_HeizungZone_4_Regler_X', 'ST110_VARExtr_2_HeizungZone_4_Regler_Y', 'ST110_VARExtr_2_HeizungZone_4_SollTemp', 'ST110_VARExtr_2_HeizungZone_5_ActEffectPower', 'ST110_VARExtr_2_HeizungZone_5_Konfig', 'ST110_VARExtr_2_HeizungZone_5_Regler_X', 'ST110_VARExtr_2_HeizungZone_5_Regler_Y', 'ST110_VARExtr_2_HeizungZone_5_SollTemp', 'ST110_VARExtr_2_HeizungZone_6_ActEffectPower', 'ST110_VARExtr_2_HeizungZone_6_Konfig', 'ST110_VARExtr_2_HeizungZone_6_Regler_X', 'ST110_VARExtr_2_HeizungZone_6_Regler_Y', 'ST110_VARExtr_2_HeizungZone_6_SollTemp', 'ST110_VARExtr_2_HeizungZone_7_ActEffectPower', 'ST110_VARExtr_2_HeizungZone_7_Konfig', 'ST110_VARExtr_2_HeizungZone_7_Regler_X', 'ST110_VARExtr_2_HeizungZone_7_Regler_Y', 'ST110_VARExtr_2_HeizungZone_7_SollTemp', 'ST110_VARExtr_2_HeizungZone_8_ActEffectPower', 'ST110_VARExtr_2_HeizungZone_8_Konfig', 'ST110_VARExtr_2_HeizungZone_8_Regler_X', 'ST110_VARExtr_2_HeizungZone_8_Regler_Y', 'ST110_VARExtr_2_HeizungZone_8_SollTemp', 'ST110_VARExtr_2_Massetemperatur', 'ST110_VARExtr_3_druck_1_IstP', 'ST110_VARExtr_3_HeizungZone_1_ActEffectPower', 'ST110_VARExtr_3_HeizungZone_1_Konfig', 'ST110_VARExtr_3_HeizungZone_1_Regler_X', 'ST110_VARExtr_3_HeizungZone_1_Regler_Y', 'ST110_VARExtr_3_HeizungZone_1_SollTemp', 'ST110_VARExtr_3_HeizungZone_2_ActEffectPower', 'ST110_VARExtr_3_HeizungZone_2_Konfig', 'ST110_VARExtr_3_HeizungZone_2_Regler_X', 'ST110_VARExtr_3_HeizungZone_2_Regler_Y', 'ST110_VARExtr_3_HeizungZone_2_SollTemp', 'ST110_VARExtr_3_HeizungZone_3_ActEffectPower', 'ST110_VARExtr_3_HeizungZone_3_Konfig', 'ST110_VARExtr_3_HeizungZone_3_Regler_X', 'ST110_VARExtr_3_HeizungZone_3_Regler_Y', 'ST110_VARExtr_3_HeizungZone_3_SollTemp', 'ST110_VARExtr_3_HeizungZone_4_ActEffectPower', 'ST110_VARExtr_3_HeizungZone_4_Konfig', 'ST110_VARExtr_3_HeizungZone_4_Regler_X', 'ST110_VARExtr_3_HeizungZone_4_Regler_Y', 'ST110_VARExtr_3_HeizungZone_4_SollTemp', 'ST110_VARExtr_3_HeizungZone_5_ActEffectPower', 'ST110_VARExtr_3_HeizungZone_5_Konfig', 'ST110_VARExtr_3_HeizungZone_5_Regler_X', 'ST110_VARExtr_3_HeizungZone_5_Regler_Y', 'ST110_VARExtr_3_HeizungZone_5_SollTemp', 'ST110_VARExtr_3_HeizungZone_6_ActEffectPower', 'ST110_VARExtr_3_HeizungZone_6_Konfig', 'ST110_VARExtr_3_HeizungZone_6_Regler_X', 'ST110_VARExtr_3_HeizungZone_6_Regler_Y', 'ST110_VARExtr_3_HeizungZone_6_SollTemp', 'ST110_VARExtr_3_HeizungZone_7_ActEffectPower', 'ST110_VARExtr_3_HeizungZone_7_Konfig', 'ST110_VARExtr_3_HeizungZone_7_Regler_X', 'ST110_VARExtr_3_HeizungZone_7_Regler_Y', 'ST110_VARExtr_3_HeizungZone_7_SollTemp', 'ST110_VARExtr_3_HeizungZone_8_ActEffectPower', 'ST110_VARExtr_3_HeizungZone_8_Konfig', 'ST110_VARExtr_3_HeizungZone_8_Regler_X', 'ST110_VARExtr_3_HeizungZone_8_Regler_Y', 'ST110_VARExtr_3_HeizungZone_8_SollTemp', 'ST110_VARExtr_3_Massetemperatur', 'ST110_VAREx_0_Dos_0_IstLMGewicht', 'ST110_VAREx_0_GesamtDS', 'ST110_VAREx_0_MischDicht', 'ST110_VAREx_0_RegelungEin', 'ST110_VAREx_0_SDickeIst', 'ST110_VAREx_0_SDickeProz', 'ST110_VAREx_0_SDickeSoll', 'ST110_VAREx_0_SollDS', 'ST110_VAREx_0_SollLM', 'ST110_VAREx_1_DissipationPwr', 'ST110_VAREx_1_Dos_0_IstLMGewicht', 'ST110_VAREx_1_Dos_0_Ventil', 'ST110_VAREx_1_Dos_1_IstFoerderrate', 'ST110_VAREx_1_Dos_2_IstAnteil', 'ST110_VAREx_1_Dos_2_IstDrehzahl', 'ST110_VAREx_1_Dos_2_IstDurchsatz', 'ST110_VAREx_1_Dos_2_IstFoerderrate', 'ST110_VAREx_1_Dos_2_Materialvorwahl', 'ST110_VAREx_1_Dos_2_SchuettDichte', 'ST110_VAREx_1_Dos_2_SollAnteil', 'ST110_VAREx_1_Dos_2_SollDichte', 'ST110_VAREx_1_Dos_2_SollStatus', 'ST110_VAREx_1_Dos_2_Ventil', 'ST110_VAREx_1_Dos_3_IstAnteil', 'ST110_VAREx_1_Dos_3_IstDrehzahl', 'ST110_VAREx_1_Dos_3_IstDurchsatz', 'ST110_VAREx_1_Dos_3_IstFoerderrate', 'ST110_VAREx_1_Dos_3_Materialvorwahl', 'ST110_VAREx_1_Dos_3_SchuettDichte', 'ST110_VAREx_1_Dos_3_SollAnteil', 'ST110_VAREx_1_Dos_3_SollDichte', 'ST110_VAREx_1_Dos_3_SollStatus', 'ST110_VAREx_1_Dos_3_Ventil', 'ST110_VAREx_1_Dos_4_IstAnteil', 'ST110_VAREx_1_Dos_4_IstDrehzahl', 'ST110_VAREx_1_Dos_4_IstDurchsatz', 'ST110_VAREx_1_Dos_4_IstFoerderrate', 'ST110_VAREx_1_Dos_4_Materialvorwahl', 'ST110_VAREx_1_Dos_4_SchuettDichte', 'ST110_VAREx_1_Dos_4_SollAnteil', 'ST110_VAREx_1_Dos_4_SollDichte', 'ST110_VAREx_1_Dos_4_SollStatus', 'ST110_VAREx_1_Dos_4_Ventil', 'ST110_VAREx_1_Dos_5_IstAnteil', 'ST110_VAREx_1_Dos_5_IstDrehzahl', 'ST110_VAREx_1_Dos_5_IstDurchsatz', 'ST110_VAREx_1_Dos_5_IstFoerderrate', 'ST110_VAREx_1_Dos_5_Materialvorwahl', 'ST110_VAREx_1_Dos_5_SchuettDichte', 'ST110_VAREx_1_Dos_5_SollAnteil', 'ST110_VAREx_1_Dos_5_SollDichte', 'ST110_VAREx_1_Dos_5_SollStatus', 'ST110_VAREx_1_Dos_5_Ventil', 'ST110_VAREx_1_Foerderrate', 'ST110_VAREx_1_GesamtDS', 'ST110_VAREx_1_MischDicht', 'ST110_VAREx_1_MischerMotor', 'ST110_VAREx_1_RegelungEin', 'ST110_VAREx_1_SDickeIst', 'ST110_VAREx_1_SDickeProz', 'ST110_VAREx_1_SDickeSoll', 'ST110_VAREx_1_SollLM', 'ST110_VAREx_2_DissipationPwr', 'ST110_VAREx_2_Dos_0_IstLMGewicht', 'ST110_VAREx_2_Dos_0_Ventil', 'ST110_VAREx_2_Dos_1_IstFoerderrate', 'ST110_VAREx_2_Dos_2_IstAnteil', 'ST110_VAREx_2_Dos_2_IstDrehzahl', 'ST110_VAREx_2_Dos_2_IstDurchsatz', 'ST110_VAREx_2_Dos_2_IstFoerderrate', 'ST110_VAREx_2_Dos_2_Materialvorwahl', 'ST110_VAREx_2_Dos_2_SchuettDichte', 'ST110_VAREx_2_Dos_2_SollAnteil', 'ST110_VAREx_2_Dos_2_SollDichte', 'ST110_VAREx_2_Dos_2_SollStatus', 'ST110_VAREx_2_Dos_2_Ventil', 'ST110_VAREx_2_Dos_3_IstAnteil', 'ST110_VAREx_2_Dos_3_IstDrehzahl', 'ST110_VAREx_2_Dos_3_IstDurchsatz', 'ST110_VAREx_2_Dos_3_IstFoerderrate', 'ST110_VAREx_2_Dos_3_Materialvorwahl', 'ST110_VAREx_2_Dos_3_SchuettDichte', 'ST110_VAREx_2_Dos_3_SollAnteil', 'ST110_VAREx_2_Dos_3_SollDichte', 'ST110_VAREx_2_Dos_3_SollStatus', 'ST110_VAREx_2_Dos_3_Ventil', 'ST110_VAREx_2_Dos_4_IstAnteil', 'ST110_VAREx_2_Dos_4_IstDrehzahl', 'ST110_VAREx_2_Dos_4_IstDurchsatz', 'ST110_VAREx_2_Dos_4_IstFoerderrate', 'ST110_VAREx_2_Dos_4_Materialvorwahl', 'ST110_VAREx_2_Dos_4_SchuettDichte', 'ST110_VAREx_2_Dos_4_SollAnteil', 'ST110_VAREx_2_Dos_4_SollDichte', 'ST110_VAREx_2_Dos_4_SollStatus', 'ST110_VAREx_2_Dos_4_Ventil', 'ST110_VAREx_2_Dos_5_IstAnteil', 'ST110_VAREx_2_Dos_5_IstDrehzahl', 'ST110_VAREx_2_Dos_5_IstDurchsatz', 'ST110_VAREx_2_Dos_5_IstFoerderrate', 'ST110_VAREx_2_Dos_5_Materialvorwahl', 'ST110_VAREx_2_Dos_5_SchuettDichte', 'ST110_VAREx_2_Dos_5_SollAnteil', 'ST110_VAREx_2_Dos_5_SollDichte', 'ST110_VAREx_2_Dos_5_SollStatus', 'ST110_VAREx_2_Dos_5_Ventil', 'ST110_VAREx_2_Foerderrate', 'ST110_VAREx_2_GesamtDS', 'ST110_VAREx_2_MischDicht', 'ST110_VAREx_2_MischerMotor', 'ST110_VAREx_2_RegelungEin', 'ST110_VAREx_2_SDickeIst', 'ST110_VAREx_2_SDickeProz', 'ST110_VAREx_2_SDickeSoll', 'ST110_VAREx_2_SollLM', 'ST110_VAREx_3_DissipationPwr', 'ST110_VAREx_3_Dos_0_IstLMGewicht', 'ST110_VAREx_3_Dos_0_Ventil', 'ST110_VAREx_3_Dos_1_IstFoerderrate', 'ST110_VAREx_3_Dos_2_IstAnteil', 'ST110_VAREx_3_Dos_2_IstDrehzahl', 'ST110_VAREx_3_Dos_2_IstDurchsatz', 'ST110_VAREx_3_Dos_2_IstFoerderrate', 'ST110_VAREx_3_Dos_2_Materialvorwahl', 'ST110_VAREx_3_Dos_2_SchuettDichte', 'ST110_VAREx_3_Dos_2_SollAnteil', 'ST110_VAREx_3_Dos_2_SollDichte', 'ST110_VAREx_3_Dos_2_SollStatus', 'ST110_VAREx_3_Dos_2_Ventil', 'ST110_VAREx_3_Dos_3_IstAnteil', 'ST110_VAREx_3_Dos_3_IstDrehzahl', 'ST110_VAREx_3_Dos_3_IstDurchsatz', 'ST110_VAREx_3_Dos_3_IstFoerderrate', 'ST110_VAREx_3_Dos_3_Materialvorwahl', 'ST110_VAREx_3_Dos_3_SchuettDichte', 'ST110_VAREx_3_Dos_3_SollAnteil', 'ST110_VAREx_3_Dos_3_SollDichte', 'ST110_VAREx_3_Dos_3_SollStatus', 'ST110_VAREx_3_Dos_3_Ventil', 'ST110_VAREx_3_Dos_4_IstAnteil', 'ST110_VAREx_3_Dos_4_IstDrehzahl', 'ST110_VAREx_3_Dos_4_IstDurchsatz', 'ST110_VAREx_3_Dos_4_IstFoerderrate', 'ST110_VAREx_3_Dos_4_Materialvorwahl', 'ST110_VAREx_3_Dos_4_SchuettDichte', 'ST110_VAREx_3_Dos_4_SollAnteil', 'ST110_VAREx_3_Dos_4_SollDichte', 'ST110_VAREx_3_Dos_4_SollStatus', 'ST110_VAREx_3_Dos_4_Ventil', 'ST110_VAREx_3_Dos_5_IstAnteil', 'ST110_VAREx_3_Dos_5_IstDrehzahl', 'ST110_VAREx_3_Dos_5_IstDurchsatz', 'ST110_VAREx_3_Dos_5_IstFoerderrate', 'ST110_VAREx_3_Dos_5_Materialvorwahl', 'ST110_VAREx_3_Dos_5_SchuettDichte', 'ST110_VAREx_3_Dos_5_SollAnteil', 'ST110_VAREx_3_Dos_5_SollDichte', 'ST110_VAREx_3_Dos_5_SollStatus', 'ST110_VAREx_3_Dos_5_Ventil', 'ST110_VAREx_3_Foerderrate', 'ST110_VAREx_3_GesamtDS', 'ST110_VAREx_3_MischDicht', 'ST110_VAREx_3_MischerMotor', 'ST110_VAREx_3_RegelungEin', 'ST110_VAREx_3_SDickeIst', 'ST110_VAREx_3_SDickeProz', 'ST110_VAREx_3_SDickeSoll', 'ST110_VAREx_3_SollLM', 'ST110_VARGeblaese_1_Auslastung', 'ST110_VARGeblaese_2_Auslastung', 'ST110_VARGeblaese_3_Auslastung', 'ST110_VARIBC_1_Ist_n_Calc', 'ST110_VARIBC_1_Soll_n_Visu', 'ST110_VARIBC_2_Ist_n_Calc', 'ST110_VARIBC_2_Soll_n_Visu', 'ST110_VARIBC_3_Ist_n_Calc', 'ST110_VARIBC_3_Soll_n_Visu', 'ST110_VARKorbBreiteIstBreite', 'ST110_VARKorb_dIst_d', 'ST110_VARKorb_dSoll_d', 'ST110_VARKuehlGeraet_1_IstTemp', 'ST110_VARKuehlGeraet_1_SollTemp', 'ST110_VARKuehlGeraet_2_IstTemp', 'ST110_VARKuehlGeraet_2_SollTemp', 'ST110_VARKuehlGeraet_3_IstTemp', 'ST110_VARKuehlGeraet_3_SollTemp', 'ST110_VARProfilCmdBefehl', 'ST110_VARProfilCmdMessung', 'ST110_VARProfilCmdReglerEin', 'ST110_VARProfilCmdReglerStop', 'ST110_VARTrichter_10_Vorwahl', 'ST110_VARTrichter_11_Vorwahl', 'ST110_VARTrichter_15_Vorwahl', 'ST110_VARTrichter_16_Vorwahl', 'ST110_VARTrichter_17_Vorwahl', 'ST110_VARTrichter_18_Vorwahl', 'ST110_VARTrichter_1_Vorwahl', 'ST110_VARTrichter_2_Vorwahl', 'ST110_VARTrichter_3_Vorwahl', 'ST110_VARTrichter_4_Vorwahl', 'ST110_VARTrichter_8_Vorwahl', 'ST110_VARTrichter_9_Vorwahl', 'ST110_VARUSBRegelungIstwert', 'ST110_VARUSBRegelungPosKlappe', 'ST110_VARUSBRegelungRegelungEin', 'ST110_VARUSBRegelungSollwert', 'ST112_VARAbzug_1_IstEin', 'ST112_VARAbzug_1_IstZu', 'ST112_VARAbzug_1_SollSpeed', 'ST112_VARHoursCntAbzugEin', 'ST112_VARHoursCntAbzugWartung', 'ST112_VARReversierungSollEin', 'ST112_VARReversierungSollSpeed', 'ST112_VARReversierungSollWinkel', 'ST112_VARReversierungZeit', 'ST112_VARSeitenfuehrungUntenAufVisu', 'ST112_VARSeitenfuehrungUntenZuVisu', 'ST112_VARWendestangenSollwert180O', 'ST112_VARWendestangenSollwert180U', 'ST112_VARWendestangenSollwert360O', 'ST112_VARWendestangenSollwert360U', 'ST113_VARActLen', 'ST113_VARCdEnable', 'ST113_VARCdSpeedHMI', 'ST113_VARCdSpSpeed', 'ST113_VARCdSpTens', 'ST113_VARCdTensVis', 'ST113_VARClpEnable', 'ST113_VARClpNum', 'ST113_VARClpReductVal', 'ST113_VARClpTens', 'ST113_VARCntStart', 'ST113_VARDiaNextRollRc', 'ST113_VARDiaRollPanel', 'ST113_VARDiaRollRc', 'ST113_VARDiaShaft', 'ST113_VARGapDiff', 'ST113_VARGapEnable', 'ST113_VARGapMax', 'ST113_VARGapMin', 'ST113_VARGesamtZeit', 'ST113_VARInitLayOnPress', 'ST113_VARLmpRun', 'ST113_VARPivotLoadCmd', 'ST113_VARPnCloseCmd', 'ST113_VARPnEdgeCmd', 'ST113_VARPnSpeedHMI', 'ST113_VARPnSpSpeed', 'ST113_VARPnSpTens', 'ST113_VARPnTensVis', 'ST113_VARPrevLen', 'ST113_VARRemainingLen', 'ST113_VARRemainingTimeVis', 'ST113_VARRotationReverse', 'ST113_VARSwdSpeedHMI', 'ST113_VARSwdSpSpeed', 'ST113_VARTagZeit', 'ST113_VARTapeNum', 'ST113_VARTapeReductVal', 'ST113_VARTargetLenActRoll', 'ST113_VARTargetLenNextRoll', 'ST113_VARTensPlusEnable', 'ST113_VARTensPlusSp', 'ST113_VARTotalLen', 'ST113_VARTotalRolls', 'ST113_VARWdCloseCmd', 'ST113_VARWdSpeedHMI', 'ST113_VARWdSpSpeed', 'ST113_VARWdSpTens', 'ST113_VARWdTapeNum', 'ST113_VARWdTapeReductVal', 'ST113_VARWdTensVis', 'ST114_VARActLen', 'ST114_VARCdEnable', 'ST114_VARCdSpeedHMI', 'ST114_VARCdSpSpeed', 'ST114_VARCdSpTens', 'ST114_VARCdTensVis', 'ST114_VARClpEnable', 'ST114_VARClpNum', 'ST114_VARClpReductVal', 'ST114_VARClpTens', 'ST114_VARCntStart', 'ST114_VARDiaNextRollRc', 'ST114_VARDiaRollPanel', 'ST114_VARDiaRollRc', 'ST114_VARDiaShaft', 'ST114_VARGapDiff', 'ST114_VARGapEnable', 'ST114_VARGapMax', 'ST114_VARGapMin', 'ST114_VARGesamtZeit', 'ST114_VARInitLayOnPress', 'ST114_VARLmpRun', 'ST114_VARPrevLen', 'ST114_VARRemainingLen', 'ST114_VARRemainingTimeVis', 'ST114_VARRotationReverse', 'ST114_VARSwdSpeedHMI', 'ST114_VARSwdSpSpeed', 'ST114_VARTagZeit', 'ST114_VARTapeNum', 'ST114_VARTapeReductVal', 'ST114_VARTargetLenActRoll', 'ST114_VARTargetLenNextRoll', 'ST114_VARTensPlusEnable', 'ST114_VARTensPlusSp', 'ST114_VARTotalLen', 'ST114_VARTotalRolls', 'ST114_VARWdCloseCmd', 'ST114_VARWdSpeedHMI', 'ST114_VARWdSpSpeed', 'ST114_VARWdSpTens', 'ST114_VARWdTapeNum', 'ST114_VARWdTapeReductVal', 'ST114_VARWdTensVis']\n"
          ],
          "name": "stdout"
        }
      ]
    },
    {
      "cell_type": "code",
      "metadata": {
        "id": "AbaXZeDPBPNg"
      },
      "source": [
        "del df['Datum']\n",
        "columns.remove('Datum')"
      ],
      "execution_count": null,
      "outputs": []
    },
    {
      "cell_type": "markdown",
      "metadata": {
        "id": "_KoPhhiRlk2K"
      },
      "source": [
        "Target_index의 column name은 ST110_VAREx_0_ReagelungEin 입니다."
      ]
    },
    {
      "cell_type": "code",
      "metadata": {
        "colab": {
          "base_uri": "https://localhost:8080/"
        },
        "id": "en3zKWRfBTDy",
        "outputId": "cbdb409d-0a47-4f04-f520-83a71f3e1562"
      },
      "source": [
        "target_index = columns.index('ST110_VAREx_0_RegelungEin')\n",
        "print(target_index)"
      ],
      "execution_count": null,
      "outputs": [
        {
          "output_type": "stream",
          "text": [
            "156\n"
          ],
          "name": "stdout"
        }
      ]
    },
    {
      "cell_type": "code",
      "metadata": {
        "colab": {
          "base_uri": "https://localhost:8080/"
        },
        "id": "cixVVbv2BVuk",
        "outputId": "4bf2e399-53f5-4e4f-d3fc-80d7efecfd15"
      },
      "source": [
        "X = np.array(df)\n",
        "Y = np.array(df.iloc[:,target_index])\n",
        "\n",
        "print(\"X.shape: \", X.shape)\n",
        "print(\"Y.shape: \", Y.shape)"
      ],
      "execution_count": null,
      "outputs": [
        {
          "output_type": "stream",
          "text": [
            "X.shape:  (226536, 469)\n",
            "Y.shape:  (226536,)\n"
          ],
          "name": "stdout"
        }
      ]
    },
    {
      "cell_type": "code",
      "metadata": {
        "id": "5PHxC8BdBXik"
      },
      "source": [
        "null_row = []\n",
        "\n",
        "for i in range(len(X)):\n",
        "    for j in range(len(columns)):\n",
        "        if pd.isnull(X[i,j]):\n",
        "            null_row.append(i)"
      ],
      "execution_count": null,
      "outputs": []
    },
    {
      "cell_type": "code",
      "metadata": {
        "colab": {
          "base_uri": "https://localhost:8080/"
        },
        "id": "nTwdIMFyBZW_",
        "outputId": "ff1c6512-8ec2-420a-ad9e-92aed34ed2f6"
      },
      "source": [
        "null_row = sorted(list(set(null_row)))\n",
        "\n",
        "print(null_row)\n",
        "print(len(null_row))"
      ],
      "execution_count": null,
      "outputs": [
        {
          "output_type": "stream",
          "text": [
            "[18398, 18399, 18400, 18454, 20979, 24019, 24035, 58210, 58211, 58212, 62021, 62022, 62023, 62024, 62025, 62026, 62027, 62028, 62029, 70978, 71524, 71576, 78210, 82932, 82933, 82934, 87052, 87053, 91158, 96208, 96209, 96210, 96211, 96212, 96213, 96214, 96215, 96216, 96217, 96218, 96219, 96220, 96221, 96222, 96223, 96224, 96225, 96226, 96227, 96228, 96229, 96230, 96231, 96232, 96233, 96234, 96235, 96236, 96237, 96238, 96239, 96240, 96241, 96242, 96243, 96244, 96245, 96246, 96247, 96248, 96249, 96250, 96251, 96252, 96253, 96254, 96255, 96256, 96257, 96258, 96259, 96260, 96261, 96262, 96263, 96264, 96265, 96266, 96267, 96268, 96269, 96270, 96271, 96272, 96273, 96274, 96275, 96276, 96277, 96278, 96279, 96280, 96281, 96282, 96283, 96284, 96285, 96286, 96287, 96288, 96289, 96290, 96291, 96292, 96293, 96294, 96295, 96296, 96297, 96298, 96299, 96300, 96301, 96302, 96303, 96304, 96305, 96306, 96307, 96308, 96309, 96310, 96311, 96312, 96313, 96314, 96315, 96316, 96317, 96318, 96319, 96320, 96321, 96322, 96323, 96324, 96325, 96326, 96327, 96328, 96329, 96330, 96331, 96332, 96333, 96334, 96335, 96336, 96337, 96338, 96339, 96340, 96341, 96342, 96343, 96344, 96345, 96346, 96347, 96348, 96349, 96350, 96351, 96352, 96353, 96354, 96355, 96356, 96357, 96358, 96359, 96360, 96361, 96362, 96363, 96364, 96365, 96366, 96367, 96368, 96369, 96370, 96371, 96372, 96373, 96374, 96375, 96376, 96377, 96378, 96379, 96380, 96381, 96382, 96383, 96384, 96385, 96386, 96387, 96388, 96389, 96390, 96391, 96392, 96393, 96394, 96395, 96396, 96397, 96398, 96399, 96400, 96401, 96402, 96403, 96404, 96405, 96406, 96407, 96408, 96409, 96410, 96411, 96412, 96413, 96414, 96415, 96416, 96417, 96418, 96419, 96420, 96421, 96422, 96423, 96424, 96425, 96426, 96427, 96428, 96429, 96430, 96431, 96432, 96433, 96434, 96435, 96436, 96437, 96438, 96439, 96440, 96441, 96442, 96443, 96444, 96445, 96446, 96447, 96448, 96449, 96450, 96451, 96452, 96453, 96454, 96455, 96456, 96457, 96458, 96459, 96460, 96461, 96462, 96463, 96464, 96465, 96466, 96467, 96468, 96469, 96470, 96471, 96472, 96473, 96474, 96475, 96476, 96477, 96478, 96479, 96480, 96481, 96482, 96483, 96484, 96485, 96486, 96487, 96488, 96489, 96490, 96491, 96492, 96493, 96494, 96495, 96496, 96497, 96498, 96499, 96500, 96501, 96502, 96503, 96504, 96505, 96506, 96507, 96508, 96509, 96510, 96511, 96512, 96513, 96514, 96515, 96516, 96517, 96518, 96519, 96520, 96521, 96522, 96523, 96524, 96525, 96526, 96527, 96528, 96529, 96530, 96531, 96532, 96533, 96534, 96535, 96536, 96537, 96538, 96539, 96540, 96541, 96542, 96543, 96544, 96545, 96546, 96547, 96548, 96549, 96550, 96551, 96552, 96553, 96554, 96555, 96556, 96557, 96558, 96559, 96560, 96561, 96562, 96563, 96564, 96565, 96566, 96567, 96568, 96569, 96570, 96571, 96572, 96573, 96574, 96575, 96576, 96577, 96578, 96579, 96580, 96581, 96582, 96583, 96584, 96585, 96586, 96587, 96588, 96589, 96590, 96591, 96592, 96593, 96594, 96595, 96596, 96597, 96598, 96599, 96600, 96601, 96602, 96603, 96604, 96605, 96606, 96607, 96608, 96609, 96610, 96611, 96612, 96613, 96614, 96615, 96616, 96617, 96618, 96619, 96620, 96621, 96622, 96623, 96624, 96625, 96626, 96627, 96628, 96629, 96630, 96631, 96632, 96633, 96634, 96635, 96636, 96637, 96638, 96639, 96640, 96641, 96642, 96643, 96644, 96645, 96646, 96647, 96648, 96649, 96650, 96651, 96652, 96653, 96654, 96655, 96656, 96657, 96658, 96659, 96660, 96661, 96662, 96663, 96664, 96665, 96666, 96667, 96668, 96669, 96670, 96671, 96672, 96673, 96674, 96675, 96676, 96677, 96678, 96679, 96680, 96681, 96682, 96683, 96684, 96685, 96686, 96687, 96688, 96689, 96690, 96691, 96692, 96693, 96694, 96695, 96696, 96697, 96698, 96699, 96700, 96701, 96702, 96703, 96704, 96705, 96706, 96707, 96708, 96709, 96710, 96711, 96712, 96713, 96714, 96715, 96716, 96717, 96718, 96719, 96720, 96721, 96722, 96723, 96724, 96725, 96726, 96727, 96728, 96729, 96730, 96731, 96732, 96733, 96734, 96735, 96736, 96737, 96738, 96739, 96740, 96741, 96742, 96743, 96744, 96745, 96746, 96747, 96748, 96749, 96750, 96751, 96752, 96753, 96754, 96755, 96756, 96757, 96758, 96759, 96760, 96761, 96762, 96763, 96764, 96765, 96766, 96767, 96768, 96769, 96770, 96771, 96772, 96773, 96774, 96775, 96776, 96777, 96778, 96779, 96780, 96781, 96782, 96783, 96784, 96785, 96786, 96787, 96788, 96789, 96790, 96791, 96792, 96793, 96794, 96795, 96796, 96797, 96798, 96799, 96800, 96801, 96802, 96803, 96804, 96805, 96806, 96807, 96808, 96809, 96810, 96811, 96812, 96813, 96814, 96815, 96816, 96817, 96818, 96819, 96820, 96821, 96822, 96823, 96824, 96825, 96826, 96827, 96828, 96829, 96830, 96831, 96832, 96833, 96834, 96835, 96836, 96837, 96838, 96839, 96840, 96841, 96842, 96843, 96844, 96845, 96846, 96847, 96848, 96849, 96850, 96851, 96852, 96853, 96854, 96855, 96856, 96857, 96858, 96859, 96860, 96861, 96862, 96863, 96864, 96865, 96866, 96867, 96868, 96869, 96870, 96871, 96872, 96873, 96874, 96875, 96876, 96877, 96878, 96879, 96880, 96881, 96882, 96883, 96884, 96885, 96886, 96887, 96888, 96889, 96890, 96891, 96892, 96893, 96894, 96895, 96896, 96897, 96898, 96899, 96900, 96901, 96902, 96903, 96904, 96905, 96906, 96907, 96908, 96909, 96910, 96911, 96912, 96913, 96914, 96915, 96916, 96917, 96918, 96919, 96920, 96921, 96922, 96923, 96924, 96925, 96926, 96927, 96928, 96929, 96930, 96931, 96932, 96933, 96934, 96935, 96936, 96937, 96938, 96939, 96940, 96941, 96942, 96943, 96944, 96945, 96946, 96947, 96948, 96949, 96950, 96951, 96952, 96953, 96954, 96955, 96956, 96957, 96958, 96959, 96960, 96961, 96962, 96963, 96964, 96965, 96966, 96967, 96968, 96969, 96970, 96971, 96972, 96973, 96974, 96975, 96976, 96977, 96978, 96979, 96980, 96981, 96982, 96983, 96984, 96985, 96986, 96987, 96988, 96989, 96990, 96991, 96992, 96993, 96994, 96995, 96996, 96997, 96998, 96999, 97000, 97001, 97002, 97003, 97004, 97005, 97006, 97007, 97008, 97009, 97010, 97011, 97012, 97013, 97014, 97015, 97016, 97017, 97018, 97019, 97020, 97021, 97022, 97023, 97024, 97025, 97026, 97027, 97028, 97029, 97030, 97031, 97032, 97033, 97034, 97035, 97036, 97037, 97038, 97039, 97040, 97041, 97042, 97043, 97044, 97045, 97046, 97047, 97048, 97049, 97050, 97051, 97052, 97053, 97054, 97055, 97056, 97057, 97058, 97059, 97060, 97061, 97062, 97063, 97064, 97065, 97066, 97067, 97068, 97069, 97070, 97071, 97072, 97073, 97074, 97075, 97076, 97077, 97078, 97079, 97080, 97081, 97082, 97083, 97084, 97085, 97086, 97087, 97088, 97089, 97090, 97091, 97092, 97093, 97094, 97095, 97096, 97097, 97098, 97099, 97100, 97101, 97102, 97103, 97104, 97105, 97106, 97107, 97108, 97109, 97110, 97111, 97112, 97113, 97114, 97115, 97116, 97117, 97118, 97119, 97120, 97121, 97122, 97123, 97124, 97125, 97126, 97127, 97128, 97129, 97130, 97131, 97132, 97133, 97134, 97135, 97136, 97137, 97138, 97139, 97140, 97141, 97142, 97143, 97144, 97145, 97146, 97147, 97148, 97149, 97150, 97151, 97152, 97153, 97154, 97155, 97156, 97157, 97158, 97159, 97160, 97161, 97162, 97163, 97164, 97165, 97166, 97167, 97168, 97169, 97170, 97171, 97172, 97173, 97174, 97175, 97176, 97177, 97178, 97179, 97180, 97181, 97182, 97183, 97184, 97185, 97186, 97187, 97188, 97189, 97190, 97191, 97192, 97193, 97194, 97195, 97196, 97197, 97198, 97199, 97200, 97201, 97202, 97203, 97204, 97205, 97206, 97207, 97208, 97209, 97210, 97211, 97212, 97213, 97214, 97215, 97216, 97217, 97218, 97219, 97220, 97221, 97222, 97223, 97224, 97225, 97226, 97227, 97228, 97229, 97230, 97231, 97232, 97233, 97234, 97235, 97236, 97237, 97238, 97239, 97240, 97241, 97242, 97243, 97244, 97245, 97246, 97247, 121843, 121844, 121845, 122263, 122264, 126214, 126225, 134428, 137345, 139694, 139765, 139783, 147181, 147182, 147183, 150889, 150890, 153795, 153796, 153797, 157819, 166997, 178617, 178618, 178619, 186552, 186553, 186577, 190488, 204148, 204149, 204150, 209490]\n",
            "1102\n"
          ],
          "name": "stdout"
        }
      ]
    },
    {
      "cell_type": "code",
      "metadata": {
        "id": "6CAXB3eHBa-b"
      },
      "source": [
        "seq_length = 50\n",
        "predict_length = 10\n",
        "input_columns = len(columns)\n",
        "\n",
        "num_Data = 1\n",
        "\n",
        "if null_row[0] - 1 > seq_length + predict_length:\n",
        "    X0 = X[:null_row[0] - 1, :]\n",
        "    Y0 = Y[:null_row[0] - 1]\n",
        "\n",
        "for i in range(1, len(null_row)):\n",
        "    if null_row[i] - null_row[i-1] - 1 > seq_length + predict_length:\n",
        "        locals()['X{}'.format(num_Data)] = X[null_row[i-1] + 1 : null_row[i] - 1, :]\n",
        "        locals()['Y{}'.format(num_Data)] = Y[null_row[i-1] + 1 : null_row[i] - 1]\n",
        "        num_Data += 1"
      ],
      "execution_count": null,
      "outputs": []
    },
    {
      "cell_type": "code",
      "metadata": {
        "id": "XKHYuRvLES2-"
      },
      "source": [
        "def min_max_scaling(x):\n",
        "    scaler=MinMaxScaler()\n",
        "    x_np = np.asarray(x)\n",
        "    x_np = scaler.fit_transform(x_np)\n",
        "    return x_np"
      ],
      "execution_count": null,
      "outputs": []
    },
    {
      "cell_type": "code",
      "metadata": {
        "colab": {
          "base_uri": "https://localhost:8080/"
        },
        "id": "cM160v65Bekh",
        "outputId": "7fcd8dde-20f3-4c9f-811c-a78bbbe779f1"
      },
      "source": [
        "selected_feature_idx = [130, 156, 157, 253, 274, 278, 288, 465]\n",
        "\n",
        "x = min_max_scaling(X0[:, selected_feature_idx])\n",
        "\n",
        "\n",
        "dataX = []\n",
        "dataY = []\n",
        "for i in range(0, len(Y0) - seq_length - predict_length + 1):\n",
        "    _x = x[i : i + seq_length]\n",
        "    _y = Y0[i + seq_length : i + seq_length + predict_length]\n",
        "    dataX.append(_x)\n",
        "    dataY.append(_y)\n",
        "    \n",
        "\n",
        "dataX = np.array(dataX)\n",
        "dataY = np.array(dataY)\n",
        "dataY=dataY.reshape(18338,10,1)\n",
        "\n",
        "trainX, testX, trainY, testY = train_test_split(dataX,dataY,test_size=0.3,shuffle=False)\n",
        "\n",
        "\n",
        "print(trainX.shape)\n",
        "print(trainY.shape)\n",
        "print(testX.shape)\n",
        "print(testY.shape)"
      ],
      "execution_count": null,
      "outputs": [
        {
          "output_type": "stream",
          "text": [
            "(12836, 50, 8)\n",
            "(12836, 10, 1)\n",
            "(5502, 50, 8)\n",
            "(5502, 10, 1)\n"
          ],
          "name": "stdout"
        }
      ]
    },
    {
      "cell_type": "code",
      "metadata": {
        "colab": {
          "base_uri": "https://localhost:8080/"
        },
        "id": "KHzMsLs0BjJr",
        "outputId": "0b2bdfa9-aa6a-414e-82c6-206fdd7641a4"
      },
      "source": [
        "select_columns = []\n",
        "for i in selected_feature_idx:\n",
        "  select_columns.append(columns[i])\n",
        "select_columns"
      ],
      "execution_count": null,
      "outputs": [
        {
          "output_type": "execute_result",
          "data": {
            "text/plain": [
              "['ST110_VARExtr_3_HeizungZone_4_Regler_Y',\n",
              " 'ST110_VAREx_0_RegelungEin',\n",
              " 'ST110_VAREx_0_SDickeIst',\n",
              " 'ST110_VAREx_2_Dos_5_Materialvorwahl',\n",
              " 'ST110_VAREx_3_Dos_2_IstDurchsatz',\n",
              " 'ST110_VAREx_3_Dos_2_SollAnteil',\n",
              " 'ST110_VAREx_3_Dos_3_SollAnteil',\n",
              " 'ST114_VARWdSpTens']"
            ]
          },
          "metadata": {
            "tags": []
          },
          "execution_count": 11
        }
      ]
    },
    {
      "cell_type": "code",
      "metadata": {
        "colab": {
          "base_uri": "https://localhost:8080/"
        },
        "id": "bJMl1NFlBlK4",
        "outputId": "8706afe2-55f1-47c7-d206-f3a6b53c0126"
      },
      "source": [
        "model_rnn=keras.Sequential()\n",
        "model_rnn.add(keras.layers.LSTM(64,activation='tanh',return_sequences=True,input_shape=(50,8)))\n",
        "model_rnn.add(keras.layers.LSTM(32,activation='tanh',return_sequences=True))\n",
        "model_rnn.add(keras.layers.LSTM(32,activation='tanh',return_sequences=False))\n",
        "model_rnn.add(keras.layers.Dense(10,activation='sigmoid'))\n",
        "model_rnn.summary()\n"
      ],
      "execution_count": null,
      "outputs": [
        {
          "output_type": "stream",
          "text": [
            "Model: \"sequential\"\n",
            "_________________________________________________________________\n",
            "Layer (type)                 Output Shape              Param #   \n",
            "=================================================================\n",
            "lstm (LSTM)                  (None, 50, 64)            18688     \n",
            "_________________________________________________________________\n",
            "lstm_1 (LSTM)                (None, 50, 32)            12416     \n",
            "_________________________________________________________________\n",
            "lstm_2 (LSTM)                (None, 32)                8320      \n",
            "_________________________________________________________________\n",
            "dense (Dense)                (None, 10)                330       \n",
            "=================================================================\n",
            "Total params: 39,754\n",
            "Trainable params: 39,754\n",
            "Non-trainable params: 0\n",
            "_________________________________________________________________\n"
          ],
          "name": "stdout"
        }
      ]
    },
    {
      "cell_type": "markdown",
      "metadata": {
        "id": "uN2EuT9OlzAw"
      },
      "source": [
        "Callback은 반드시 써주세요."
      ]
    },
    {
      "cell_type": "code",
      "metadata": {
        "colab": {
          "base_uri": "https://localhost:8080/"
        },
        "id": "hwl-_QK2Bpjh",
        "outputId": "3fed9bed-4962-4888-81d4-e74853b6a981"
      },
      "source": [
        "from keras.callbacks import EarlyStopping, ModelCheckpoint\n",
        "es=EarlyStopping(monitor='val_loss',min_delta=0,verbose=1,patience=5)\n",
        "mc=ModelCheckpoint('best_rnn_model.h5',monitor='val_loss',mode='min',save_best_only=True)\n",
        "\n",
        "model_rnn.compile(optimizer='adam',\n",
        "              loss='binary_crossentropy',\n",
        "              metrics=['mse'])\n",
        "history=model_rnn.fit(trainX,trainY,validation_split=0.2,epochs=10,callbacks=[es,mc],batch_size=32)"
      ],
      "execution_count": null,
      "outputs": [
        {
          "output_type": "stream",
          "text": [
            "Epoch 1/10\n",
            "321/321 [==============================] - 45s 75ms/step - loss: 0.3000 - mse: 0.0883 - val_loss: 0.1874 - val_mse: 0.0475\n",
            "Epoch 2/10\n",
            "321/321 [==============================] - 22s 70ms/step - loss: 0.1102 - mse: 0.0246 - val_loss: 0.1471 - val_mse: 0.0333\n",
            "Epoch 3/10\n",
            "321/321 [==============================] - 22s 70ms/step - loss: 0.0877 - mse: 0.0189 - val_loss: 0.1369 - val_mse: 0.0309\n",
            "Epoch 4/10\n",
            "321/321 [==============================] - 22s 70ms/step - loss: 0.0891 - mse: 0.0188 - val_loss: 0.1411 - val_mse: 0.0334\n",
            "Epoch 5/10\n",
            "321/321 [==============================] - 22s 70ms/step - loss: 0.0773 - mse: 0.0163 - val_loss: 0.1326 - val_mse: 0.0303\n",
            "Epoch 6/10\n",
            "321/321 [==============================] - 22s 69ms/step - loss: 0.0764 - mse: 0.0160 - val_loss: 0.1263 - val_mse: 0.0294\n",
            "Epoch 7/10\n",
            "321/321 [==============================] - 22s 70ms/step - loss: 0.0783 - mse: 0.0165 - val_loss: 0.1328 - val_mse: 0.0312\n",
            "Epoch 8/10\n",
            "321/321 [==============================] - 22s 70ms/step - loss: 0.0778 - mse: 0.0162 - val_loss: 0.1309 - val_mse: 0.0291\n",
            "Epoch 9/10\n",
            "321/321 [==============================] - 22s 70ms/step - loss: 0.0775 - mse: 0.0164 - val_loss: 0.1322 - val_mse: 0.0294\n",
            "Epoch 10/10\n",
            "321/321 [==============================] - 23s 71ms/step - loss: 0.0722 - mse: 0.0150 - val_loss: 0.1404 - val_mse: 0.0315\n"
          ],
          "name": "stdout"
        }
      ]
    },
    {
      "cell_type": "code",
      "metadata": {
        "colab": {
          "base_uri": "https://localhost:8080/",
          "height": 282
        },
        "id": "5qaKtREPX6b-",
        "outputId": "7490345a-116c-4201-d85a-67cf83310357"
      },
      "source": [
        "print(history.history['loss'])\n",
        "fig,loss_ax=plt.subplots()\n",
        "loss_ax.plot(history.history['loss'],'r',label='train loss')\n",
        "loss_ax.plot(history.history['val_loss'],'b',label='train validation loss')\n",
        "loss_ax.legend(loc='upper left')\n",
        "\n",
        "plt.show()"
      ],
      "execution_count": null,
      "outputs": [
        {
          "output_type": "stream",
          "text": [
            "[0.19274193048477173, 0.09450259804725647, 0.08527121692895889, 0.08204838633537292, 0.08128450065851212, 0.07936030626296997, 0.07997209578752518, 0.07718762010335922, 0.07605312019586563, 0.07633268088102341]\n"
          ],
          "name": "stdout"
        },
        {
          "output_type": "display_data",
          "data": {
            "image/png": "[encoded data removed]",
            "text/plain": [
              "<Figure size 432x288 with 1 Axes>"
            ]
          },
          "metadata": {
            "tags": [],
            "needs_background": "light"
          }
        }
      ]
    },
    {
      "cell_type": "code",
      "metadata": {
        "colab": {
          "base_uri": "https://localhost:8080/"
        },
        "id": "T8ZKs8-AWUM_",
        "outputId": "b4c1c0ad-6b50-47ac-fdd4-65fc1005fa16"
      },
      "source": [
        "model_rnn.load_weights('best_rnn_model.h5')\n",
        "model_rnn.evaluate(testX,testY)"
      ],
      "execution_count": null,
      "outputs": [
        {
          "output_type": "stream",
          "text": [
            "172/172 [==============================] - 3s 18ms/step - loss: 0.1451 - mse: 0.0338\n"
          ],
          "name": "stdout"
        },
        {
          "output_type": "execute_result",
          "data": {
            "text/plain": [
              "[0.14505867660045624, 0.033846333622932434]"
            ]
          },
          "metadata": {
            "tags": []
          },
          "execution_count": 15
        }
      ]
    },
    {
      "cell_type": "code",
      "metadata": {
        "id": "m_-yguZWJcV8"
      },
      "source": [
        "y_predict=model_rnn.predict(testX)\n",
        "predict=[]\n",
        "for i in range(5502):\n",
        "  predict.append(y_predict[i][0])"
      ],
      "execution_count": null,
      "outputs": []
    },
    {
      "cell_type": "code",
      "metadata": {
        "colab": {
          "base_uri": "https://localhost:8080/",
          "height": 536
        },
        "id": "m04LR6pZBzFg",
        "outputId": "079c4d72-c482-4683-e995-bd23bd8d9404"
      },
      "source": [
        "\n",
        "plt.figure(figsize=(12, 9))\n",
        "plt.plot(predict,label='prediction')\n",
        "plt.plot(Y0[-5502:],label='actual')\n",
        "plt.legend(loc='center right')\n",
        "plt.show()"
      ],
      "execution_count": null,
      "outputs": [
        {
          "output_type": "display_data",
          "data": {
            "image/png": "[encoded data removed]",
            "text/plain": [
              "<Figure size 864x648 with 1 Axes>"
            ]
          },
          "metadata": {
            "tags": [],
            "needs_background": "light"
          }
        }
      ]
    },
    {
      "cell_type": "markdown",
      "metadata": {
        "id": "QR9EAp10mqK1"
      },
      "source": [
        "#2) 자동차 연비(MPG) 예측 문제"
      ]
    },
    {
      "cell_type": "code",
      "metadata": {
        "colab": {
          "base_uri": "https://localhost:8080/",
          "height": 35
        },
        "id": "-ZweJHA7C0Kv",
        "outputId": "12893e0a-465c-432f-b183-f6ca565a0787"
      },
      "source": [
        "import tensorflow as tf\n",
        "from tensorflow import keras\n",
        "\n",
        "dataset_path = keras.utils.get_file(\"auto-mpg.data\", \"http://archive.ics.uci.edu/ml/machine-learning-databases/auto-mpg/auto-mpg.data\")\n",
        "dataset_path"
      ],
      "execution_count": null,
      "outputs": [
        {
          "output_type": "execute_result",
          "data": {
            "application/vnd.google.colaboratory.intrinsic+json": {
              "type": "string"
            },
            "text/plain": [
              "'/root/.keras/datasets/auto-mpg.data'"
            ]
          },
          "metadata": {
            "tags": []
          },
          "execution_count": 18
        }
      ]
    },
    {
      "cell_type": "code",
      "metadata": {
        "colab": {
          "base_uri": "https://localhost:8080/",
          "height": 204
        },
        "id": "o2lzeD_5mwu3",
        "outputId": "a08d50b1-01fc-49c2-da21-23d880845b99"
      },
      "source": [
        "column_names = ['MPG','Cylinders','Displacement','Horsepower','Weight',\n",
        "                'Acceleration', 'Model Year', 'Origin']\n",
        "raw_dataset = pd.read_csv(dataset_path, names=column_names,\n",
        "                      na_values = \"?\", comment='\\t',\n",
        "                      sep=\" \", skipinitialspace=True)\n",
        "\n",
        "dataset = raw_dataset.copy()\n",
        "dataset.tail()"
      ],
      "execution_count": null,
      "outputs": [
        {
          "output_type": "execute_result",
          "data": {
            "text/html": [
              "<div>\n",
              "<style scoped>\n",
              "    .dataframe tbody tr th:only-of-type {\n",
              "        vertical-align: middle;\n",
              "    }\n",
              "\n",
              "    .dataframe tbody tr th {\n",
              "        vertical-align: top;\n",
              "    }\n",
              "\n",
              "    .dataframe thead th {\n",
              "        text-align: right;\n",
              "    }\n",
              "</style>\n",
              "<table border=\"1\" class=\"dataframe\">\n",
              "  <thead>\n",
              "    <tr style=\"text-align: right;\">\n",
              "      <th></th>\n",
              "      <th>MPG</th>\n",
              "      <th>Cylinders</th>\n",
              "      <th>Displacement</th>\n",
              "      <th>Horsepower</th>\n",
              "      <th>Weight</th>\n",
              "      <th>Acceleration</th>\n",
              "      <th>Model Year</th>\n",
              "      <th>Origin</th>\n",
              "    </tr>\n",
              "  </thead>\n",
              "  <tbody>\n",
              "    <tr>\n",
              "      <th>393</th>\n",
              "      <td>27.0</td>\n",
              "      <td>4</td>\n",
              "      <td>140.0</td>\n",
              "      <td>86.0</td>\n",
              "      <td>2790.0</td>\n",
              "      <td>15.6</td>\n",
              "      <td>82</td>\n",
              "      <td>1</td>\n",
              "    </tr>\n",
              "    <tr>\n",
              "      <th>394</th>\n",
              "      <td>44.0</td>\n",
              "      <td>4</td>\n",
              "      <td>97.0</td>\n",
              "      <td>52.0</td>\n",
              "      <td>2130.0</td>\n",
              "      <td>24.6</td>\n",
              "      <td>82</td>\n",
              "      <td>2</td>\n",
              "    </tr>\n",
              "    <tr>\n",
              "      <th>395</th>\n",
              "      <td>32.0</td>\n",
              "      <td>4</td>\n",
              "      <td>135.0</td>\n",
              "      <td>84.0</td>\n",
              "      <td>2295.0</td>\n",
              "      <td>11.6</td>\n",
              "      <td>82</td>\n",
              "      <td>1</td>\n",
              "    </tr>\n",
              "    <tr>\n",
              "      <th>396</th>\n",
              "      <td>28.0</td>\n",
              "      <td>4</td>\n",
              "      <td>120.0</td>\n",
              "      <td>79.0</td>\n",
              "      <td>2625.0</td>\n",
              "      <td>18.6</td>\n",
              "      <td>82</td>\n",
              "      <td>1</td>\n",
              "    </tr>\n",
              "    <tr>\n",
              "      <th>397</th>\n",
              "      <td>31.0</td>\n",
              "      <td>4</td>\n",
              "      <td>119.0</td>\n",
              "      <td>82.0</td>\n",
              "      <td>2720.0</td>\n",
              "      <td>19.4</td>\n",
              "      <td>82</td>\n",
              "      <td>1</td>\n",
              "    </tr>\n",
              "  </tbody>\n",
              "</table>\n",
              "</div>"
            ],
            "text/plain": [
              "      MPG  Cylinders  Displacement  ...  Acceleration  Model Year  Origin\n",
              "393  27.0          4         140.0  ...          15.6          82       1\n",
              "394  44.0          4          97.0  ...          24.6          82       2\n",
              "395  32.0          4         135.0  ...          11.6          82       1\n",
              "396  28.0          4         120.0  ...          18.6          82       1\n",
              "397  31.0          4         119.0  ...          19.4          82       1\n",
              "\n",
              "[5 rows x 8 columns]"
            ]
          },
          "metadata": {
            "tags": []
          },
          "execution_count": 19
        }
      ]
    },
    {
      "cell_type": "code",
      "metadata": {
        "colab": {
          "base_uri": "https://localhost:8080/"
        },
        "id": "4WogN67PmyDe",
        "outputId": "431516bf-5646-46b9-c2a6-a4335583fe09"
      },
      "source": [
        "dataset.isna().sum()"
      ],
      "execution_count": null,
      "outputs": [
        {
          "output_type": "execute_result",
          "data": {
            "text/plain": [
              "MPG             0\n",
              "Cylinders       0\n",
              "Displacement    0\n",
              "Horsepower      6\n",
              "Weight          0\n",
              "Acceleration    0\n",
              "Model Year      0\n",
              "Origin          0\n",
              "dtype: int64"
            ]
          },
          "metadata": {
            "tags": []
          },
          "execution_count": 20
        }
      ]
    },
    {
      "cell_type": "code",
      "metadata": {
        "id": "ge0Fj212mzVr"
      },
      "source": [
        "dataset = dataset.dropna()"
      ],
      "execution_count": null,
      "outputs": []
    },
    {
      "cell_type": "code",
      "metadata": {
        "id": "vMV14AHzm1Ir"
      },
      "source": [
        "origin = dataset.pop('Origin')"
      ],
      "execution_count": null,
      "outputs": []
    },
    {
      "cell_type": "code",
      "metadata": {
        "colab": {
          "base_uri": "https://localhost:8080/",
          "height": 204
        },
        "id": "8GjY8bdmm22d",
        "outputId": "22ad53a7-c67c-4677-879c-d278c35c99d7"
      },
      "source": [
        "dataset['USA'] = (origin == 1)*1.0\n",
        "dataset['Europe'] = (origin == 2)*1.0\n",
        "dataset['Japan'] = (origin == 3)*1.0\n",
        "dataset.tail()"
      ],
      "execution_count": null,
      "outputs": [
        {
          "output_type": "execute_result",
          "data": {
            "text/html": [
              "<div>\n",
              "<style scoped>\n",
              "    .dataframe tbody tr th:only-of-type {\n",
              "        vertical-align: middle;\n",
              "    }\n",
              "\n",
              "    .dataframe tbody tr th {\n",
              "        vertical-align: top;\n",
              "    }\n",
              "\n",
              "    .dataframe thead th {\n",
              "        text-align: right;\n",
              "    }\n",
              "</style>\n",
              "<table border=\"1\" class=\"dataframe\">\n",
              "  <thead>\n",
              "    <tr style=\"text-align: right;\">\n",
              "      <th></th>\n",
              "      <th>MPG</th>\n",
              "      <th>Cylinders</th>\n",
              "      <th>Displacement</th>\n",
              "      <th>Horsepower</th>\n",
              "      <th>Weight</th>\n",
              "      <th>Acceleration</th>\n",
              "      <th>Model Year</th>\n",
              "      <th>USA</th>\n",
              "      <th>Europe</th>\n",
              "      <th>Japan</th>\n",
              "    </tr>\n",
              "  </thead>\n",
              "  <tbody>\n",
              "    <tr>\n",
              "      <th>393</th>\n",
              "      <td>27.0</td>\n",
              "      <td>4</td>\n",
              "      <td>140.0</td>\n",
              "      <td>86.0</td>\n",
              "      <td>2790.0</td>\n",
              "      <td>15.6</td>\n",
              "      <td>82</td>\n",
              "      <td>1.0</td>\n",
              "      <td>0.0</td>\n",
              "      <td>0.0</td>\n",
              "    </tr>\n",
              "    <tr>\n",
              "      <th>394</th>\n",
              "      <td>44.0</td>\n",
              "      <td>4</td>\n",
              "      <td>97.0</td>\n",
              "      <td>52.0</td>\n",
              "      <td>2130.0</td>\n",
              "      <td>24.6</td>\n",
              "      <td>82</td>\n",
              "      <td>0.0</td>\n",
              "      <td>1.0</td>\n",
              "      <td>0.0</td>\n",
              "    </tr>\n",
              "    <tr>\n",
              "      <th>395</th>\n",
              "      <td>32.0</td>\n",
              "      <td>4</td>\n",
              "      <td>135.0</td>\n",
              "      <td>84.0</td>\n",
              "      <td>2295.0</td>\n",
              "      <td>11.6</td>\n",
              "      <td>82</td>\n",
              "      <td>1.0</td>\n",
              "      <td>0.0</td>\n",
              "      <td>0.0</td>\n",
              "    </tr>\n",
              "    <tr>\n",
              "      <th>396</th>\n",
              "      <td>28.0</td>\n",
              "      <td>4</td>\n",
              "      <td>120.0</td>\n",
              "      <td>79.0</td>\n",
              "      <td>2625.0</td>\n",
              "      <td>18.6</td>\n",
              "      <td>82</td>\n",
              "      <td>1.0</td>\n",
              "      <td>0.0</td>\n",
              "      <td>0.0</td>\n",
              "    </tr>\n",
              "    <tr>\n",
              "      <th>397</th>\n",
              "      <td>31.0</td>\n",
              "      <td>4</td>\n",
              "      <td>119.0</td>\n",
              "      <td>82.0</td>\n",
              "      <td>2720.0</td>\n",
              "      <td>19.4</td>\n",
              "      <td>82</td>\n",
              "      <td>1.0</td>\n",
              "      <td>0.0</td>\n",
              "      <td>0.0</td>\n",
              "    </tr>\n",
              "  </tbody>\n",
              "</table>\n",
              "</div>"
            ],
            "text/plain": [
              "      MPG  Cylinders  Displacement  Horsepower  ...  Model Year  USA  Europe  Japan\n",
              "393  27.0          4         140.0        86.0  ...          82  1.0     0.0    0.0\n",
              "394  44.0          4          97.0        52.0  ...          82  0.0     1.0    0.0\n",
              "395  32.0          4         135.0        84.0  ...          82  1.0     0.0    0.0\n",
              "396  28.0          4         120.0        79.0  ...          82  1.0     0.0    0.0\n",
              "397  31.0          4         119.0        82.0  ...          82  1.0     0.0    0.0\n",
              "\n",
              "[5 rows x 10 columns]"
            ]
          },
          "metadata": {
            "tags": []
          },
          "execution_count": 23
        }
      ]
    },
    {
      "cell_type": "code",
      "metadata": {
        "id": "82t9GoSkm4Qc"
      },
      "source": [
        "train_dataset = dataset.sample(frac=0.8,random_state=0)\n",
        "test_dataset = dataset.drop(train_dataset.index)"
      ],
      "execution_count": null,
      "outputs": []
    },
    {
      "cell_type": "code",
      "metadata": {
        "colab": {
          "base_uri": "https://localhost:8080/",
          "height": 204
        },
        "id": "dQ0tJykQm53V",
        "outputId": "4958916e-baeb-4be7-ab23-d3b32e50c813"
      },
      "source": [
        "train_dataset.head()"
      ],
      "execution_count": null,
      "outputs": [
        {
          "output_type": "execute_result",
          "data": {
            "text/html": [
              "<div>\n",
              "<style scoped>\n",
              "    .dataframe tbody tr th:only-of-type {\n",
              "        vertical-align: middle;\n",
              "    }\n",
              "\n",
              "    .dataframe tbody tr th {\n",
              "        vertical-align: top;\n",
              "    }\n",
              "\n",
              "    .dataframe thead th {\n",
              "        text-align: right;\n",
              "    }\n",
              "</style>\n",
              "<table border=\"1\" class=\"dataframe\">\n",
              "  <thead>\n",
              "    <tr style=\"text-align: right;\">\n",
              "      <th></th>\n",
              "      <th>MPG</th>\n",
              "      <th>Cylinders</th>\n",
              "      <th>Displacement</th>\n",
              "      <th>Horsepower</th>\n",
              "      <th>Weight</th>\n",
              "      <th>Acceleration</th>\n",
              "      <th>Model Year</th>\n",
              "      <th>USA</th>\n",
              "      <th>Europe</th>\n",
              "      <th>Japan</th>\n",
              "    </tr>\n",
              "  </thead>\n",
              "  <tbody>\n",
              "    <tr>\n",
              "      <th>146</th>\n",
              "      <td>28.0</td>\n",
              "      <td>4</td>\n",
              "      <td>90.0</td>\n",
              "      <td>75.0</td>\n",
              "      <td>2125.0</td>\n",
              "      <td>14.5</td>\n",
              "      <td>74</td>\n",
              "      <td>1.0</td>\n",
              "      <td>0.0</td>\n",
              "      <td>0.0</td>\n",
              "    </tr>\n",
              "    <tr>\n",
              "      <th>282</th>\n",
              "      <td>22.3</td>\n",
              "      <td>4</td>\n",
              "      <td>140.0</td>\n",
              "      <td>88.0</td>\n",
              "      <td>2890.0</td>\n",
              "      <td>17.3</td>\n",
              "      <td>79</td>\n",
              "      <td>1.0</td>\n",
              "      <td>0.0</td>\n",
              "      <td>0.0</td>\n",
              "    </tr>\n",
              "    <tr>\n",
              "      <th>69</th>\n",
              "      <td>12.0</td>\n",
              "      <td>8</td>\n",
              "      <td>350.0</td>\n",
              "      <td>160.0</td>\n",
              "      <td>4456.0</td>\n",
              "      <td>13.5</td>\n",
              "      <td>72</td>\n",
              "      <td>1.0</td>\n",
              "      <td>0.0</td>\n",
              "      <td>0.0</td>\n",
              "    </tr>\n",
              "    <tr>\n",
              "      <th>378</th>\n",
              "      <td>38.0</td>\n",
              "      <td>4</td>\n",
              "      <td>105.0</td>\n",
              "      <td>63.0</td>\n",
              "      <td>2125.0</td>\n",
              "      <td>14.7</td>\n",
              "      <td>82</td>\n",
              "      <td>1.0</td>\n",
              "      <td>0.0</td>\n",
              "      <td>0.0</td>\n",
              "    </tr>\n",
              "    <tr>\n",
              "      <th>331</th>\n",
              "      <td>33.8</td>\n",
              "      <td>4</td>\n",
              "      <td>97.0</td>\n",
              "      <td>67.0</td>\n",
              "      <td>2145.0</td>\n",
              "      <td>18.0</td>\n",
              "      <td>80</td>\n",
              "      <td>0.0</td>\n",
              "      <td>0.0</td>\n",
              "      <td>1.0</td>\n",
              "    </tr>\n",
              "  </tbody>\n",
              "</table>\n",
              "</div>"
            ],
            "text/plain": [
              "      MPG  Cylinders  Displacement  Horsepower  ...  Model Year  USA  Europe  Japan\n",
              "146  28.0          4          90.0        75.0  ...          74  1.0     0.0    0.0\n",
              "282  22.3          4         140.0        88.0  ...          79  1.0     0.0    0.0\n",
              "69   12.0          8         350.0       160.0  ...          72  1.0     0.0    0.0\n",
              "378  38.0          4         105.0        63.0  ...          82  1.0     0.0    0.0\n",
              "331  33.8          4          97.0        67.0  ...          80  0.0     0.0    1.0\n",
              "\n",
              "[5 rows x 10 columns]"
            ]
          },
          "metadata": {
            "tags": []
          },
          "execution_count": 25
        }
      ]
    },
    {
      "cell_type": "markdown",
      "metadata": {
        "id": "9C1NfUc3m7wh"
      },
      "source": [
        "feature와 label 분리"
      ]
    },
    {
      "cell_type": "code",
      "metadata": {
        "id": "2uJOJRRnm_H_"
      },
      "source": [
        "train_stats = train_dataset.describe()\n",
        "train_stats.pop(\"MPG\")\n",
        "train_stats = train_stats.transpose()\n",
        "\n",
        "train_labels = train_dataset.pop('MPG')\n",
        "test_labels = test_dataset.pop('MPG')"
      ],
      "execution_count": null,
      "outputs": []
    },
    {
      "cell_type": "code",
      "metadata": {
        "colab": {
          "base_uri": "https://localhost:8080/"
        },
        "id": "4FparJXrnAjc",
        "outputId": "f66cf07b-8df0-4abf-a33d-715e4fd99e34"
      },
      "source": [
        "train_dataset.shape"
      ],
      "execution_count": null,
      "outputs": [
        {
          "output_type": "execute_result",
          "data": {
            "text/plain": [
              "(314, 9)"
            ]
          },
          "metadata": {
            "tags": []
          },
          "execution_count": 27
        }
      ]
    },
    {
      "cell_type": "markdown",
      "metadata": {
        "id": "25PxLLgXnFzZ"
      },
      "source": [
        "정규화하기 ( norm 함수를 사용)"
      ]
    },
    {
      "cell_type": "code",
      "metadata": {
        "id": "KUOYIwzWnB44"
      },
      "source": [
        "def norm(x):\n",
        "  return (x - train_stats['mean']) / train_stats['std']\n",
        "normed_train_data = norm(train_dataset)\n",
        "normed_test_data = norm(test_dataset)"
      ],
      "execution_count": null,
      "outputs": []
    },
    {
      "cell_type": "code",
      "metadata": {
        "colab": {
          "base_uri": "https://localhost:8080/",
          "height": 420
        },
        "id": "nVD1TX3IxBBG",
        "outputId": "9959df54-9480-42ba-d5d2-c82063bf6980"
      },
      "source": [
        "normed_train_data"
      ],
      "execution_count": null,
      "outputs": [
        {
          "output_type": "execute_result",
          "data": {
            "text/html": [
              "<div>\n",
              "<style scoped>\n",
              "    .dataframe tbody tr th:only-of-type {\n",
              "        vertical-align: middle;\n",
              "    }\n",
              "\n",
              "    .dataframe tbody tr th {\n",
              "        vertical-align: top;\n",
              "    }\n",
              "\n",
              "    .dataframe thead th {\n",
              "        text-align: right;\n",
              "    }\n",
              "</style>\n",
              "<table border=\"1\" class=\"dataframe\">\n",
              "  <thead>\n",
              "    <tr style=\"text-align: right;\">\n",
              "      <th></th>\n",
              "      <th>Cylinders</th>\n",
              "      <th>Displacement</th>\n",
              "      <th>Horsepower</th>\n",
              "      <th>Weight</th>\n",
              "      <th>Acceleration</th>\n",
              "      <th>Model Year</th>\n",
              "      <th>USA</th>\n",
              "      <th>Europe</th>\n",
              "      <th>Japan</th>\n",
              "    </tr>\n",
              "  </thead>\n",
              "  <tbody>\n",
              "    <tr>\n",
              "      <th>146</th>\n",
              "      <td>-0.869348</td>\n",
              "      <td>-1.009459</td>\n",
              "      <td>-0.784052</td>\n",
              "      <td>-1.025303</td>\n",
              "      <td>-0.379759</td>\n",
              "      <td>-0.516397</td>\n",
              "      <td>0.774676</td>\n",
              "      <td>-0.465148</td>\n",
              "      <td>-0.495225</td>\n",
              "    </tr>\n",
              "    <tr>\n",
              "      <th>282</th>\n",
              "      <td>-0.869348</td>\n",
              "      <td>-0.530218</td>\n",
              "      <td>-0.442811</td>\n",
              "      <td>-0.118796</td>\n",
              "      <td>0.624102</td>\n",
              "      <td>0.843910</td>\n",
              "      <td>0.774676</td>\n",
              "      <td>-0.465148</td>\n",
              "      <td>-0.495225</td>\n",
              "    </tr>\n",
              "    <tr>\n",
              "      <th>69</th>\n",
              "      <td>1.483887</td>\n",
              "      <td>1.482595</td>\n",
              "      <td>1.447140</td>\n",
              "      <td>1.736877</td>\n",
              "      <td>-0.738281</td>\n",
              "      <td>-1.060519</td>\n",
              "      <td>0.774676</td>\n",
              "      <td>-0.465148</td>\n",
              "      <td>-0.495225</td>\n",
              "    </tr>\n",
              "    <tr>\n",
              "      <th>378</th>\n",
              "      <td>-0.869348</td>\n",
              "      <td>-0.865687</td>\n",
              "      <td>-1.099044</td>\n",
              "      <td>-1.025303</td>\n",
              "      <td>-0.308055</td>\n",
              "      <td>1.660094</td>\n",
              "      <td>0.774676</td>\n",
              "      <td>-0.465148</td>\n",
              "      <td>-0.495225</td>\n",
              "    </tr>\n",
              "    <tr>\n",
              "      <th>331</th>\n",
              "      <td>-0.869348</td>\n",
              "      <td>-0.942365</td>\n",
              "      <td>-0.994047</td>\n",
              "      <td>-1.001603</td>\n",
              "      <td>0.875068</td>\n",
              "      <td>1.115971</td>\n",
              "      <td>-1.286751</td>\n",
              "      <td>-0.465148</td>\n",
              "      <td>2.012852</td>\n",
              "    </tr>\n",
              "    <tr>\n",
              "      <th>...</th>\n",
              "      <td>...</td>\n",
              "      <td>...</td>\n",
              "      <td>...</td>\n",
              "      <td>...</td>\n",
              "      <td>...</td>\n",
              "      <td>...</td>\n",
              "      <td>...</td>\n",
              "      <td>...</td>\n",
              "      <td>...</td>\n",
              "    </tr>\n",
              "    <tr>\n",
              "      <th>281</th>\n",
              "      <td>0.307270</td>\n",
              "      <td>0.044872</td>\n",
              "      <td>-0.521559</td>\n",
              "      <td>-0.000298</td>\n",
              "      <td>0.946772</td>\n",
              "      <td>0.843910</td>\n",
              "      <td>0.774676</td>\n",
              "      <td>-0.465148</td>\n",
              "      <td>-0.495225</td>\n",
              "    </tr>\n",
              "    <tr>\n",
              "      <th>229</th>\n",
              "      <td>1.483887</td>\n",
              "      <td>1.961837</td>\n",
              "      <td>1.972127</td>\n",
              "      <td>1.457223</td>\n",
              "      <td>-1.598734</td>\n",
              "      <td>0.299787</td>\n",
              "      <td>0.774676</td>\n",
              "      <td>-0.465148</td>\n",
              "      <td>-0.495225</td>\n",
              "    </tr>\n",
              "    <tr>\n",
              "      <th>150</th>\n",
              "      <td>-0.869348</td>\n",
              "      <td>-0.836932</td>\n",
              "      <td>-0.311564</td>\n",
              "      <td>-0.710099</td>\n",
              "      <td>-0.021237</td>\n",
              "      <td>-0.516397</td>\n",
              "      <td>-1.286751</td>\n",
              "      <td>-0.465148</td>\n",
              "      <td>2.012852</td>\n",
              "    </tr>\n",
              "    <tr>\n",
              "      <th>145</th>\n",
              "      <td>-0.869348</td>\n",
              "      <td>-1.076553</td>\n",
              "      <td>-1.151543</td>\n",
              "      <td>-1.169870</td>\n",
              "      <td>1.233589</td>\n",
              "      <td>-0.516397</td>\n",
              "      <td>-1.286751</td>\n",
              "      <td>-0.465148</td>\n",
              "      <td>2.012852</td>\n",
              "    </tr>\n",
              "    <tr>\n",
              "      <th>182</th>\n",
              "      <td>-0.869348</td>\n",
              "      <td>-0.846517</td>\n",
              "      <td>-0.495310</td>\n",
              "      <td>-0.623596</td>\n",
              "      <td>-0.021237</td>\n",
              "      <td>0.027726</td>\n",
              "      <td>-1.286751</td>\n",
              "      <td>2.143005</td>\n",
              "      <td>-0.495225</td>\n",
              "    </tr>\n",
              "  </tbody>\n",
              "</table>\n",
              "<p>314 rows × 9 columns</p>\n",
              "</div>"
            ],
            "text/plain": [
              "     Cylinders  Displacement  Horsepower  ...       USA    Europe     Japan\n",
              "146  -0.869348     -1.009459   -0.784052  ...  0.774676 -0.465148 -0.495225\n",
              "282  -0.869348     -0.530218   -0.442811  ...  0.774676 -0.465148 -0.495225\n",
              "69    1.483887      1.482595    1.447140  ...  0.774676 -0.465148 -0.495225\n",
              "378  -0.869348     -0.865687   -1.099044  ...  0.774676 -0.465148 -0.495225\n",
              "331  -0.869348     -0.942365   -0.994047  ... -1.286751 -0.465148  2.012852\n",
              "..         ...           ...         ...  ...       ...       ...       ...\n",
              "281   0.307270      0.044872   -0.521559  ...  0.774676 -0.465148 -0.495225\n",
              "229   1.483887      1.961837    1.972127  ...  0.774676 -0.465148 -0.495225\n",
              "150  -0.869348     -0.836932   -0.311564  ... -1.286751 -0.465148  2.012852\n",
              "145  -0.869348     -1.076553   -1.151543  ... -1.286751 -0.465148  2.012852\n",
              "182  -0.869348     -0.846517   -0.495310  ... -1.286751  2.143005 -0.495225\n",
              "\n",
              "[314 rows x 9 columns]"
            ]
          },
          "metadata": {
            "tags": []
          },
          "execution_count": 29
        }
      ]
    },
    {
      "cell_type": "markdown",
      "metadata": {
        "id": "v1SXRZkjnKJY"
      },
      "source": [
        "**해당 문제에서는 모델을 제공하지 않습니다.**\n",
        "\n",
        "어떠한 모델을 사용하셔도 좋습니다. (FFNN등등)\n",
        "\n",
        "하지만 2개 이상의 모델을 사용하시고 각 모델의 성능을 비교해 주세요.\n",
        "(동일 모델에서 layer와 뉴런수를 조절하여 모델을 두개 만드는 것이 아닌, 만약 1번 모델을 FCNN을 사용했다면, 2번 모델은 FFNN이 아닌 다른 모델을 사용해 주세요.)\n",
        "\n",
        "mae가 2.5 이하, mse가 6.5 이하가 되도록 모델 성능을 조절해 주세요."
      ]
    },
    {
      "cell_type": "code",
      "metadata": {
        "colab": {
          "base_uri": "https://localhost:8080/"
        },
        "id": "o09vBnyHwn72",
        "outputId": "16a573a0-609f-4fd0-9c7e-8e60da344c02"
      },
      "source": [
        "mc=ModelCheckpoint('best_ffnn_model.h5',monitor='mse',mode='min',save_best_only=True)\n",
        "model_a=keras.Sequential([\n",
        "                        keras.layers.Flatten(input_shape=normed_train_data.shape[1:]),\n",
        "                        keras.layers.Dense(64,activation='relu'),\n",
        "                        keras.layers.Dense(32,activation='relu'),\n",
        "                        keras.layers.Dense(16,activation='relu'),\n",
        "                        keras.layers.Dense(8,activation='relu'),\n",
        "                        keras.layers.Dense(1)\n",
        "])\n",
        "model_a.compile(loss='mse',optimizer='adam',metrics=['mse','mae'])\n",
        "model_a.fit(normed_train_data,train_labels,batch_size=1, epochs=50,callbacks=[mc])"
      ],
      "execution_count": null,
      "outputs": [
        {
          "output_type": "stream",
          "text": [
            "Epoch 1/50\n",
            "314/314 [==============================] - 1s 2ms/step - loss: 301.5292 - mse: 301.5292 - mae: 13.3384\n",
            "Epoch 2/50\n",
            "314/314 [==============================] - 0s 1ms/step - loss: 13.1685 - mse: 13.1685 - mae: 2.6949\n",
            "Epoch 3/50\n",
            "314/314 [==============================] - 0s 1ms/step - loss: 10.8798 - mse: 10.8798 - mae: 2.3946\n",
            "Epoch 4/50\n",
            "314/314 [==============================] - 0s 1ms/step - loss: 8.9820 - mse: 8.9820 - mae: 2.2201\n",
            "Epoch 5/50\n",
            "314/314 [==============================] - 0s 1ms/step - loss: 9.0730 - mse: 9.0730 - mae: 2.1358\n",
            "Epoch 6/50\n",
            "314/314 [==============================] - 0s 1ms/step - loss: 8.6499 - mse: 8.6499 - mae: 2.1199\n",
            "Epoch 7/50\n",
            "314/314 [==============================] - 0s 1ms/step - loss: 8.9320 - mse: 8.9320 - mae: 2.1158\n",
            "Epoch 8/50\n",
            "314/314 [==============================] - 0s 1ms/step - loss: 8.1775 - mse: 8.1775 - mae: 2.1539\n",
            "Epoch 9/50\n",
            "314/314 [==============================] - 1s 2ms/step - loss: 8.3950 - mse: 8.3950 - mae: 2.0833\n",
            "Epoch 10/50\n",
            "314/314 [==============================] - 0s 1ms/step - loss: 7.4224 - mse: 7.4224 - mae: 2.0142\n",
            "Epoch 11/50\n",
            "314/314 [==============================] - 0s 1ms/step - loss: 8.1866 - mse: 8.1866 - mae: 2.0660\n",
            "Epoch 12/50\n",
            "314/314 [==============================] - 0s 1ms/step - loss: 8.1869 - mse: 8.1869 - mae: 2.1423\n",
            "Epoch 13/50\n",
            "314/314 [==============================] - 0s 2ms/step - loss: 7.7035 - mse: 7.7035 - mae: 1.9840\n",
            "Epoch 14/50\n",
            "314/314 [==============================] - 0s 1ms/step - loss: 7.1498 - mse: 7.1498 - mae: 1.9834\n",
            "Epoch 15/50\n",
            "314/314 [==============================] - 0s 1ms/step - loss: 7.9865 - mse: 7.9865 - mae: 2.0207\n",
            "Epoch 16/50\n",
            "314/314 [==============================] - 0s 2ms/step - loss: 7.7854 - mse: 7.7854 - mae: 1.9701\n",
            "Epoch 17/50\n",
            "314/314 [==============================] - 0s 1ms/step - loss: 6.8917 - mse: 6.8917 - mae: 1.9161\n",
            "Epoch 18/50\n",
            "314/314 [==============================] - 0s 1ms/step - loss: 7.4337 - mse: 7.4337 - mae: 1.9438\n",
            "Epoch 19/50\n",
            "314/314 [==============================] - 0s 1ms/step - loss: 7.3530 - mse: 7.3530 - mae: 1.9095\n",
            "Epoch 20/50\n",
            "314/314 [==============================] - 0s 2ms/step - loss: 7.3619 - mse: 7.3619 - mae: 1.9148\n",
            "Epoch 21/50\n",
            "314/314 [==============================] - 0s 1ms/step - loss: 7.0171 - mse: 7.0171 - mae: 1.9500\n",
            "Epoch 22/50\n",
            "314/314 [==============================] - 0s 1ms/step - loss: 7.0643 - mse: 7.0643 - mae: 1.8828\n",
            "Epoch 23/50\n",
            "314/314 [==============================] - 0s 1ms/step - loss: 7.1139 - mse: 7.1139 - mae: 1.9591\n",
            "Epoch 24/50\n",
            "314/314 [==============================] - 0s 2ms/step - loss: 6.8431 - mse: 6.8431 - mae: 1.8380\n",
            "Epoch 25/50\n",
            "314/314 [==============================] - 0s 1ms/step - loss: 7.3000 - mse: 7.3000 - mae: 1.9642\n",
            "Epoch 26/50\n",
            "314/314 [==============================] - 0s 1ms/step - loss: 6.7782 - mse: 6.7782 - mae: 1.9272\n",
            "Epoch 27/50\n",
            "314/314 [==============================] - 0s 1ms/step - loss: 6.3451 - mse: 6.3451 - mae: 1.7921\n",
            "Epoch 28/50\n",
            "314/314 [==============================] - 0s 1ms/step - loss: 7.1688 - mse: 7.1688 - mae: 1.9188\n",
            "Epoch 29/50\n",
            "314/314 [==============================] - 0s 1ms/step - loss: 6.4880 - mse: 6.4880 - mae: 1.8254\n",
            "Epoch 30/50\n",
            "314/314 [==============================] - 0s 1ms/step - loss: 7.1506 - mse: 7.1506 - mae: 1.8616\n",
            "Epoch 31/50\n",
            "314/314 [==============================] - 0s 1ms/step - loss: 7.0417 - mse: 7.0417 - mae: 1.8838\n",
            "Epoch 32/50\n",
            "314/314 [==============================] - 0s 1ms/step - loss: 6.8774 - mse: 6.8774 - mae: 1.8843\n",
            "Epoch 33/50\n",
            "314/314 [==============================] - 0s 1ms/step - loss: 6.5339 - mse: 6.5339 - mae: 1.8262\n",
            "Epoch 34/50\n",
            "314/314 [==============================] - 0s 1ms/step - loss: 6.8830 - mse: 6.8830 - mae: 1.9079\n",
            "Epoch 35/50\n",
            "314/314 [==============================] - 0s 1ms/step - loss: 5.9106 - mse: 5.9106 - mae: 1.7441\n",
            "Epoch 36/50\n",
            "314/314 [==============================] - 0s 1ms/step - loss: 6.7538 - mse: 6.7538 - mae: 1.8730\n",
            "Epoch 37/50\n",
            "314/314 [==============================] - 0s 1ms/step - loss: 6.3862 - mse: 6.3862 - mae: 1.8019\n",
            "Epoch 38/50\n",
            "314/314 [==============================] - 0s 1ms/step - loss: 6.7957 - mse: 6.7957 - mae: 1.8214\n",
            "Epoch 39/50\n",
            "314/314 [==============================] - 0s 1ms/step - loss: 6.7480 - mse: 6.7480 - mae: 1.8105\n",
            "Epoch 40/50\n",
            "314/314 [==============================] - 0s 1ms/step - loss: 6.1445 - mse: 6.1445 - mae: 1.7677\n",
            "Epoch 41/50\n",
            "314/314 [==============================] - 0s 1ms/step - loss: 6.4284 - mse: 6.4284 - mae: 1.8642\n",
            "Epoch 42/50\n",
            "314/314 [==============================] - 0s 1ms/step - loss: 6.6206 - mse: 6.6206 - mae: 1.8069\n",
            "Epoch 43/50\n",
            "314/314 [==============================] - 0s 1ms/step - loss: 6.3371 - mse: 6.3371 - mae: 1.8208\n",
            "Epoch 44/50\n",
            "314/314 [==============================] - 0s 1ms/step - loss: 6.3315 - mse: 6.3315 - mae: 1.7783\n",
            "Epoch 45/50\n",
            "314/314 [==============================] - 0s 1ms/step - loss: 5.8507 - mse: 5.8507 - mae: 1.7149\n",
            "Epoch 46/50\n",
            "314/314 [==============================] - 0s 1ms/step - loss: 6.7267 - mse: 6.7267 - mae: 1.7913\n",
            "Epoch 47/50\n",
            "314/314 [==============================] - 0s 1ms/step - loss: 6.4348 - mse: 6.4348 - mae: 1.8253\n",
            "Epoch 48/50\n",
            "314/314 [==============================] - 0s 2ms/step - loss: 6.1662 - mse: 6.1662 - mae: 1.7638\n",
            "Epoch 49/50\n",
            "314/314 [==============================] - 0s 1ms/step - loss: 6.3942 - mse: 6.3942 - mae: 1.8127\n",
            "Epoch 50/50\n",
            "314/314 [==============================] - 0s 1ms/step - loss: 6.2804 - mse: 6.2804 - mae: 1.8002\n"
          ],
          "name": "stdout"
        },
        {
          "output_type": "execute_result",
          "data": {
            "text/plain": [
              "<tensorflow.python.keras.callbacks.History at 0x7fa40c56ab50>"
            ]
          },
          "metadata": {
            "tags": []
          },
          "execution_count": 45
        }
      ]
    },
    {
      "cell_type": "code",
      "metadata": {
        "colab": {
          "base_uri": "https://localhost:8080/"
        },
        "id": "TwbJCETho0sJ",
        "outputId": "82f3d0a0-76a8-4a00-c1ef-b79091c58a93"
      },
      "source": [
        "model_a.load_weights('best_ffnn_model.h5')\n",
        "model_a.evaluate(normed_test_data,test_labels)"
      ],
      "execution_count": null,
      "outputs": [
        {
          "output_type": "stream",
          "text": [
            "3/3 [==============================] - 0s 4ms/step - loss: 6.3656 - mse: 6.3656 - mae: 1.9837\n"
          ],
          "name": "stdout"
        },
        {
          "output_type": "execute_result",
          "data": {
            "text/plain": [
              "[6.365559101104736, 6.365559101104736, 1.9837207794189453]"
            ]
          },
          "metadata": {
            "tags": []
          },
          "execution_count": 46
        }
      ]
    },
    {
      "cell_type": "code",
      "metadata": {
        "id": "WJ7-oFooNKdk"
      },
      "source": [
        "normed_train_data_s=np.array(normed_train_data)\n",
        "normed_train_data_s=normed_train_data_s.reshape(314,9,1)\n",
        "normed_test_data_s =np.array(normed_test_data)\n",
        "normed_test_data_s=normed_test_data_s.reshape(78,9,1)"
      ],
      "execution_count": null,
      "outputs": []
    },
    {
      "cell_type": "code",
      "metadata": {
        "colab": {
          "base_uri": "https://localhost:8080/"
        },
        "id": "X04WIDEtwXDT",
        "outputId": "603432ef-a8dc-4906-96b4-5d0b361f5096"
      },
      "source": [
        "mc_cnn=ModelCheckpoint('best_cnn_model.h5',monitor='mse',mode='min',save_best_only=True)\n",
        "model_b=keras.Sequential([\n",
        "                        keras.layers.Conv1D(filters=40,kernel_size=2,activation='relu',input_shape=normed_test_data_s.shape[1:]),\n",
        "                        keras.layers.MaxPooling1D(pool_size=2),\n",
        "                        keras.layers.Conv1D(filters=40,kernel_size=2,activation='relu'),\n",
        "                        keras.layers.MaxPooling1D(pool_size=2),\n",
        "                        keras.layers.Flatten(),\n",
        "                        keras.layers.Dense(50,activation='relu'),\n",
        "                        keras.layers.Dense(1)\n",
        "\n",
        "])\n",
        "\n",
        "model_b.compile(loss='mse',optimizer='adam',metrics=['mse','mae'])\n",
        "model_b.fit(normed_train_data_s,train_labels,batch_size=1, epochs=100,callbacks=[mc_cnn])"
      ],
      "execution_count": null,
      "outputs": [
        {
          "output_type": "stream",
          "text": [
            "Epoch 1/100\n",
            "314/314 [==============================] - 1s 2ms/step - loss: 153.4912 - mse: 153.4912 - mae: 9.1140\n",
            "Epoch 2/100\n",
            "314/314 [==============================] - 1s 2ms/step - loss: 19.4513 - mse: 19.4513 - mae: 3.3964\n",
            "Epoch 3/100\n",
            "314/314 [==============================] - 1s 2ms/step - loss: 15.3886 - mse: 15.3886 - mae: 2.9077\n",
            "Epoch 4/100\n",
            "314/314 [==============================] - 0s 2ms/step - loss: 13.8523 - mse: 13.8523 - mae: 2.8038\n",
            "Epoch 5/100\n",
            "314/314 [==============================] - 0s 2ms/step - loss: 12.7966 - mse: 12.7966 - mae: 2.6097\n",
            "Epoch 6/100\n",
            "314/314 [==============================] - 1s 2ms/step - loss: 12.0596 - mse: 12.0596 - mae: 2.5599\n",
            "Epoch 7/100\n",
            "314/314 [==============================] - 1s 2ms/step - loss: 11.7869 - mse: 11.7869 - mae: 2.4672\n",
            "Epoch 8/100\n",
            "314/314 [==============================] - 0s 2ms/step - loss: 10.0523 - mse: 10.0523 - mae: 2.3444\n",
            "Epoch 9/100\n",
            "314/314 [==============================] - 0s 2ms/step - loss: 10.7466 - mse: 10.7466 - mae: 2.4401\n",
            "Epoch 10/100\n",
            "314/314 [==============================] - 0s 2ms/step - loss: 9.8304 - mse: 9.8304 - mae: 2.3209\n",
            "Epoch 11/100\n",
            "314/314 [==============================] - 0s 2ms/step - loss: 9.4466 - mse: 9.4466 - mae: 2.2692\n",
            "Epoch 12/100\n",
            "314/314 [==============================] - 0s 2ms/step - loss: 9.7189 - mse: 9.7189 - mae: 2.3311\n",
            "Epoch 13/100\n",
            "314/314 [==============================] - 0s 1ms/step - loss: 8.9484 - mse: 8.9484 - mae: 2.1383\n",
            "Epoch 14/100\n",
            "314/314 [==============================] - 0s 2ms/step - loss: 8.5974 - mse: 8.5974 - mae: 2.1789\n",
            "Epoch 15/100\n",
            "314/314 [==============================] - 0s 2ms/step - loss: 9.2313 - mse: 9.2313 - mae: 2.2613\n",
            "Epoch 16/100\n",
            "314/314 [==============================] - 0s 2ms/step - loss: 8.7527 - mse: 8.7527 - mae: 2.1202\n",
            "Epoch 17/100\n",
            "314/314 [==============================] - 0s 2ms/step - loss: 7.8233 - mse: 7.8233 - mae: 2.0393\n",
            "Epoch 18/100\n",
            "314/314 [==============================] - 1s 2ms/step - loss: 8.4141 - mse: 8.4141 - mae: 2.0848\n",
            "Epoch 19/100\n",
            "314/314 [==============================] - 0s 2ms/step - loss: 8.1829 - mse: 8.1829 - mae: 2.0518\n",
            "Epoch 20/100\n",
            "314/314 [==============================] - 0s 2ms/step - loss: 8.2953 - mse: 8.2953 - mae: 2.1274\n",
            "Epoch 21/100\n",
            "314/314 [==============================] - 0s 2ms/step - loss: 8.0508 - mse: 8.0508 - mae: 2.1181\n",
            "Epoch 22/100\n",
            "314/314 [==============================] - 1s 2ms/step - loss: 7.7871 - mse: 7.7871 - mae: 2.0237\n",
            "Epoch 23/100\n",
            "314/314 [==============================] - 1s 2ms/step - loss: 8.0055 - mse: 8.0055 - mae: 2.1467\n",
            "Epoch 24/100\n",
            "314/314 [==============================] - 1s 2ms/step - loss: 7.4872 - mse: 7.4872 - mae: 1.9362\n",
            "Epoch 25/100\n",
            "314/314 [==============================] - 1s 2ms/step - loss: 7.7637 - mse: 7.7637 - mae: 2.0100\n",
            "Epoch 26/100\n",
            "314/314 [==============================] - 1s 2ms/step - loss: 7.5379 - mse: 7.5379 - mae: 2.0092\n",
            "Epoch 27/100\n",
            "314/314 [==============================] - 0s 2ms/step - loss: 7.0208 - mse: 7.0208 - mae: 1.8988\n",
            "Epoch 28/100\n",
            "314/314 [==============================] - 1s 2ms/step - loss: 7.9702 - mse: 7.9702 - mae: 2.0052\n",
            "Epoch 29/100\n",
            "314/314 [==============================] - 1s 2ms/step - loss: 7.1077 - mse: 7.1077 - mae: 1.9371\n",
            "Epoch 30/100\n",
            "314/314 [==============================] - 1s 2ms/step - loss: 8.0702 - mse: 8.0702 - mae: 2.0791\n",
            "Epoch 31/100\n",
            "314/314 [==============================] - 1s 2ms/step - loss: 7.8541 - mse: 7.8541 - mae: 2.0626\n",
            "Epoch 32/100\n",
            "314/314 [==============================] - 1s 2ms/step - loss: 6.9066 - mse: 6.9066 - mae: 1.9247\n",
            "Epoch 33/100\n",
            "314/314 [==============================] - 1s 2ms/step - loss: 7.0310 - mse: 7.0310 - mae: 1.9497\n",
            "Epoch 34/100\n",
            "314/314 [==============================] - 1s 2ms/step - loss: 6.8366 - mse: 6.8366 - mae: 1.9400\n",
            "Epoch 35/100\n",
            "314/314 [==============================] - 1s 2ms/step - loss: 6.7972 - mse: 6.7972 - mae: 1.8576\n",
            "Epoch 36/100\n",
            "314/314 [==============================] - 1s 2ms/step - loss: 7.1173 - mse: 7.1173 - mae: 2.0513\n",
            "Epoch 37/100\n",
            "314/314 [==============================] - 1s 2ms/step - loss: 6.5500 - mse: 6.5500 - mae: 1.8789\n",
            "Epoch 38/100\n",
            "314/314 [==============================] - 0s 2ms/step - loss: 7.0784 - mse: 7.0784 - mae: 1.8914\n",
            "Epoch 39/100\n",
            "314/314 [==============================] - 1s 2ms/step - loss: 7.2680 - mse: 7.2680 - mae: 1.9488\n",
            "Epoch 40/100\n",
            "314/314 [==============================] - 1s 2ms/step - loss: 6.4872 - mse: 6.4872 - mae: 1.8741\n",
            "Epoch 41/100\n",
            "314/314 [==============================] - 0s 2ms/step - loss: 6.9196 - mse: 6.9196 - mae: 2.0105\n",
            "Epoch 42/100\n",
            "314/314 [==============================] - 1s 2ms/step - loss: 7.2946 - mse: 7.2946 - mae: 1.9471\n",
            "Epoch 43/100\n",
            "314/314 [==============================] - 1s 2ms/step - loss: 6.8480 - mse: 6.8480 - mae: 1.8889\n",
            "Epoch 44/100\n",
            "314/314 [==============================] - 1s 2ms/step - loss: 6.3466 - mse: 6.3466 - mae: 1.8183\n",
            "Epoch 45/100\n",
            "314/314 [==============================] - 0s 2ms/step - loss: 6.4741 - mse: 6.4741 - mae: 1.8606\n",
            "Epoch 46/100\n",
            "314/314 [==============================] - 1s 2ms/step - loss: 6.7728 - mse: 6.7728 - mae: 1.8410\n",
            "Epoch 47/100\n",
            "314/314 [==============================] - 0s 2ms/step - loss: 6.7182 - mse: 6.7182 - mae: 1.8882\n",
            "Epoch 48/100\n",
            "314/314 [==============================] - 0s 2ms/step - loss: 6.5086 - mse: 6.5086 - mae: 1.9163\n",
            "Epoch 49/100\n",
            "314/314 [==============================] - 1s 2ms/step - loss: 7.3245 - mse: 7.3245 - mae: 1.9601\n",
            "Epoch 50/100\n",
            "314/314 [==============================] - 0s 2ms/step - loss: 6.5000 - mse: 6.5000 - mae: 1.8545\n",
            "Epoch 51/100\n",
            "314/314 [==============================] - 1s 2ms/step - loss: 6.2927 - mse: 6.2927 - mae: 1.8462\n",
            "Epoch 52/100\n",
            "314/314 [==============================] - 1s 2ms/step - loss: 6.1369 - mse: 6.1369 - mae: 1.8555\n",
            "Epoch 53/100\n",
            "314/314 [==============================] - 1s 2ms/step - loss: 6.3421 - mse: 6.3421 - mae: 1.8702\n",
            "Epoch 54/100\n",
            "314/314 [==============================] - 0s 2ms/step - loss: 6.7878 - mse: 6.7878 - mae: 1.9647\n",
            "Epoch 55/100\n",
            "314/314 [==============================] - 1s 2ms/step - loss: 5.8642 - mse: 5.8642 - mae: 1.8009\n",
            "Epoch 56/100\n",
            "314/314 [==============================] - 1s 2ms/step - loss: 6.5729 - mse: 6.5729 - mae: 1.8949\n",
            "Epoch 57/100\n",
            "314/314 [==============================] - 1s 2ms/step - loss: 6.0108 - mse: 6.0108 - mae: 1.7949\n",
            "Epoch 58/100\n",
            "314/314 [==============================] - 0s 2ms/step - loss: 5.6954 - mse: 5.6954 - mae: 1.7739\n",
            "Epoch 59/100\n",
            "314/314 [==============================] - 0s 2ms/step - loss: 6.8841 - mse: 6.8841 - mae: 1.9274\n",
            "Epoch 60/100\n",
            "314/314 [==============================] - 0s 2ms/step - loss: 6.0114 - mse: 6.0114 - mae: 1.7871\n",
            "Epoch 61/100\n",
            "314/314 [==============================] - 1s 2ms/step - loss: 6.4575 - mse: 6.4575 - mae: 1.8967\n",
            "Epoch 62/100\n",
            "314/314 [==============================] - 0s 2ms/step - loss: 5.8992 - mse: 5.8992 - mae: 1.7716\n",
            "Epoch 63/100\n",
            "314/314 [==============================] - 1s 2ms/step - loss: 6.2977 - mse: 6.2977 - mae: 1.8940\n",
            "Epoch 64/100\n",
            "314/314 [==============================] - 1s 2ms/step - loss: 5.7052 - mse: 5.7052 - mae: 1.7375\n",
            "Epoch 65/100\n",
            "314/314 [==============================] - 0s 2ms/step - loss: 6.0625 - mse: 6.0625 - mae: 1.8339\n",
            "Epoch 66/100\n",
            "314/314 [==============================] - 1s 2ms/step - loss: 6.4964 - mse: 6.4964 - mae: 1.8880\n",
            "Epoch 67/100\n",
            "314/314 [==============================] - 1s 2ms/step - loss: 5.9956 - mse: 5.9956 - mae: 1.7415\n",
            "Epoch 68/100\n",
            "314/314 [==============================] - 1s 2ms/step - loss: 5.5960 - mse: 5.5960 - mae: 1.7105\n",
            "Epoch 69/100\n",
            "314/314 [==============================] - 1s 2ms/step - loss: 5.7288 - mse: 5.7288 - mae: 1.7638\n",
            "Epoch 70/100\n",
            "314/314 [==============================] - 1s 2ms/step - loss: 6.0418 - mse: 6.0418 - mae: 1.7938\n",
            "Epoch 71/100\n",
            "314/314 [==============================] - 1s 2ms/step - loss: 5.5993 - mse: 5.5993 - mae: 1.7100\n",
            "Epoch 72/100\n",
            "314/314 [==============================] - 1s 2ms/step - loss: 6.2754 - mse: 6.2754 - mae: 1.7932\n",
            "Epoch 73/100\n",
            "314/314 [==============================] - 1s 2ms/step - loss: 5.6543 - mse: 5.6543 - mae: 1.7815\n",
            "Epoch 74/100\n",
            "314/314 [==============================] - 1s 2ms/step - loss: 5.7629 - mse: 5.7629 - mae: 1.7483\n",
            "Epoch 75/100\n",
            "314/314 [==============================] - 1s 2ms/step - loss: 5.9253 - mse: 5.9253 - mae: 1.8250\n",
            "Epoch 76/100\n",
            "314/314 [==============================] - 1s 2ms/step - loss: 5.2397 - mse: 5.2397 - mae: 1.7214\n",
            "Epoch 77/100\n",
            "314/314 [==============================] - 1s 2ms/step - loss: 5.9228 - mse: 5.9228 - mae: 1.7177\n",
            "Epoch 78/100\n",
            "314/314 [==============================] - 0s 2ms/step - loss: 5.6966 - mse: 5.6966 - mae: 1.7397\n",
            "Epoch 79/100\n",
            "314/314 [==============================] - 1s 2ms/step - loss: 5.9480 - mse: 5.9480 - mae: 1.7827\n",
            "Epoch 80/100\n",
            "314/314 [==============================] - 0s 2ms/step - loss: 6.2061 - mse: 6.2061 - mae: 1.7975\n",
            "Epoch 81/100\n",
            "314/314 [==============================] - 1s 2ms/step - loss: 5.3212 - mse: 5.3212 - mae: 1.7166\n",
            "Epoch 82/100\n",
            "314/314 [==============================] - 1s 2ms/step - loss: 6.1385 - mse: 6.1385 - mae: 1.8200\n",
            "Epoch 83/100\n",
            "314/314 [==============================] - 1s 2ms/step - loss: 5.8348 - mse: 5.8348 - mae: 1.7471\n",
            "Epoch 84/100\n",
            "314/314 [==============================] - 1s 2ms/step - loss: 5.7542 - mse: 5.7542 - mae: 1.7888\n",
            "Epoch 85/100\n",
            "314/314 [==============================] - 1s 2ms/step - loss: 5.7531 - mse: 5.7531 - mae: 1.7436\n",
            "Epoch 86/100\n",
            "314/314 [==============================] - 1s 2ms/step - loss: 5.3372 - mse: 5.3372 - mae: 1.6973\n",
            "Epoch 87/100\n",
            "314/314 [==============================] - 1s 2ms/step - loss: 5.8450 - mse: 5.8450 - mae: 1.7883\n",
            "Epoch 88/100\n",
            "314/314 [==============================] - 0s 2ms/step - loss: 5.8178 - mse: 5.8178 - mae: 1.7741\n",
            "Epoch 89/100\n",
            "314/314 [==============================] - 1s 2ms/step - loss: 5.3249 - mse: 5.3249 - mae: 1.7523\n",
            "Epoch 90/100\n",
            "314/314 [==============================] - 1s 2ms/step - loss: 5.0725 - mse: 5.0725 - mae: 1.6758\n",
            "Epoch 91/100\n",
            "314/314 [==============================] - 1s 2ms/step - loss: 5.5702 - mse: 5.5702 - mae: 1.7260\n",
            "Epoch 92/100\n",
            "314/314 [==============================] - 1s 2ms/step - loss: 5.5550 - mse: 5.5550 - mae: 1.7622\n",
            "Epoch 93/100\n",
            "314/314 [==============================] - 1s 2ms/step - loss: 5.8400 - mse: 5.8400 - mae: 1.7727\n",
            "Epoch 94/100\n",
            "314/314 [==============================] - 1s 2ms/step - loss: 5.4301 - mse: 5.4301 - mae: 1.6910\n",
            "Epoch 95/100\n",
            "314/314 [==============================] - 1s 2ms/step - loss: 5.0684 - mse: 5.0684 - mae: 1.6790\n",
            "Epoch 96/100\n",
            "314/314 [==============================] - 1s 2ms/step - loss: 5.3817 - mse: 5.3817 - mae: 1.6837\n",
            "Epoch 97/100\n",
            "314/314 [==============================] - 1s 2ms/step - loss: 5.8824 - mse: 5.8824 - mae: 1.8493\n",
            "Epoch 98/100\n",
            "314/314 [==============================] - 1s 2ms/step - loss: 5.4173 - mse: 5.4173 - mae: 1.7203\n",
            "Epoch 99/100\n",
            "314/314 [==============================] - 1s 2ms/step - loss: 5.3068 - mse: 5.3068 - mae: 1.6748\n",
            "Epoch 100/100\n",
            "314/314 [==============================] - 1s 2ms/step - loss: 4.8546 - mse: 4.8546 - mae: 1.5710\n"
          ],
          "name": "stdout"
        },
        {
          "output_type": "execute_result",
          "data": {
            "text/plain": [
              "<tensorflow.python.keras.callbacks.History at 0x7fa407a49c10>"
            ]
          },
          "metadata": {
            "tags": []
          },
          "execution_count": 33
        }
      ]
    },
    {
      "cell_type": "code",
      "metadata": {
        "colab": {
          "base_uri": "https://localhost:8080/"
        },
        "id": "zI__5uGCOn6v",
        "outputId": "67f25ed2-2c99-4045-d38b-3874f06f236c"
      },
      "source": [
        "model_b.load_weights('best_cnn_model.h5')\n",
        "model_b.evaluate(normed_test_data_s,test_labels)"
      ],
      "execution_count": null,
      "outputs": [
        {
          "output_type": "stream",
          "text": [
            "3/3 [==============================] - 0s 4ms/step - loss: 5.7428 - mse: 5.7428 - mae: 1.8501\n"
          ],
          "name": "stdout"
        },
        {
          "output_type": "execute_result",
          "data": {
            "text/plain": [
              "[5.742837905883789, 5.742837429046631, 1.8500958681106567]"
            ]
          },
          "metadata": {
            "tags": []
          },
          "execution_count": 34
        }
      ]
    },
    {
      "cell_type": "markdown",
      "metadata": {
        "id": "GnRdBgu7o8G4"
      },
      "source": [
        "#3) 차량의 헤딩 각도 예측 문제"
      ]
    },
    {
      "cell_type": "code",
      "metadata": {
        "colab": {
          "base_uri": "https://localhost:8080/"
        },
        "id": "88sxuKEKpEmB",
        "outputId": "48520643-ed27-4f37-d046-ab46fdeb3956"
      },
      "source": [
        "tf.random.set_seed(42)\n",
        "\n",
        "file_name = '/content/drive/My Drive/test/result.csv'\n",
        "\n",
        "df = pd.read_csv(file_name)\n",
        "df.info()\n",
        "\n",
        "columns = df.columns.tolist()\n",
        "print(columns)\n",
        "print(df.shape)\n",
        "print(np.shape(columns))"
      ],
      "execution_count": 2,
      "outputs": [
        {
          "output_type": "stream",
          "text": [
            "<class 'pandas.core.frame.DataFrame'>\n",
            "RangeIndex: 43448 entries, 0 to 43447\n",
            "Data columns (total 7 columns):\n",
            " #   Column       Non-Null Count  Dtype  \n",
            "---  ------       --------------  -----  \n",
            " 0   0.001571     43448 non-null  float64\n",
            " 1   -0.49534     43448 non-null  float64\n",
            " 2   1.674719     43448 non-null  float64\n",
            " 3   1.625281     43448 non-null  float64\n",
            " 4   0.970479824  43448 non-null  float64\n",
            " 5   0            43448 non-null  float64\n",
            " 6   0.1          43447 non-null  float64\n",
            "dtypes: float64(7)\n",
            "memory usage: 2.3 MB\n",
            "['0.001571', '-0.49534', '1.674719', '1.625281', '0.970479824', '0', '0.1']\n",
            "(43448, 7)\n",
            "(7,)\n"
          ],
          "name": "stdout"
        }
      ]
    },
    {
      "cell_type": "code",
      "metadata": {
        "id": "lLrmppXbAIrN"
      },
      "source": [
        "df=df.dropna()"
      ],
      "execution_count": 3,
      "outputs": []
    },
    {
      "cell_type": "code",
      "metadata": {
        "colab": {
          "base_uri": "https://localhost:8080/"
        },
        "id": "GpJJnatOpGwe",
        "outputId": "b65c0aed-7d2f-4d46-b7a1-f6a647fa10f6"
      },
      "source": [
        "X1 = np.asarray(df)[:, 1]\n",
        "X2 = np.asarray(df)[:, 4]\n",
        "\n",
        "X = np.vstack((X1,X2)).T\n",
        "Y = np.asarray(df)[:, 5:7]\n",
        "\n",
        "print(\"X.shape: \", X.shape)\n",
        "print(\"Y.shape: \", Y.shape)"
      ],
      "execution_count": 4,
      "outputs": [
        {
          "output_type": "stream",
          "text": [
            "X.shape:  (43447, 2)\n",
            "Y.shape:  (43447, 2)\n"
          ],
          "name": "stdout"
        }
      ]
    },
    {
      "cell_type": "code",
      "metadata": {
        "id": "EWsq_atBpIil"
      },
      "source": [
        "from sklearn import model_selection\n",
        "\n",
        "x_train, x_test, y_train, y_test = model_selection.train_test_split(X, Y, test_size=0.3)"
      ],
      "execution_count": 5,
      "outputs": []
    },
    {
      "cell_type": "markdown",
      "metadata": {
        "id": "P5BoX9GfjBmx"
      },
      "source": [
        "**해당 문제에서는 모델을 제공하지 않습니다.**\n",
        "\n",
        "어떠한 모델을 사용하셔도 좋습니다. (FCNN등등)\n",
        "\n",
        "1개의 모델을 만들어 mse가 4.5 이하가 되도록 모델 성능을 조절해 주세요.\n",
        "\n",
        "마지막으로 y_test와 y_predict를 plot해주세요. "
      ]
    },
    {
      "cell_type": "code",
      "metadata": {
        "colab": {
          "base_uri": "https://localhost:8080/"
        },
        "id": "wy8a13vziOQH",
        "outputId": "3db65108-c875-4940-f948-b3398f8f823f"
      },
      "source": [
        "mc_l=ModelCheckpoint('best_l_model.h5',monitor='mse',mode='min',save_best_only=True)\n",
        "model_l=keras.Sequential([\n",
        "                        keras.layers.Dense(64,activation='relu',input_shape=x_train.shape[1:]),\n",
        "                        keras.layers.Dense(64,activation='relu'),\n",
        "                        keras.layers.Dense(32,activation='relu'),\n",
        "                        keras.layers.Dense(16,activation='relu'),\n",
        "                        keras.layers.Dense(2)\n",
        "])\n",
        "model_l.compile(loss='mse',optimizer='adam',metrics=['mse','acc'])\n",
        "model_l.fit(x_train,y_train, epochs=10,callbacks=[mc_l])"
      ],
      "execution_count": 8,
      "outputs": [
        {
          "output_type": "stream",
          "text": [
            "Epoch 1/10\n",
            "951/951 [==============================] - 15s 1ms/step - loss: 2.0527 - mse: 2.0527 - acc: 0.9693\n",
            "Epoch 2/10\n",
            "951/951 [==============================] - 1s 2ms/step - loss: 0.7739 - mse: 0.7739 - acc: 0.9717\n",
            "Epoch 3/10\n",
            "951/951 [==============================] - 1s 1ms/step - loss: 0.6566 - mse: 0.6566 - acc: 0.9750\n",
            "Epoch 4/10\n",
            "951/951 [==============================] - 1s 1ms/step - loss: 0.5260 - mse: 0.5260 - acc: 0.9754\n",
            "Epoch 5/10\n",
            "951/951 [==============================] - 1s 1ms/step - loss: 0.5937 - mse: 0.5937 - acc: 0.9747\n",
            "Epoch 6/10\n",
            "951/951 [==============================] - 1s 1ms/step - loss: 0.4897 - mse: 0.4897 - acc: 0.9757\n",
            "Epoch 7/10\n",
            "951/951 [==============================] - 1s 2ms/step - loss: 0.4429 - mse: 0.4429 - acc: 0.9775\n",
            "Epoch 8/10\n",
            "951/951 [==============================] - 1s 2ms/step - loss: 0.4049 - mse: 0.4049 - acc: 0.9789\n",
            "Epoch 9/10\n",
            "951/951 [==============================] - 1s 2ms/step - loss: 0.4634 - mse: 0.4634 - acc: 0.9780\n",
            "Epoch 10/10\n",
            "951/951 [==============================] - 1s 1ms/step - loss: 0.4274 - mse: 0.4274 - acc: 0.9780\n"
          ],
          "name": "stdout"
        },
        {
          "output_type": "execute_result",
          "data": {
            "text/plain": [
              "<keras.callbacks.History at 0x7f79a1e85ed0>"
            ]
          },
          "metadata": {
            "tags": []
          },
          "execution_count": 8
        }
      ]
    },
    {
      "cell_type": "code",
      "metadata": {
        "colab": {
          "base_uri": "https://localhost:8080/"
        },
        "id": "1KGbu0Zr-6vl",
        "outputId": "ff21b1d7-3d13-4a4f-de5d-d15558305406"
      },
      "source": [
        "model_l.load_weights('best_l_model.h5')\n",
        "model_l.evaluate(x_test,y_test)"
      ],
      "execution_count": 9,
      "outputs": [
        {
          "output_type": "stream",
          "text": [
            "408/408 [==============================] - 1s 1ms/step - loss: 0.4942 - mse: 0.4942 - acc: 0.9786\n"
          ],
          "name": "stdout"
        },
        {
          "output_type": "execute_result",
          "data": {
            "text/plain": [
              "[0.4942069351673126, 0.4942069351673126, 0.9785960912704468]"
            ]
          },
          "metadata": {
            "tags": []
          },
          "execution_count": 9
        }
      ]
    },
    {
      "cell_type": "code",
      "metadata": {
        "id": "w2Lnrno2BwJP"
      },
      "source": [
        "pred_m=model_l.predict(x_test)\n",
        "\n",
        "pred0=[]\n",
        "pred1=[]\n",
        "actual0=[]\n",
        "actual1=[]\n",
        "for i in range(13035):\n",
        "  pred0.append(pred_m[i][0])\n",
        "  pred1.append(pred_m[i][1])\n",
        "  actual0.append(y_test[i][0])\n",
        "  actual1.append(y_test[i][1])"
      ],
      "execution_count": 10,
      "outputs": []
    },
    {
      "cell_type": "code",
      "metadata": {
        "colab": {
          "base_uri": "https://localhost:8080/",
          "height": 536
        },
        "id": "g6Xt2l7A_HZw",
        "outputId": "9d679bcf-2382-4a68-82e9-da9c100c036a"
      },
      "source": [
        "\n",
        "plt.figure(figsize=(12, 9))\n",
        "plt.plot(pred0[:100],'blue',label='prediction0')\n",
        "plt.plot(pred1[:100],'blue',label='prediction1')\n",
        "plt.plot(actual0[:100],'red',label='actual0')\n",
        "plt.plot(actual1[:100],'red',label='actual1')\n",
        "plt.legend(loc='upper right')\n",
        "plt.show()"
      ],
      "execution_count": 11,
      "outputs": [
        {
          "output_type": "display_data",
          "data": {
            "image/png": "[encoded data removed]",
            "text/plain": [
              "<Figure size 864x648 with 1 Axes>"
            ]
          },
          "metadata": {
            "tags": [],
            "needs_background": "light"
          }
        }
      ]
    }
  ]
}