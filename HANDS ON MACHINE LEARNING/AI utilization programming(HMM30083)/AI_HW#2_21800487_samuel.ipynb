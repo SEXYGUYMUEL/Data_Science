{
 "cells": [
  {
   "cell_type": "markdown",
   "metadata": {},
   "source": [
    "# HW #2 -21800487\n",
    "\n",
    "*필요한 최소한의 모듈은 모두 import 했습니다. 추가로 필요한 모듈이 있다면 임의로 추가하셔도 됩니다.*\n",
    "\n",
    "만약 모듈이 설치되어 있지 않다면\n",
    "!pip install\n",
    "을 사용하여 설치해 주세요"
   ]
  },
  {
   "cell_type": "markdown",
   "metadata": {},
   "source": [
    "이번 과제에서는 첫째로 HW #1 에서 사용한 데이터를 가지고, 분류하고 학습을 통해 class를 예측하는 것이 목표입니다."
   ]
  },
  {
   "cell_type": "code",
   "execution_count": 18,
   "metadata": {},
   "outputs": [],
   "source": [
    "## Data Import\n",
    "\n",
    "import matplotlib.pyplot as plt\n",
    "import numpy as np\n",
    "import pandas as pd\n",
    "import seaborn as sns\n",
    "import time\n",
    "\n",
    "from sklearn.datasets import load_iris\n",
    "from sklearn.model_selection import train_test_split\n",
    "from sklearn.preprocessing import StandardScaler\n",
    "from sklearn.metrics import accuracy_score\n",
    "from sklearn.ensemble import RandomForestClassifier\n",
    "from sklearn.linear_model import LogisticRegression\n",
    "from sklearn.linear_model import RidgeClassifier\n",
    "from sklearn.metrics import mean_squared_error\n",
    "\n",
    "\n",
    "\n",
    "%matplotlib inline\n",
    "\n",
    "iris = load_iris()"
   ]
  },
  {
   "cell_type": "code",
   "execution_count": 19,
   "metadata": {},
   "outputs": [
    {
     "name": "stdout",
     "output_type": "stream",
     "text": [
      "train size: 120\n",
      "test size: 30\n"
     ]
    }
   ],
   "source": [
    "#1 학습을 진행하기 위해선 train_set 와 test_set으로 나누어야 합니다.\n",
    "# test_size 는 0.2, random_state 는 1로 진행해주세요\n",
    "X = iris.data\n",
    "y = iris.target\n",
    "\n",
    "# your code here\n",
    "\n",
    "X_train, X_test, y_train, y_test = train_test_split(X,y,\n",
    "                                                    test_size=0.2,\n",
    "                                                    random_state=1)\n",
    "\n",
    "print(\"train size: %d\\ntest size: %d\"%(X_train.shape[0], X_test.shape[0]))\n"
   ]
  },
  {
   "cell_type": "code",
   "execution_count": 20,
   "metadata": {},
   "outputs": [
    {
     "name": "stdout",
     "output_type": "stream",
     "text": [
      "The accuracy : 1.000\n"
     ]
    }
   ],
   "source": [
    "#2 사이킷런에서는 다양한 모델을 제공합니다.\n",
    "# 여기에선 RandomForestClassifier 를 사용하겠습니다.\n",
    "# your code here\n",
    "\n",
    "rnd = RandomForestClassifier()\n",
    "rnd.fit(X_train,y_train)\n",
    "score=rnd.score(X_train,y_train)\n",
    "\n",
    "print('The accuracy : {:.3f}'.format(score))"
   ]
  },
  {
   "cell_type": "code",
   "execution_count": 21,
   "metadata": {},
   "outputs": [
    {
     "name": "stdout",
     "output_type": "stream",
     "text": [
      "The accuracy : 0.967\n"
     ]
    }
   ],
   "source": [
    "#3 train에서 만족스러운 score가 나왔습니다.\n",
    "# test_set에서 한번 확인해 보세요\n",
    "#your code here\n",
    "\n",
    "\n",
    "score=rnd.score(X_test,y_test)\n",
    "\n",
    "print('The accuracy : {:.3f}'.format(score))\n"
   ]
  },
  {
   "cell_type": "markdown",
   "metadata": {},
   "source": [
    "두번째로는 로지스틱 회기중 L1과 L2의 차이를 알아보는 것이 목표입니다."
   ]
  },
  {
   "cell_type": "code",
   "execution_count": 22,
   "metadata": {},
   "outputs": [],
   "source": [
    "## Data Import\n",
    "\n",
    "from sklearn.datasets import fetch_openml\n",
    "\n",
    "from sklearn.linear_model import Ridge\n",
    "from sklearn.linear_model import Lasso\n",
    "\n",
    "MNIST = fetch_openml('mnist_784', version=1)"
   ]
  },
  {
   "cell_type": "code",
   "execution_count": 37,
   "metadata": {},
   "outputs": [
    {
     "name": "stdout",
     "output_type": "stream",
     "text": [
      "(3000, 784) (2000, 784)\n"
     ]
    }
   ],
   "source": [
    "#4 학습을 진행하기 위해선 train_set 와 test_set으로 나누어야 합니다.\n",
    "# train_size = 3000, test_size = 2000, random_state = 1 로 진행해주세요.\n",
    "# your code here\n",
    "\n",
    "X, y= MNIST.data, MNIST.target\n",
    "\n",
    "X_train, X_test, y_train, y_test = train_test_split(X,y,train_size=3000,\n",
    "                                                   test_size=2000,\n",
    "                                                   random_state=1)\n",
    "print(X_train.shape, X_test.shape)"
   ]
  },
  {
   "cell_type": "code",
   "execution_count": 38,
   "metadata": {},
   "outputs": [
    {
     "name": "stdout",
     "output_type": "stream",
     "text": [
      "mean: -2.1449206734254724e-19, std: 0.9091372900969907\n",
      "\n",
      "\n"
     ]
    }
   ],
   "source": [
    "#5 입력의 스케일을 조정하면 모델의 성능을 향상시킬 수 있습니다.\n",
    "# StandarScaler를 이용해주세요.\n",
    "# your code here\n",
    "\n",
    "scaler = StandardScaler()\n",
    "X_train_scaled=scaler.fit_transform(X_train)\n",
    "X_test_scaled=scaler.transform(X_test)\n",
    "print(\"mean: {}, std: {}\\n\\n\".format(X_train_scaled.mean(), X_train_scaled.std()))"
   ]
  },
  {
   "cell_type": "code",
   "execution_count": 39,
   "metadata": {},
   "outputs": [
    {
     "name": "stdout",
     "output_type": "stream",
     "text": [
      "(3000, 784) (2000, 784)\n",
      "Test score with L1 penalty: 0.8710\n"
     ]
    },
    {
     "data": {
      "image/png": "[encoded data removed]",
      "text/plain": [
       "<Figure size 720x360 with 10 Axes>"
      ]
     },
     "metadata": {},
     "output_type": "display_data"
    }
   ],
   "source": [
    "#6 L1에 대해 먼저 확인해 보겠습니다.\n",
    "# plot은 coeffecient를 각 class 별로 분류하여 plot한 것입니다.\n",
    "#your code here\n",
    "\n",
    "log_l1 = LogisticRegression(random_state=0, penalty='l1', C=1, tol=0.1,solver='saga', multi_class='multinomial')\n",
    "\n",
    "print(X_train_scaled.shape, X_test_scaled.shape)\n",
    "\n",
    "log_l1.fit(X_train_scaled,y_train)\n",
    "score=log_l1.score(X_test_scaled,y_test)\n",
    "print(\"Test score with L1 penalty: %.4f\" % score)\n",
    "\n",
    "coef = log_l1.coef_\n",
    "plt.figure(figsize=(10,5))\n",
    "scale = np.abs(coef).max()\n",
    "for i in range(10):\n",
    "    l1_plot = plt.subplot(2,5, i + 1)\n",
    "    l1_plot.imshow(coef[i].reshape(28,28),interpolation='nearest',cmap=plt.cm.seismic,vmin=-scale,vmax=scale)\n",
    "    l1_plot.set_xticks(())\n",
    "    l1_plot.set_yticks(())\n",
    "    l1_plot.set_xlabel('Class %i' %i)\n",
    "plt.suptitle('Classification vector for...')\n",
    "\n",
    "plt.show()"
   ]
  },
  {
   "cell_type": "code",
   "execution_count": 40,
   "metadata": {},
   "outputs": [
    {
     "name": "stdout",
     "output_type": "stream",
     "text": [
      "Test score with L2 penalty: 0.8760\n"
     ]
    },
    {
     "data": {
      "image/png": "[encoded data removed]",
      "text/plain": [
       "<Figure size 720x360 with 10 Axes>"
      ]
     },
     "metadata": {},
     "output_type": "display_data"
    }
   ],
   "source": [
    "#7 L2에 대해 확인해 보겠습니다.\n",
    "#your code here\n",
    "\n",
    "log_l2 = LogisticRegression(solver='lbfgs', multi_class='multinomial', max_iter=300, tol=0.1)\n",
    "log_l2.fit(X_train_scaled,y_train)\n",
    "score=log_l2.score(X_test_scaled,y_test)\n",
    "\n",
    "print(\"Test score with L2 penalty: %.4f\" % score)\n",
    "\n",
    "coef = log_l2.coef_\n",
    "plt.figure(figsize=(10, 5))\n",
    "scale = np.abs(coef).max()\n",
    "for i in range(10):\n",
    "    l1_plot = plt.subplot(2, 5, i + 1)\n",
    "    l1_plot.imshow(coef[i].reshape(28,28),interpolation='nearest',cmap=plt.cm.seismic,vmin=-scale,vmax=scale)\n",
    "    l1_plot.set_xticks(())\n",
    "    l1_plot.set_yticks(())\n",
    "    l1_plot.set_xlabel('Class %i' % i)\n",
    "plt.suptitle('Classification vector for...')\n",
    "\n",
    "\n",
    "plt.show()"
   ]
  },
  {
   "cell_type": "markdown",
   "metadata": {},
   "source": [
    "#8 L1과 L2의 차이에 대해 간력하게 설명해 주세요.\n",
    "\n",
    "\n",
    "l1, l2 모두 과적합을 막기위한 정규화방법으로 사용되며,\n",
    "l1(라쏘회귀)은 변수선택이 가능하고, 명시해가 없으며, 비중요 변수를 우선적으로 줄인다. Unstable solution, 변수간 상관관계가 높으면 성능이 저하된다.\n",
    "비용함수에 가중치 파라미터의 절댓값을 모두 더한 형태\n",
    "\n",
    "l2(릿지회귀)는 변수선택이 불가능하고 closed form의 solution이 존재하며, 크기가 큰 변수를 우선적으로 줄인다. 변수간 상관관계가 높아도 좋은 성능을 보인다. \n",
    "stable solution. 비용함수에 가중치 파라미터의 제곱을 모두 더한 형태\n",
    "\n",
    "\n"
   ]
  },
  {
   "cell_type": "markdown",
   "metadata": {},
   "source": [
    "두번째로 책에 나온 캘리포니아 주택 가격 데이터 셋을 이용하여 SVM 회귀를 훈련시키는 것이 목표입니다."
   ]
  },
  {
   "cell_type": "code",
   "execution_count": 10,
   "metadata": {},
   "outputs": [
    {
     "name": "stdout",
     "output_type": "stream",
     "text": [
      ".. _california_housing_dataset:\n",
      "\n",
      "California Housing dataset\n",
      "--------------------------\n",
      "\n",
      "**Data Set Characteristics:**\n",
      "\n",
      "    :Number of Instances: 20640\n",
      "\n",
      "    :Number of Attributes: 8 numeric, predictive attributes and the target\n",
      "\n",
      "    :Attribute Information:\n",
      "        - MedInc        median income in block\n",
      "        - HouseAge      median house age in block\n",
      "        - AveRooms      average number of rooms\n",
      "        - AveBedrms     average number of bedrooms\n",
      "        - Population    block population\n",
      "        - AveOccup      average house occupancy\n",
      "        - Latitude      house block latitude\n",
      "        - Longitude     house block longitude\n",
      "\n",
      "    :Missing Attribute Values: None\n",
      "\n",
      "This dataset was obtained from the StatLib repository.\n",
      "http://lib.stat.cmu.edu/datasets/\n",
      "\n",
      "The target variable is the median house value for California districts.\n",
      "\n",
      "This dataset was derived from the 1990 U.S. census, using one row per census\n",
      "block group. A block group is the smallest geographical unit for which the U.S.\n",
      "Census Bureau publishes sample data (a block group typically has a population\n",
      "of 600 to 3,000 people).\n",
      "\n",
      "It can be downloaded/loaded using the\n",
      ":func:`sklearn.datasets.fetch_california_housing` function.\n",
      "\n",
      ".. topic:: References\n",
      "\n",
      "    - Pace, R. Kelley and Ronald Barry, Sparse Spatial Autoregressions,\n",
      "      Statistics and Probability Letters, 33 (1997) 291-297\n",
      "\n"
     ]
    }
   ],
   "source": [
    "## Data import\n",
    "\n",
    "from sklearn.datasets import fetch_california_housing\n",
    "\n",
    "housing = fetch_california_housing()\n",
    "print(housing.DESCR)\n",
    "X = housing.data\n",
    "y = housing.target"
   ]
  },
  {
   "cell_type": "code",
   "execution_count": 11,
   "metadata": {},
   "outputs": [
    {
     "name": "stdout",
     "output_type": "stream",
     "text": [
      "train size: 16512\n",
      "test size: 4128\n"
     ]
    }
   ],
   "source": [
    "#9 학습을 진행하기 위해선 train_set 와 test_set으로 나누어야 합니다.\n",
    "# test_size 는 0.2, random_state 는 1로 진행해주세요\n",
    "# your code here\n",
    "\n",
    "X_train, X_test, y_train, y_test = train_test_split(X,y,\n",
    "                                                   test_size=0.2,\n",
    "                                                   random_state=1)\n",
    "print(\"train size: %d\\ntest size: %d\"%(X_train.shape[0], X_test.shape[0]))\n"
   ]
  },
  {
   "cell_type": "code",
   "execution_count": 12,
   "metadata": {},
   "outputs": [
    {
     "name": "stdout",
     "output_type": "stream",
     "text": [
      "mean: -3.351485755587191e-14, std: 0.9999999999999996\n",
      "\n",
      "\n"
     ]
    }
   ],
   "source": [
    "#10 입력의 스케일을 조정하면 모델의 성능을 향상시킬 수 있습니다.\n",
    "# StandarScaler를 이용해주세요\n",
    "# your code here\n",
    "\n",
    "X_train_scaled=scaler.fit_transform(X_train)\n",
    "X_test_scaled=scaler.transform(X_test)\n",
    "\n",
    "print(\"mean: {}, std: {}\\n\\n\".format(X_train_scaled.mean(), X_train_scaled.std()))"
   ]
  },
  {
   "cell_type": "code",
   "execution_count": 14,
   "metadata": {},
   "outputs": [
    {
     "name": "stdout",
     "output_type": "stream",
     "text": [
      "Fitting 2 folds for each of 8 candidates, totalling 16 fits\n",
      "[CV] gamma=0.07, kernel=linear .......................................\n"
     ]
    },
    {
     "name": "stderr",
     "output_type": "stream",
     "text": [
      "[Parallel(n_jobs=1)]: Using backend SequentialBackend with 1 concurrent workers.\n"
     ]
    },
    {
     "name": "stdout",
     "output_type": "stream",
     "text": [
      "[CV] ........................ gamma=0.07, kernel=linear, total=  10.6s\n",
      "[CV] gamma=0.07, kernel=linear .......................................\n"
     ]
    },
    {
     "name": "stderr",
     "output_type": "stream",
     "text": [
      "[Parallel(n_jobs=1)]: Done   1 out of   1 | elapsed:   10.5s remaining:    0.0s\n"
     ]
    },
    {
     "name": "stdout",
     "output_type": "stream",
     "text": [
      "[CV] ........................ gamma=0.07, kernel=linear, total=  12.0s\n",
      "[CV] gamma=0.07, kernel=poly .........................................\n",
      "[CV] .......................... gamma=0.07, kernel=poly, total=  23.2s\n",
      "[CV] gamma=0.07, kernel=poly .........................................\n",
      "[CV] .......................... gamma=0.07, kernel=poly, total=  27.6s\n",
      "[CV] gamma=0.07, kernel=rbf ..........................................\n",
      "[CV] ........................... gamma=0.07, kernel=rbf, total=   7.3s\n",
      "[CV] gamma=0.07, kernel=rbf ..........................................\n",
      "[CV] ........................... gamma=0.07, kernel=rbf, total=   7.5s\n",
      "[CV] gamma=0.07, kernel=sigmoid ......................................\n",
      "[CV] ....................... gamma=0.07, kernel=sigmoid, total=  11.7s\n",
      "[CV] gamma=0.07, kernel=sigmoid ......................................\n",
      "[CV] ....................... gamma=0.07, kernel=sigmoid, total=  11.2s\n",
      "[CV] gamma=0.08, kernel=linear .......................................\n",
      "[CV] ........................ gamma=0.08, kernel=linear, total=   9.7s\n",
      "[CV] gamma=0.08, kernel=linear .......................................\n",
      "[CV] ........................ gamma=0.08, kernel=linear, total=  10.0s\n",
      "[CV] gamma=0.08, kernel=poly .........................................\n",
      "[CV] .......................... gamma=0.08, kernel=poly, total=  49.7s\n",
      "[CV] gamma=0.08, kernel=poly .........................................\n",
      "[CV] .......................... gamma=0.08, kernel=poly, total=  29.8s\n",
      "[CV] gamma=0.08, kernel=rbf ..........................................\n",
      "[CV] ........................... gamma=0.08, kernel=rbf, total=   7.2s\n",
      "[CV] gamma=0.08, kernel=rbf ..........................................\n",
      "[CV] ........................... gamma=0.08, kernel=rbf, total=   7.4s\n",
      "[CV] gamma=0.08, kernel=sigmoid ......................................\n",
      "[CV] ....................... gamma=0.08, kernel=sigmoid, total=  11.7s\n",
      "[CV] gamma=0.08, kernel=sigmoid ......................................\n",
      "[CV] ....................... gamma=0.08, kernel=sigmoid, total=  11.0s\n"
     ]
    },
    {
     "name": "stderr",
     "output_type": "stream",
     "text": [
      "[Parallel(n_jobs=1)]: Done  16 out of  16 | elapsed:  4.1min finished\n"
     ]
    },
    {
     "name": "stdout",
     "output_type": "stream",
     "text": [
      "Best params are :  {'gamma': 0.08, 'kernel': 'rbf'}\n"
     ]
    }
   ],
   "source": [
    "#11 모델의 하이퍼파라미터 튜닝을 위해 GridSearchCV를 활용하세요.\n",
    "# 컴퓨터 사양에 따라 시간이 오래 걸릴 수 있습니다.\n",
    "# cv 의 값과 verbose 의 값을 크게해도 상관없지만 3 이상은 추천하지 않습니다.\n",
    "# GridSearchCV의 결과로 나온 best 파라미터를 출력하세요.\n",
    "\n",
    "from sklearn.svm import SVR\n",
    "from sklearn.model_selection import GridSearchCV\n",
    "from sklearn.metrics import mean_squared_error\n",
    "\n",
    "param = {'kernel': ['linear','poly','rbf','sigmoid'],'gamma':[0.07, 0.08]}\n",
    "\n",
    "# your code here\n",
    "svr=SVR()\n",
    "svr_grid = GridSearchCV(svr,param_grid=param,cv=2,scoring='neg_mean_squared_error',verbose=2)\n",
    "svr_grid.fit(X_train_scaled, y_train)\n",
    "y_pred = svr_grid.predict(X_test_scaled)\n",
    "best_params = svr_grid.best_params_\n",
    "print('Best params are : ', best_params)"
   ]
  },
  {
   "cell_type": "code",
   "execution_count": 15,
   "metadata": {},
   "outputs": [
    {
     "name": "stdout",
     "output_type": "stream",
     "text": [
      "mse : 0.3682475770571584\n"
     ]
    }
   ],
   "source": [
    "#12 훈련시킨 모델의 mse 값을 출력하세요\n",
    "# 점수가 출력창과 다를 수 있습니다.\n",
    "# your code here\n",
    "\n",
    "mse=mean_squared_error(y_test,y_pred)\n",
    "print('mse :', mse)"
   ]
  }
 ],
 "metadata": {
  "kernelspec": {
   "display_name": "Python 3",
   "language": "python",
   "name": "python3"
  },
  "language_info": {
   "codemirror_mode": {
    "name": "ipython",
    "version": 3
   },
   "file_extension": ".py",
   "mimetype": "text/x-python",
   "name": "python",
   "nbconvert_exporter": "python",
   "pygments_lexer": "ipython3",
   "version": "3.8.5"
  }
 },
 "nbformat": 4,
 "nbformat_minor": 5
}
